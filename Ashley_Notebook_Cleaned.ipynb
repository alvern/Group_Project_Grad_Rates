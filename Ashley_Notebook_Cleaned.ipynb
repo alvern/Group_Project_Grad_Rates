{
 "cells": [
  {
   "cell_type": "code",
<<<<<<< HEAD
=======
<<<<<<< HEAD
=======
<<<<<<< HEAD
   "execution_count": 22,
   "metadata": {},
   "outputs": [],
   "source": [
    "import pandas as pd"
=======
>>>>>>> f32c07fdabd952b1ad2c4fd1e6faec74f276e45a
>>>>>>> master
   "execution_count": null,
   "metadata": {},
   "outputs": [],
   "source": [
    "#%matplotlib notebook"
<<<<<<< HEAD
=======
<<<<<<< HEAD
=======
>>>>>>> Ashley
>>>>>>> f32c07fdabd952b1ad2c4fd1e6faec74f276e45a
>>>>>>> master
   ]
  },
  {
   "cell_type": "code",
   "execution_count": 23,
   "metadata": {},
<<<<<<< HEAD
=======
<<<<<<< HEAD
=======
<<<<<<< HEAD
=======
>>>>>>> f32c07fdabd952b1ad2c4fd1e6faec74f276e45a
>>>>>>> master
   "outputs": [],
   "source": [
    "import pandas as pd\n",
    "import numpy as np\n",
    "import matplotlib.pyplot as plt\n",
    "import warnings\n",
    "warnings.filterwarnings('ignore')"
   ]
  },
  {
   "cell_type": "code",
   "execution_count": 20,
   "metadata": {},
<<<<<<< HEAD
=======
<<<<<<< HEAD
=======
>>>>>>> Ashley
>>>>>>> f32c07fdabd952b1ad2c4fd1e6faec74f276e45a
>>>>>>> master
   "outputs": [
    {
     "data": {
      "text/html": [
       "<div>\n",
       "<style scoped>\n",
       "    .dataframe tbody tr th:only-of-type {\n",
       "        vertical-align: middle;\n",
       "    }\n",
       "\n",
       "    .dataframe tbody tr th {\n",
       "        vertical-align: top;\n",
       "    }\n",
       "\n",
       "    .dataframe thead th {\n",
       "        text-align: right;\n",
       "    }\n",
       "</style>\n",
       "<table border=\"1\" class=\"dataframe\">\n",
       "  <thead>\n",
       "    <tr style=\"text-align: right;\">\n",
       "      <th>3</th>\n",
       "      <th>Data\n",
       "Year</th>\n",
       "      <th>District\n",
       "Number</th>\n",
       "      <th>District\n",
       "Type</th>\n",
       "      <th>District\n",
       "Name</th>\n",
       "      <th>School\n",
       "Number</th>\n",
       "      <th>School\n",
       "Name</th>\n",
       "      <th>Demographic\n",
       "Category</th>\n",
       "      <th>Demographic\n",
       "Description</th>\n",
       "      <th>Ending\n",
       "Status</th>\n",
       "      <th>Four \n",
       "Year Count</th>\n",
       "      <th>...</th>\n",
       "      <th>Five \n",
       "Year Percent</th>\n",
       "      <th>Six \n",
       "Year Count</th>\n",
       "      <th>Six \n",
       "Year Total</th>\n",
       "      <th>Six \n",
       "Year Percent</th>\n",
       "      <th>Seven \n",
       "Year Count</th>\n",
       "      <th>Seven \n",
       "Year Total</th>\n",
       "      <th>Seven \n",
       "Year Percent</th>\n",
       "      <th>School \n",
       "Classification</th>\n",
       "      <th>School\n",
       "County\n",
       "Number</th>\n",
       "      <th>School\n",
       "County\n",
       "Name</th>\n",
       "    </tr>\n",
       "  </thead>\n",
       "  <tbody>\n",
       "    <tr>\n",
       "      <th>4</th>\n",
       "      <td>17-18</td>\n",
       "      <td>0001</td>\n",
       "      <td>01</td>\n",
       "      <td>Aitkin Public School District</td>\n",
       "      <td>001</td>\n",
       "      <td>Aitkin Secondary School</td>\n",
       "      <td>A</td>\n",
       "      <td>All Students</td>\n",
       "      <td>Graduate</td>\n",
       "      <td>79</td>\n",
       "      <td>...</td>\n",
       "      <td>95.65</td>\n",
       "      <td>93</td>\n",
       "      <td>99</td>\n",
       "      <td>93.94</td>\n",
       "      <td>80</td>\n",
       "      <td>88</td>\n",
       "      <td>90.91</td>\n",
       "      <td>33</td>\n",
       "      <td>01</td>\n",
       "      <td>Aitkin</td>\n",
       "    </tr>\n",
       "    <tr>\n",
       "      <th>5</th>\n",
       "      <td>17-18</td>\n",
       "      <td>0001</td>\n",
       "      <td>01</td>\n",
       "      <td>Aitkin Public School District</td>\n",
       "      <td>001</td>\n",
       "      <td>Aitkin Secondary School</td>\n",
       "      <td>A</td>\n",
       "      <td>All Students</td>\n",
       "      <td>Drop Out</td>\n",
       "      <td>4</td>\n",
       "      <td>...</td>\n",
       "      <td>3.26</td>\n",
       "      <td>6</td>\n",
       "      <td>99</td>\n",
       "      <td>6.06</td>\n",
       "      <td>6</td>\n",
       "      <td>88</td>\n",
       "      <td>6.82</td>\n",
       "      <td>33</td>\n",
       "      <td>01</td>\n",
       "      <td>Aitkin</td>\n",
       "    </tr>\n",
       "    <tr>\n",
       "      <th>6</th>\n",
       "      <td>17-18</td>\n",
       "      <td>0001</td>\n",
       "      <td>01</td>\n",
       "      <td>Aitkin Public School District</td>\n",
       "      <td>001</td>\n",
       "      <td>Aitkin Secondary School</td>\n",
       "      <td>A</td>\n",
       "      <td>All Students</td>\n",
       "      <td>Continuing</td>\n",
       "      <td>2</td>\n",
       "      <td>...</td>\n",
       "      <td>0</td>\n",
       "      <td>0</td>\n",
       "      <td>99</td>\n",
       "      <td>0</td>\n",
       "      <td>0</td>\n",
       "      <td>88</td>\n",
       "      <td>0</td>\n",
       "      <td>33</td>\n",
       "      <td>01</td>\n",
       "      <td>Aitkin</td>\n",
       "    </tr>\n",
       "    <tr>\n",
       "      <th>7</th>\n",
       "      <td>17-18</td>\n",
       "      <td>0001</td>\n",
       "      <td>01</td>\n",
       "      <td>Aitkin Public School District</td>\n",
       "      <td>001</td>\n",
       "      <td>Aitkin Secondary School</td>\n",
       "      <td>A</td>\n",
       "      <td>All Students</td>\n",
       "      <td>Unknown</td>\n",
       "      <td>2</td>\n",
       "      <td>...</td>\n",
       "      <td>1.09</td>\n",
       "      <td>0</td>\n",
       "      <td>99</td>\n",
       "      <td>0</td>\n",
       "      <td>2</td>\n",
       "      <td>88</td>\n",
       "      <td>2.27</td>\n",
       "      <td>33</td>\n",
       "      <td>01</td>\n",
       "      <td>Aitkin</td>\n",
       "    </tr>\n",
       "    <tr>\n",
       "      <th>8</th>\n",
       "      <td>17-18</td>\n",
       "      <td>0001</td>\n",
       "      <td>01</td>\n",
       "      <td>Aitkin Public School District</td>\n",
       "      <td>001</td>\n",
       "      <td>Aitkin Secondary School</td>\n",
       "      <td>G</td>\n",
       "      <td>White Students</td>\n",
       "      <td>Graduate</td>\n",
       "      <td>72</td>\n",
       "      <td>...</td>\n",
       "      <td>96.47</td>\n",
       "      <td>92</td>\n",
       "      <td>98</td>\n",
       "      <td>93.88</td>\n",
       "      <td>77</td>\n",
       "      <td>84</td>\n",
       "      <td>91.67</td>\n",
       "      <td>33</td>\n",
       "      <td>01</td>\n",
       "      <td>Aitkin</td>\n",
       "    </tr>\n",
       "  </tbody>\n",
       "</table>\n",
       "<p>5 rows × 24 columns</p>\n",
       "</div>"
      ],
      "text/plain": [
       "3 \\nData\\nYear \\nDistrict\\nNumber \\nDistrict\\nType  \\\n",
       "4        17-18               0001               01   \n",
       "5        17-18               0001               01   \n",
       "6        17-18               0001               01   \n",
       "7        17-18               0001               01   \n",
       "8        17-18               0001               01   \n",
       "\n",
       "3               \\nDistrict\\nName \\nSchool\\nNumber           \\nSchool\\nName  \\\n",
       "4  Aitkin Public School District              001  Aitkin Secondary School   \n",
       "5  Aitkin Public School District              001  Aitkin Secondary School   \n",
       "6  Aitkin Public School District              001  Aitkin Secondary School   \n",
       "7  Aitkin Public School District              001  Aitkin Secondary School   \n",
       "8  Aitkin Public School District              001  Aitkin Secondary School   \n",
       "\n",
       "3 \\nDemographic\\nCategory \\nDemographic\\nDescription \\nEnding\\nStatus  \\\n",
       "4                       A               All Students         Graduate   \n",
       "5                       A               All Students         Drop Out   \n",
       "6                       A               All Students       Continuing   \n",
       "7                       A               All Students          Unknown   \n",
       "8                       G             White Students         Graduate   \n",
       "\n",
       "3 \\nFour \\nYear Count         ...          \\nFive \\nYear Percent  \\\n",
       "4                  79         ...                          95.65   \n",
       "5                   4         ...                           3.26   \n",
       "6                   2         ...                              0   \n",
       "7                   2         ...                           1.09   \n",
       "8                  72         ...                          96.47   \n",
       "\n",
       "3 \\nSix \\nYear Count \\nSix \\nYear Total \\nSix \\nYear Percent  \\\n",
       "4                 93                 99                93.94   \n",
       "5                  6                 99                 6.06   \n",
       "6                  0                 99                    0   \n",
       "7                  0                 99                    0   \n",
       "8                 92                 98                93.88   \n",
       "\n",
       "3 \\nSeven \\nYear Count \\nSeven \\nYear Total \\nSeven \\nYear Percent  \\\n",
       "4                   80                   88                  90.91   \n",
       "5                    6                   88                   6.82   \n",
       "6                    0                   88                      0   \n",
       "7                    2                   88                   2.27   \n",
       "8                   77                   84                  91.67   \n",
       "\n",
       "3 \\nSchool \\nClassification School\\nCounty\\nNumber School\\nCounty\\nName  \n",
       "4                        33                     01               Aitkin  \n",
       "5                        33                     01               Aitkin  \n",
       "6                        33                     01               Aitkin  \n",
       "7                        33                     01               Aitkin  \n",
       "8                        33                     01               Aitkin  \n",
       "\n",
       "[5 rows x 24 columns]"
      ]
     },
<<<<<<< HEAD
     "execution_count": 20,
=======
<<<<<<< HEAD
     "execution_count": 20,
=======
<<<<<<< HEAD
     "execution_count": 23,
=======
     "execution_count": 20,
>>>>>>> Ashley
>>>>>>> f32c07fdabd952b1ad2c4fd1e6faec74f276e45a
>>>>>>> master
     "metadata": {},
     "output_type": "execute_result"
    }
   ],
   "source": [
    "grad_file = \"Resources/Copy of 2018 Graduation Indicators-1.xlsx\"\n",
    "grad_df = pd.read_excel(grad_file, sheet_name='School')\n",
    "\n",
    "new_head = grad_df.iloc[3] \n",
    "grad_df2 = grad_df[4:] \n",
    "grad_df2.columns = new_head\n",
<<<<<<< HEAD
    "#grad_new = grad_df2.copy()\n",
=======
<<<<<<< HEAD
    "#grad_new = grad_df2.copy()\n",
=======
<<<<<<< HEAD
=======
    "#grad_new = grad_df2.copy()\n",
>>>>>>> Ashley
>>>>>>> f32c07fdabd952b1ad2c4fd1e6faec74f276e45a
>>>>>>> master
    "grad_df2.head()"
   ]
  },
  {
   "cell_type": "code",
<<<<<<< HEAD
   "execution_count": 21,
=======
<<<<<<< HEAD
   "execution_count": 21,
=======
<<<<<<< HEAD
   "execution_count": 24,
=======
   "execution_count": 21,
>>>>>>> Ashley
>>>>>>> f32c07fdabd952b1ad2c4fd1e6faec74f276e45a
>>>>>>> master
   "metadata": {},
   "outputs": [
    {
     "data": {
      "text/plain": [
       "['\\nData\\nYear',\n",
       " '\\nDistrict\\nNumber',\n",
       " '\\nDistrict\\nType',\n",
       " '\\nDistrict\\nName',\n",
       " '\\nSchool\\nNumber',\n",
       " '\\nSchool\\nName',\n",
       " '\\nDemographic\\nCategory',\n",
       " '\\nDemographic\\nDescription',\n",
       " '\\nEnding\\nStatus',\n",
       " '\\nFour \\nYear Count',\n",
       " '\\nFour \\nYear Total',\n",
       " '\\nFour \\nYear Percent',\n",
       " '\\nFive \\nYear Count',\n",
       " '\\nFive \\nYear Total',\n",
       " '\\nFive \\nYear Percent',\n",
       " '\\nSix \\nYear Count',\n",
       " '\\nSix \\nYear Total',\n",
       " '\\nSix \\nYear Percent',\n",
       " '\\nSeven \\nYear Count',\n",
       " '\\nSeven \\nYear Total',\n",
       " '\\nSeven \\nYear Percent',\n",
       " '\\nSchool \\nClassification',\n",
       " 'School\\nCounty\\nNumber',\n",
       " 'School\\nCounty\\nName']"
      ]
     },
<<<<<<< HEAD
     "execution_count": 21,
=======
<<<<<<< HEAD
     "execution_count": 21,
=======
<<<<<<< HEAD
     "execution_count": 24,
=======
     "execution_count": 21,
>>>>>>> Ashley
>>>>>>> f32c07fdabd952b1ad2c4fd1e6faec74f276e45a
>>>>>>> master
     "metadata": {},
     "output_type": "execute_result"
    }
   ],
   "source": [
    "list(grad_df2)"
   ]
  },
  {
   "cell_type": "code",
<<<<<<< HEAD
   "execution_count": 24,
=======
<<<<<<< HEAD
   "execution_count": 24,
=======
<<<<<<< HEAD
   "execution_count": 36,
=======
   "execution_count": 24,
>>>>>>> Ashley
>>>>>>> f32c07fdabd952b1ad2c4fd1e6faec74f276e45a
>>>>>>> master
   "metadata": {},
   "outputs": [],
   "source": [
    "grad_df2.rename(columns = {'\\nDistrict\\nNumber':'District Number', \n",
    "                           '\\nSchool\\nNumber': 'School Number', \n",
    "                           '\\nSchool\\nName': 'School Name',\n",
    "                           '\\nDemographic\\nDescription': 'Demographic Description',\n",
    "                           '\\nEnding\\nStatus': 'Ending Status',\n",
<<<<<<< HEAD
    "                           '\\nFour \\nYear Percent': 'Four Year Percent',\n",
    "                           '\\nFour \\nYear Total': 'Four Year Total'}, inplace = True) \n",
    "grad_df2['School Name'] = grad_df2['School Name'].str.upper() "
=======
<<<<<<< HEAD
    "                           '\\nFour \\nYear Percent': 'Four Year Percent',\n",
    "                           '\\nFour \\nYear Total': 'Four Year Total'}, inplace = True) \n",
    "grad_df2['School Name'] = grad_df2['School Name'].str.upper() "
=======
<<<<<<< HEAD
    "                           '\\nFour \\nYear Percent': 'Four Year Percent'}, inplace = True) "
=======
    "                           '\\nFour \\nYear Percent': 'Four Year Percent',\n",
    "                           '\\nFour \\nYear Total': 'Four Year Total'}, inplace = True) \n",
    "grad_df2['School Name'] = grad_df2['School Name'].str.upper() "
>>>>>>> Ashley
>>>>>>> f32c07fdabd952b1ad2c4fd1e6faec74f276e45a
>>>>>>> master
   ]
  },
  {
   "cell_type": "code",
<<<<<<< HEAD
   "execution_count": 26,
=======
<<<<<<< HEAD
   "execution_count": 26,
=======
<<<<<<< HEAD
   "execution_count": 42,
=======
   "execution_count": 26,
>>>>>>> Ashley
>>>>>>> f32c07fdabd952b1ad2c4fd1e6faec74f276e45a
>>>>>>> master
   "metadata": {},
   "outputs": [
    {
     "data": {
      "text/html": [
       "<div>\n",
       "<style scoped>\n",
       "    .dataframe tbody tr th:only-of-type {\n",
       "        vertical-align: middle;\n",
       "    }\n",
       "\n",
       "    .dataframe tbody tr th {\n",
       "        vertical-align: top;\n",
       "    }\n",
       "\n",
       "    .dataframe thead th {\n",
       "        text-align: right;\n",
       "    }\n",
       "</style>\n",
       "<table border=\"1\" class=\"dataframe\">\n",
       "  <thead>\n",
       "    <tr style=\"text-align: right;\">\n",
       "      <th>3</th>\n",
       "      <th>District Number</th>\n",
       "      <th>School Number</th>\n",
       "      <th>School Name</th>\n",
       "      <th>Demographic Description</th>\n",
       "      <th>Ending Status</th>\n",
       "      <th>Four Year Percent</th>\n",
<<<<<<< HEAD
       "      <th>Four Year Total</th>\n",
=======
<<<<<<< HEAD
       "      <th>Four Year Total</th>\n",
=======
<<<<<<< HEAD
=======
       "      <th>Four Year Total</th>\n",
>>>>>>> Ashley
>>>>>>> f32c07fdabd952b1ad2c4fd1e6faec74f276e45a
>>>>>>> master
       "    </tr>\n",
       "  </thead>\n",
       "  <tbody>\n",
       "    <tr>\n",
       "      <th>4</th>\n",
       "      <td>0001</td>\n",
       "      <td>001</td>\n",
<<<<<<< HEAD
=======
<<<<<<< HEAD
=======
<<<<<<< HEAD
       "      <td>Aitkin Secondary School</td>\n",
       "      <td>All Students</td>\n",
       "      <td>Graduate</td>\n",
       "      <td>90.8</td>\n",
=======
>>>>>>> f32c07fdabd952b1ad2c4fd1e6faec74f276e45a
>>>>>>> master
       "      <td>AITKIN SECONDARY SCHOOL</td>\n",
       "      <td>All Students</td>\n",
       "      <td>Graduate</td>\n",
       "      <td>90.8</td>\n",
       "      <td>87</td>\n",
<<<<<<< HEAD
=======
<<<<<<< HEAD
=======
>>>>>>> Ashley
>>>>>>> f32c07fdabd952b1ad2c4fd1e6faec74f276e45a
>>>>>>> master
       "    </tr>\n",
       "    <tr>\n",
       "      <th>5</th>\n",
       "      <td>0001</td>\n",
       "      <td>001</td>\n",
<<<<<<< HEAD
=======
<<<<<<< HEAD
=======
<<<<<<< HEAD
       "      <td>Aitkin Secondary School</td>\n",
       "      <td>All Students</td>\n",
       "      <td>Drop Out</td>\n",
       "      <td>4.6</td>\n",
=======
>>>>>>> f32c07fdabd952b1ad2c4fd1e6faec74f276e45a
>>>>>>> master
       "      <td>AITKIN SECONDARY SCHOOL</td>\n",
       "      <td>All Students</td>\n",
       "      <td>Drop Out</td>\n",
       "      <td>4.6</td>\n",
       "      <td>87</td>\n",
<<<<<<< HEAD
=======
<<<<<<< HEAD
=======
>>>>>>> Ashley
>>>>>>> f32c07fdabd952b1ad2c4fd1e6faec74f276e45a
>>>>>>> master
       "    </tr>\n",
       "    <tr>\n",
       "      <th>6</th>\n",
       "      <td>0001</td>\n",
       "      <td>001</td>\n",
<<<<<<< HEAD
=======
<<<<<<< HEAD
=======
<<<<<<< HEAD
       "      <td>Aitkin Secondary School</td>\n",
       "      <td>All Students</td>\n",
       "      <td>Continuing</td>\n",
       "      <td>2.3</td>\n",
=======
>>>>>>> f32c07fdabd952b1ad2c4fd1e6faec74f276e45a
>>>>>>> master
       "      <td>AITKIN SECONDARY SCHOOL</td>\n",
       "      <td>All Students</td>\n",
       "      <td>Continuing</td>\n",
       "      <td>2.3</td>\n",
       "      <td>87</td>\n",
<<<<<<< HEAD
=======
<<<<<<< HEAD
=======
>>>>>>> Ashley
>>>>>>> f32c07fdabd952b1ad2c4fd1e6faec74f276e45a
>>>>>>> master
       "    </tr>\n",
       "    <tr>\n",
       "      <th>7</th>\n",
       "      <td>0001</td>\n",
       "      <td>001</td>\n",
<<<<<<< HEAD
=======
<<<<<<< HEAD
=======
<<<<<<< HEAD
       "      <td>Aitkin Secondary School</td>\n",
       "      <td>All Students</td>\n",
       "      <td>Unknown</td>\n",
       "      <td>2.3</td>\n",
=======
>>>>>>> f32c07fdabd952b1ad2c4fd1e6faec74f276e45a
>>>>>>> master
       "      <td>AITKIN SECONDARY SCHOOL</td>\n",
       "      <td>All Students</td>\n",
       "      <td>Unknown</td>\n",
       "      <td>2.3</td>\n",
       "      <td>87</td>\n",
<<<<<<< HEAD
=======
<<<<<<< HEAD
=======
>>>>>>> Ashley
>>>>>>> f32c07fdabd952b1ad2c4fd1e6faec74f276e45a
>>>>>>> master
       "    </tr>\n",
       "    <tr>\n",
       "      <th>8</th>\n",
       "      <td>0001</td>\n",
       "      <td>001</td>\n",
<<<<<<< HEAD
=======
<<<<<<< HEAD
=======
<<<<<<< HEAD
       "      <td>Aitkin Secondary School</td>\n",
       "      <td>White Students</td>\n",
       "      <td>Graduate</td>\n",
       "      <td>92.31</td>\n",
=======
>>>>>>> f32c07fdabd952b1ad2c4fd1e6faec74f276e45a
>>>>>>> master
       "      <td>AITKIN SECONDARY SCHOOL</td>\n",
       "      <td>White Students</td>\n",
       "      <td>Graduate</td>\n",
       "      <td>92.31</td>\n",
       "      <td>78</td>\n",
<<<<<<< HEAD
=======
<<<<<<< HEAD
=======
>>>>>>> Ashley
>>>>>>> f32c07fdabd952b1ad2c4fd1e6faec74f276e45a
>>>>>>> master
       "    </tr>\n",
       "  </tbody>\n",
       "</table>\n",
       "</div>"
      ],
      "text/plain": [
       "3 District Number School Number              School Name  \\\n",
<<<<<<< HEAD
=======
<<<<<<< HEAD
=======
<<<<<<< HEAD
       "4            0001           001  Aitkin Secondary School   \n",
       "5            0001           001  Aitkin Secondary School   \n",
       "6            0001           001  Aitkin Secondary School   \n",
       "7            0001           001  Aitkin Secondary School   \n",
       "8            0001           001  Aitkin Secondary School   \n",
       "\n",
       "3 Demographic Description Ending Status Four Year Percent  \n",
       "4            All Students      Graduate              90.8  \n",
       "5            All Students      Drop Out               4.6  \n",
       "6            All Students    Continuing               2.3  \n",
       "7            All Students       Unknown               2.3  \n",
       "8          White Students      Graduate             92.31  "
      ]
     },
     "execution_count": 42,
=======
>>>>>>> f32c07fdabd952b1ad2c4fd1e6faec74f276e45a
>>>>>>> master
       "4            0001           001  AITKIN SECONDARY SCHOOL   \n",
       "5            0001           001  AITKIN SECONDARY SCHOOL   \n",
       "6            0001           001  AITKIN SECONDARY SCHOOL   \n",
       "7            0001           001  AITKIN SECONDARY SCHOOL   \n",
       "8            0001           001  AITKIN SECONDARY SCHOOL   \n",
       "\n",
       "3 Demographic Description Ending Status Four Year Percent Four Year Total  \n",
       "4            All Students      Graduate              90.8              87  \n",
       "5            All Students      Drop Out               4.6              87  \n",
       "6            All Students    Continuing               2.3              87  \n",
       "7            All Students       Unknown               2.3              87  \n",
       "8          White Students      Graduate             92.31              78  "
      ]
     },
     "execution_count": 26,
<<<<<<< HEAD
=======
<<<<<<< HEAD
=======
>>>>>>> Ashley
>>>>>>> f32c07fdabd952b1ad2c4fd1e6faec74f276e45a
>>>>>>> master
     "metadata": {},
     "output_type": "execute_result"
    }
   ],
   "source": [
<<<<<<< HEAD
    "#Drop Unnecessary Columns\n",
    "\n",
=======
<<<<<<< HEAD
    "#Drop Unnecessary Columns\n",
    "\n",
=======
<<<<<<< HEAD
=======
    "#Drop Unnecessary Columns\n",
    "\n",
>>>>>>> Ashley
>>>>>>> f32c07fdabd952b1ad2c4fd1e6faec74f276e45a
>>>>>>> master
    "new_grad_df2 = grad_df2[['District Number',\n",
    "                         'School Number', \n",
    "                         'School Name', \n",
    "                         'Demographic Description',\n",
    "                         'Ending Status', \n",
<<<<<<< HEAD
    "                         'Four Year Percent',\n",
    "                         'Four Year Total']]\n",
=======
<<<<<<< HEAD
    "                         'Four Year Percent',\n",
    "                         'Four Year Total']]\n",
=======
<<<<<<< HEAD
    "                         'Four Year Percent']]\n",
=======
    "                         'Four Year Percent',\n",
    "                         'Four Year Total']]\n",
>>>>>>> Ashley
>>>>>>> f32c07fdabd952b1ad2c4fd1e6faec74f276e45a
>>>>>>> master
    "new_grad_df2.head()"
   ]
  },
  {
   "cell_type": "code",
<<<<<<< HEAD
   "execution_count": 27,
=======
<<<<<<< HEAD
   "execution_count": 27,
=======
<<<<<<< HEAD
   "execution_count": 43,
=======
   "execution_count": 27,
>>>>>>> Ashley
>>>>>>> f32c07fdabd952b1ad2c4fd1e6faec74f276e45a
>>>>>>> master
   "metadata": {},
   "outputs": [
    {
     "data": {
      "text/html": [
       "<div>\n",
       "<style scoped>\n",
       "    .dataframe tbody tr th:only-of-type {\n",
       "        vertical-align: middle;\n",
       "    }\n",
       "\n",
       "    .dataframe tbody tr th {\n",
       "        vertical-align: top;\n",
       "    }\n",
       "\n",
       "    .dataframe thead th {\n",
       "        text-align: right;\n",
       "    }\n",
       "</style>\n",
       "<table border=\"1\" class=\"dataframe\">\n",
       "  <thead>\n",
       "    <tr style=\"text-align: right;\">\n",
       "      <th>3</th>\n",
       "      <th>District Number</th>\n",
       "      <th>School Number</th>\n",
       "      <th>School Name</th>\n",
       "      <th>Demographic Description</th>\n",
       "      <th>Ending Status</th>\n",
       "      <th>Four Year Percent</th>\n",
<<<<<<< HEAD
       "      <th>Four Year Total</th>\n",
=======
<<<<<<< HEAD
       "      <th>Four Year Total</th>\n",
=======
<<<<<<< HEAD
=======
       "      <th>Four Year Total</th>\n",
>>>>>>> Ashley
>>>>>>> f32c07fdabd952b1ad2c4fd1e6faec74f276e45a
>>>>>>> master
       "    </tr>\n",
       "  </thead>\n",
       "  <tbody>\n",
       "    <tr>\n",
       "      <th>4</th>\n",
       "      <td>0001</td>\n",
       "      <td>001</td>\n",
<<<<<<< HEAD
=======
<<<<<<< HEAD
=======
<<<<<<< HEAD
       "      <td>Aitkin Secondary School</td>\n",
       "      <td>All Students</td>\n",
       "      <td>Graduate</td>\n",
       "      <td>90.8</td>\n",
=======
>>>>>>> f32c07fdabd952b1ad2c4fd1e6faec74f276e45a
>>>>>>> master
       "      <td>AITKIN SECONDARY SCHOOL</td>\n",
       "      <td>All Students</td>\n",
       "      <td>Graduate</td>\n",
       "      <td>90.8</td>\n",
       "      <td>87</td>\n",
<<<<<<< HEAD
=======
<<<<<<< HEAD
=======
>>>>>>> Ashley
>>>>>>> f32c07fdabd952b1ad2c4fd1e6faec74f276e45a
>>>>>>> master
       "    </tr>\n",
       "    <tr>\n",
       "      <th>8</th>\n",
       "      <td>0001</td>\n",
       "      <td>001</td>\n",
<<<<<<< HEAD
=======
<<<<<<< HEAD
=======
<<<<<<< HEAD
       "      <td>Aitkin Secondary School</td>\n",
       "      <td>White Students</td>\n",
       "      <td>Graduate</td>\n",
       "      <td>92.31</td>\n",
=======
>>>>>>> f32c07fdabd952b1ad2c4fd1e6faec74f276e45a
>>>>>>> master
       "      <td>AITKIN SECONDARY SCHOOL</td>\n",
       "      <td>White Students</td>\n",
       "      <td>Graduate</td>\n",
       "      <td>92.31</td>\n",
       "      <td>78</td>\n",
<<<<<<< HEAD
=======
<<<<<<< HEAD
=======
>>>>>>> Ashley
>>>>>>> f32c07fdabd952b1ad2c4fd1e6faec74f276e45a
>>>>>>> master
       "    </tr>\n",
       "    <tr>\n",
       "      <th>12</th>\n",
       "      <td>0001</td>\n",
       "      <td>001</td>\n",
<<<<<<< HEAD
=======
<<<<<<< HEAD
=======
<<<<<<< HEAD
       "      <td>Aitkin Secondary School</td>\n",
       "      <td>Special Education Students</td>\n",
       "      <td>Graduate</td>\n",
       "      <td>NaN</td>\n",
=======
>>>>>>> f32c07fdabd952b1ad2c4fd1e6faec74f276e45a
>>>>>>> master
       "      <td>AITKIN SECONDARY SCHOOL</td>\n",
       "      <td>Special Education Students</td>\n",
       "      <td>Graduate</td>\n",
       "      <td>NaN</td>\n",
       "      <td>NaN</td>\n",
<<<<<<< HEAD
=======
<<<<<<< HEAD
=======
>>>>>>> Ashley
>>>>>>> f32c07fdabd952b1ad2c4fd1e6faec74f276e45a
>>>>>>> master
       "    </tr>\n",
       "    <tr>\n",
       "      <th>16</th>\n",
       "      <td>0001</td>\n",
       "      <td>001</td>\n",
<<<<<<< HEAD
=======
<<<<<<< HEAD
=======
<<<<<<< HEAD
       "      <td>Aitkin Secondary School</td>\n",
       "      <td>Students Eligible for Free/Reduced Priced Meals</td>\n",
       "      <td>Graduate</td>\n",
       "      <td>82.93</td>\n",
=======
>>>>>>> f32c07fdabd952b1ad2c4fd1e6faec74f276e45a
>>>>>>> master
       "      <td>AITKIN SECONDARY SCHOOL</td>\n",
       "      <td>Students Eligible for Free/Reduced Priced Meals</td>\n",
       "      <td>Graduate</td>\n",
       "      <td>82.93</td>\n",
       "      <td>41</td>\n",
<<<<<<< HEAD
=======
<<<<<<< HEAD
=======
>>>>>>> Ashley
>>>>>>> f32c07fdabd952b1ad2c4fd1e6faec74f276e45a
>>>>>>> master
       "    </tr>\n",
       "    <tr>\n",
       "      <th>20</th>\n",
       "      <td>0001</td>\n",
       "      <td>001</td>\n",
<<<<<<< HEAD
=======
<<<<<<< HEAD
=======
<<<<<<< HEAD
       "      <td>Aitkin Secondary School</td>\n",
       "      <td>Male Students</td>\n",
       "      <td>Graduate</td>\n",
       "      <td>87.5</td>\n",
=======
>>>>>>> f32c07fdabd952b1ad2c4fd1e6faec74f276e45a
>>>>>>> master
       "      <td>AITKIN SECONDARY SCHOOL</td>\n",
       "      <td>Male Students</td>\n",
       "      <td>Graduate</td>\n",
       "      <td>87.5</td>\n",
       "      <td>40</td>\n",
<<<<<<< HEAD
=======
<<<<<<< HEAD
=======
>>>>>>> Ashley
>>>>>>> f32c07fdabd952b1ad2c4fd1e6faec74f276e45a
>>>>>>> master
       "    </tr>\n",
       "  </tbody>\n",
       "</table>\n",
       "</div>"
      ],
      "text/plain": [
       "3  District Number School Number              School Name  \\\n",
<<<<<<< HEAD
=======
<<<<<<< HEAD
=======
<<<<<<< HEAD
       "4             0001           001  Aitkin Secondary School   \n",
       "8             0001           001  Aitkin Secondary School   \n",
       "12            0001           001  Aitkin Secondary School   \n",
       "16            0001           001  Aitkin Secondary School   \n",
       "20            0001           001  Aitkin Secondary School   \n",
=======
>>>>>>> f32c07fdabd952b1ad2c4fd1e6faec74f276e45a
>>>>>>> master
       "4             0001           001  AITKIN SECONDARY SCHOOL   \n",
       "8             0001           001  AITKIN SECONDARY SCHOOL   \n",
       "12            0001           001  AITKIN SECONDARY SCHOOL   \n",
       "16            0001           001  AITKIN SECONDARY SCHOOL   \n",
       "20            0001           001  AITKIN SECONDARY SCHOOL   \n",
<<<<<<< HEAD
=======
<<<<<<< HEAD
=======
>>>>>>> Ashley
>>>>>>> f32c07fdabd952b1ad2c4fd1e6faec74f276e45a
>>>>>>> master
       "\n",
       "3                           Demographic Description Ending Status  \\\n",
       "4                                      All Students      Graduate   \n",
       "8                                    White Students      Graduate   \n",
       "12                       Special Education Students      Graduate   \n",
       "16  Students Eligible for Free/Reduced Priced Meals      Graduate   \n",
       "20                                    Male Students      Graduate   \n",
       "\n",
<<<<<<< HEAD
=======
<<<<<<< HEAD
=======
<<<<<<< HEAD
       "3  Four Year Percent  \n",
       "4               90.8  \n",
       "8              92.31  \n",
       "12               NaN  \n",
       "16             82.93  \n",
       "20              87.5  "
      ]
     },
     "execution_count": 43,
=======
>>>>>>> f32c07fdabd952b1ad2c4fd1e6faec74f276e45a
>>>>>>> master
       "3  Four Year Percent Four Year Total  \n",
       "4               90.8              87  \n",
       "8              92.31              78  \n",
       "12               NaN             NaN  \n",
       "16             82.93              41  \n",
       "20              87.5              40  "
      ]
     },
     "execution_count": 27,
<<<<<<< HEAD
=======
<<<<<<< HEAD
=======
>>>>>>> Ashley
>>>>>>> f32c07fdabd952b1ad2c4fd1e6faec74f276e45a
>>>>>>> master
     "metadata": {},
     "output_type": "execute_result"
    }
   ],
   "source": [
<<<<<<< HEAD
    "#Drop all ending statuses except \"Graduate\"\n",
=======
<<<<<<< HEAD
    "#Drop all ending statuses except \"Graduate\"\n",
=======
<<<<<<< HEAD
=======
    "#Drop all ending statuses except \"Graduate\"\n",
>>>>>>> Ashley
>>>>>>> f32c07fdabd952b1ad2c4fd1e6faec74f276e45a
>>>>>>> master
    "grad_only = new_grad_df2.loc[new_grad_df2[\"Ending Status\"] == \"Graduate\", :]\n",
    "grad_only.head()"
   ]
  },
  {
   "cell_type": "code",
<<<<<<< HEAD
   "execution_count": 28,
=======
<<<<<<< HEAD
   "execution_count": 28,
=======
<<<<<<< HEAD
   "execution_count": 64,
=======
   "execution_count": 28,
>>>>>>> Ashley
>>>>>>> f32c07fdabd952b1ad2c4fd1e6faec74f276e45a
>>>>>>> master
   "metadata": {},
   "outputs": [
    {
     "data": {
      "text/html": [
       "<div>\n",
       "<style scoped>\n",
       "    .dataframe tbody tr th:only-of-type {\n",
       "        vertical-align: middle;\n",
       "    }\n",
       "\n",
       "    .dataframe tbody tr th {\n",
       "        vertical-align: top;\n",
       "    }\n",
       "\n",
       "    .dataframe thead th {\n",
       "        text-align: right;\n",
       "    }\n",
       "</style>\n",
       "<table border=\"1\" class=\"dataframe\">\n",
       "  <thead>\n",
       "    <tr style=\"text-align: right;\">\n",
       "      <th>3</th>\n",
       "      <th>District Number</th>\n",
       "      <th>School Number</th>\n",
       "      <th>School Name</th>\n",
       "      <th>Demographic Description</th>\n",
       "      <th>Ending Status</th>\n",
       "      <th>Four Year Percent</th>\n",
<<<<<<< HEAD
       "      <th>Four Year Total</th>\n",
=======
<<<<<<< HEAD
       "      <th>Four Year Total</th>\n",
=======
<<<<<<< HEAD
=======
       "      <th>Four Year Total</th>\n",
>>>>>>> Ashley
>>>>>>> f32c07fdabd952b1ad2c4fd1e6faec74f276e45a
>>>>>>> master
       "    </tr>\n",
       "  </thead>\n",
       "  <tbody>\n",
       "    <tr>\n",
       "      <th>4</th>\n",
       "      <td>0001</td>\n",
       "      <td>001</td>\n",
<<<<<<< HEAD
=======
<<<<<<< HEAD
=======
<<<<<<< HEAD
       "      <td>Aitkin Secondary School</td>\n",
       "      <td>All Students</td>\n",
       "      <td>Graduate</td>\n",
       "      <td>90.8</td>\n",
=======
>>>>>>> f32c07fdabd952b1ad2c4fd1e6faec74f276e45a
>>>>>>> master
       "      <td>AITKIN SECONDARY SCHOOL</td>\n",
       "      <td>All Students</td>\n",
       "      <td>Graduate</td>\n",
       "      <td>90.8</td>\n",
       "      <td>87</td>\n",
<<<<<<< HEAD
=======
<<<<<<< HEAD
=======
>>>>>>> Ashley
>>>>>>> f32c07fdabd952b1ad2c4fd1e6faec74f276e45a
>>>>>>> master
       "    </tr>\n",
       "    <tr>\n",
       "      <th>28</th>\n",
       "      <td>0001</td>\n",
       "      <td>307</td>\n",
<<<<<<< HEAD
=======
<<<<<<< HEAD
=======
<<<<<<< HEAD
       "      <td>Basic Skills-4</td>\n",
       "      <td>All Students</td>\n",
       "      <td>Graduate</td>\n",
       "      <td>77.36</td>\n",
=======
>>>>>>> f32c07fdabd952b1ad2c4fd1e6faec74f276e45a
>>>>>>> master
       "      <td>BASIC SKILLS-4</td>\n",
       "      <td>All Students</td>\n",
       "      <td>Graduate</td>\n",
       "      <td>77.36</td>\n",
       "      <td>106</td>\n",
<<<<<<< HEAD
=======
<<<<<<< HEAD
=======
>>>>>>> Ashley
>>>>>>> f32c07fdabd952b1ad2c4fd1e6faec74f276e45a
>>>>>>> master
       "    </tr>\n",
       "    <tr>\n",
       "      <th>72</th>\n",
       "      <td>0001</td>\n",
       "      <td>346</td>\n",
<<<<<<< HEAD
=======
<<<<<<< HEAD
=======
<<<<<<< HEAD
       "      <td>800 W Broadway</td>\n",
       "      <td>All Students</td>\n",
       "      <td>Graduate</td>\n",
       "      <td>3.57</td>\n",
=======
>>>>>>> f32c07fdabd952b1ad2c4fd1e6faec74f276e45a
>>>>>>> master
       "      <td>800 W BROADWAY</td>\n",
       "      <td>All Students</td>\n",
       "      <td>Graduate</td>\n",
       "      <td>3.57</td>\n",
       "      <td>28</td>\n",
<<<<<<< HEAD
=======
<<<<<<< HEAD
=======
>>>>>>> Ashley
>>>>>>> f32c07fdabd952b1ad2c4fd1e6faec74f276e45a
>>>>>>> master
       "    </tr>\n",
       "    <tr>\n",
       "      <th>96</th>\n",
       "      <td>0001</td>\n",
       "      <td>347</td>\n",
<<<<<<< HEAD
=======
<<<<<<< HEAD
=======
<<<<<<< HEAD
       "      <td>FAIR Senior High</td>\n",
       "      <td>All Students</td>\n",
       "      <td>Graduate</td>\n",
       "      <td>79.37</td>\n",
=======
>>>>>>> f32c07fdabd952b1ad2c4fd1e6faec74f276e45a
>>>>>>> master
       "      <td>FAIR SENIOR HIGH</td>\n",
       "      <td>All Students</td>\n",
       "      <td>Graduate</td>\n",
       "      <td>79.37</td>\n",
       "      <td>63</td>\n",
<<<<<<< HEAD
=======
<<<<<<< HEAD
=======
>>>>>>> Ashley
>>>>>>> f32c07fdabd952b1ad2c4fd1e6faec74f276e45a
>>>>>>> master
       "    </tr>\n",
       "    <tr>\n",
       "      <th>128</th>\n",
       "      <td>0001</td>\n",
       "      <td>348</td>\n",
       "      <td>MERC</td>\n",
       "      <td>All Students</td>\n",
       "      <td>Graduate</td>\n",
       "      <td>3.7</td>\n",
<<<<<<< HEAD
       "      <td>27</td>\n",
=======
<<<<<<< HEAD
       "      <td>27</td>\n",
=======
<<<<<<< HEAD
=======
       "      <td>27</td>\n",
>>>>>>> Ashley
>>>>>>> f32c07fdabd952b1ad2c4fd1e6faec74f276e45a
>>>>>>> master
       "    </tr>\n",
       "  </tbody>\n",
       "</table>\n",
       "</div>"
      ],
      "text/plain": [
       "3   District Number School Number              School Name  \\\n",
<<<<<<< HEAD
=======
<<<<<<< HEAD
=======
<<<<<<< HEAD
       "4              0001           001  Aitkin Secondary School   \n",
       "28             0001           307           Basic Skills-4   \n",
       "72             0001           346           800 W Broadway   \n",
       "96             0001           347         FAIR Senior High   \n",
       "128            0001           348                     MERC   \n",
       "\n",
       "3   Demographic Description Ending Status Four Year Percent  \n",
       "4              All Students      Graduate              90.8  \n",
       "28             All Students      Graduate             77.36  \n",
       "72             All Students      Graduate              3.57  \n",
       "96             All Students      Graduate             79.37  \n",
       "128            All Students      Graduate               3.7  "
      ]
     },
     "execution_count": 64,
=======
>>>>>>> f32c07fdabd952b1ad2c4fd1e6faec74f276e45a
>>>>>>> master
       "4              0001           001  AITKIN SECONDARY SCHOOL   \n",
       "28             0001           307           BASIC SKILLS-4   \n",
       "72             0001           346           800 W BROADWAY   \n",
       "96             0001           347         FAIR SENIOR HIGH   \n",
       "128            0001           348                     MERC   \n",
       "\n",
       "3   Demographic Description Ending Status Four Year Percent Four Year Total  \n",
       "4              All Students      Graduate              90.8              87  \n",
       "28             All Students      Graduate             77.36             106  \n",
       "72             All Students      Graduate              3.57              28  \n",
       "96             All Students      Graduate             79.37              63  \n",
       "128            All Students      Graduate               3.7              27  "
      ]
     },
     "execution_count": 28,
<<<<<<< HEAD
=======
<<<<<<< HEAD
=======
>>>>>>> Ashley
>>>>>>> f32c07fdabd952b1ad2c4fd1e6faec74f276e45a
>>>>>>> master
     "metadata": {},
     "output_type": "execute_result"
    }
   ],
   "source": [
<<<<<<< HEAD
    "#Drop all student groups except \"All Students\"\n",
    "all_grad = grad_only.loc[grad_only[\"Demographic Description\"] == \"All Students\", :]\n",
    "#all_grad['School Name'] = all_grad['School Name'].str.upper() \n",
=======
<<<<<<< HEAD
    "#Drop all student groups except \"All Students\"\n",
    "all_grad = grad_only.loc[grad_only[\"Demographic Description\"] == \"All Students\", :]\n",
    "#all_grad['School Name'] = all_grad['School Name'].str.upper() \n",
=======
<<<<<<< HEAD
    "all_grad = grad_only.loc[grad_only[\"Demographic Description\"] == \"All Students\", :]\n",
=======
    "#Drop all student groups except \"All Students\"\n",
    "all_grad = grad_only.loc[grad_only[\"Demographic Description\"] == \"All Students\", :]\n",
    "#all_grad['School Name'] = all_grad['School Name'].str.upper() \n",
>>>>>>> Ashley
>>>>>>> f32c07fdabd952b1ad2c4fd1e6faec74f276e45a
>>>>>>> master
    "all_grad.head()"
   ]
  },
  {
   "cell_type": "code",
<<<<<<< HEAD
   "execution_count": 8,
=======
<<<<<<< HEAD
   "execution_count": 8,
=======
<<<<<<< HEAD
   "execution_count": 46,
=======
   "execution_count": 8,
>>>>>>> Ashley
>>>>>>> f32c07fdabd952b1ad2c4fd1e6faec74f276e45a
>>>>>>> master
   "metadata": {
    "scrolled": true
   },
   "outputs": [
    {
     "data": {
      "text/html": [
       "<div>\n",
       "<style scoped>\n",
       "    .dataframe tbody tr th:only-of-type {\n",
       "        vertical-align: middle;\n",
       "    }\n",
       "\n",
       "    .dataframe tbody tr th {\n",
       "        vertical-align: top;\n",
       "    }\n",
       "\n",
       "    .dataframe thead th {\n",
       "        text-align: right;\n",
       "    }\n",
       "</style>\n",
       "<table border=\"1\" class=\"dataframe\">\n",
       "  <thead>\n",
       "    <tr style=\"text-align: right;\">\n",
       "      <th></th>\n",
       "      <th>District Number</th>\n",
       "      <th>District Type</th>\n",
       "      <th>School Number</th>\n",
       "      <th>Number</th>\n",
       "      <th>Organization</th>\n",
       "      <th>Title</th>\n",
       "      <th>Name</th>\n",
       "      <th>First Name</th>\n",
       "      <th>Last Name</th>\n",
       "      <th>Phone</th>\n",
       "      <th>...</th>\n",
       "      <th>Physical Zip</th>\n",
       "      <th>County</th>\n",
       "      <th>Grades</th>\n",
       "      <th>School Classification</th>\n",
       "      <th>Eco Dev Region</th>\n",
       "      <th>NCES ID</th>\n",
       "      <th>StateOrganizationId</th>\n",
       "      <th>ACT ID</th>\n",
       "      <th>Web URL</th>\n",
       "      <th>Data Extracted</th>\n",
       "    </tr>\n",
       "  </thead>\n",
       "  <tbody>\n",
       "    <tr>\n",
       "      <th>0</th>\n",
       "      <td>1</td>\n",
       "      <td>1</td>\n",
       "      <td>0</td>\n",
       "      <td>0001-01</td>\n",
       "      <td>Aitkin Public School District</td>\n",
       "      <td>Superintendent</td>\n",
       "      <td>Dr  Charles Rick</td>\n",
       "      <td>Dr  Charles</td>\n",
       "      <td>Rick</td>\n",
       "      <td>(218) 927-2115</td>\n",
       "      <td>...</td>\n",
       "      <td>56431-1289</td>\n",
       "      <td>Aitkin</td>\n",
       "      <td>NaN</td>\n",
       "      <td>0</td>\n",
       "      <td>3</td>\n",
       "      <td>2.702760e+06</td>\n",
       "      <td>1.000100e+10</td>\n",
       "      <td>247002.0</td>\n",
       "      <td>http://home.isd1.org/</td>\n",
       "      <td>7/6/2019</td>\n",
       "    </tr>\n",
       "    <tr>\n",
       "      <th>1</th>\n",
       "      <td>1</td>\n",
       "      <td>1</td>\n",
       "      <td>1</td>\n",
       "      <td>0001-01-001</td>\n",
       "      <td>Aitkin Secondary School</td>\n",
       "      <td>Principal</td>\n",
       "      <td>Paul Karelis</td>\n",
       "      <td>Paul</td>\n",
       "      <td>Karelis</td>\n",
       "      <td>(218) 927-2115</td>\n",
       "      <td>...</td>\n",
       "      <td>56431</td>\n",
       "      <td>Aitkin</td>\n",
       "      <td>7-12</td>\n",
       "      <td>33</td>\n",
       "      <td>NaN</td>\n",
       "      <td>2.702760e+11</td>\n",
       "      <td>1.000100e+10</td>\n",
       "      <td>240020.0</td>\n",
       "      <td>http://home.isd1.org</td>\n",
       "      <td>7/6/2019</td>\n",
       "    </tr>\n",
       "    <tr>\n",
       "      <th>2</th>\n",
       "      <td>1</td>\n",
       "      <td>1</td>\n",
       "      <td>2</td>\n",
       "      <td>0001-01-002</td>\n",
       "      <td>Rippleside Elementary</td>\n",
       "      <td>Principal</td>\n",
       "      <td>Jesse Peterson</td>\n",
       "      <td>Jesse</td>\n",
       "      <td>Peterson</td>\n",
       "      <td>(218) 927-4838</td>\n",
       "      <td>...</td>\n",
       "      <td>56431</td>\n",
       "      <td>Aitkin</td>\n",
       "      <td>EC-6</td>\n",
       "      <td>10</td>\n",
       "      <td>NaN</td>\n",
       "      <td>2.702760e+11</td>\n",
       "      <td>1.000100e+10</td>\n",
       "      <td>NaN</td>\n",
       "      <td>http://home.isd1.org</td>\n",
       "      <td>7/6/2019</td>\n",
       "    </tr>\n",
       "    <tr>\n",
       "      <th>3</th>\n",
       "      <td>1</td>\n",
       "      <td>1</td>\n",
       "      <td>6</td>\n",
       "      <td>0001-01-006</td>\n",
       "      <td>Aitkin Alternative Learning Program</td>\n",
       "      <td>Principal</td>\n",
       "      <td>Gary Blake</td>\n",
       "      <td>Gary</td>\n",
       "      <td>Blake</td>\n",
       "      <td>(218) 927-3421</td>\n",
       "      <td>...</td>\n",
       "      <td>56431</td>\n",
       "      <td>Aitkin</td>\n",
       "      <td>7-12</td>\n",
       "      <td>42</td>\n",
       "      <td>NaN</td>\n",
       "      <td>2.702760e+11</td>\n",
       "      <td>1.000101e+10</td>\n",
       "      <td>NaN</td>\n",
       "      <td>http://www.isd1.org</td>\n",
       "      <td>7/6/2019</td>\n",
       "    </tr>\n",
       "    <tr>\n",
       "      <th>4</th>\n",
       "      <td>1</td>\n",
       "      <td>1</td>\n",
       "      <td>8</td>\n",
       "      <td>0001-01-008</td>\n",
       "      <td>Aitkin ESY</td>\n",
       "      <td>Principal</td>\n",
       "      <td>Jesse  Peterson</td>\n",
       "      <td>Jesse</td>\n",
       "      <td>Peterson</td>\n",
       "      <td>(218) 927-4838 x2106</td>\n",
       "      <td>...</td>\n",
       "      <td>56431</td>\n",
       "      <td>Aitkin</td>\n",
       "      <td>1-12</td>\n",
       "      <td>51</td>\n",
       "      <td>NaN</td>\n",
       "      <td>2.702760e+06</td>\n",
       "      <td>1.000101e+10</td>\n",
       "      <td>NaN</td>\n",
       "      <td>NaN</td>\n",
       "      <td>7/6/2019</td>\n",
       "    </tr>\n",
       "  </tbody>\n",
       "</table>\n",
       "<p>5 rows × 30 columns</p>\n",
       "</div>"
      ],
      "text/plain": [
       "   District Number  District Type  School Number       Number  \\\n",
       "0                1              1              0      0001-01   \n",
       "1                1              1              1  0001-01-001   \n",
       "2                1              1              2  0001-01-002   \n",
       "3                1              1              6  0001-01-006   \n",
       "4                1              1              8  0001-01-008   \n",
       "\n",
       "                          Organization           Title              Name  \\\n",
       "0        Aitkin Public School District  Superintendent  Dr  Charles Rick   \n",
       "1              Aitkin Secondary School       Principal      Paul Karelis   \n",
       "2                Rippleside Elementary       Principal    Jesse Peterson   \n",
       "3  Aitkin Alternative Learning Program       Principal        Gary Blake   \n",
       "4                           Aitkin ESY       Principal   Jesse  Peterson   \n",
       "\n",
       "    First Name Last Name                 Phone      ...       Physical Zip  \\\n",
       "0  Dr  Charles      Rick        (218) 927-2115      ...         56431-1289   \n",
       "1         Paul   Karelis        (218) 927-2115      ...              56431   \n",
       "2        Jesse  Peterson        (218) 927-4838      ...              56431   \n",
       "3         Gary     Blake        (218) 927-3421      ...              56431   \n",
       "4       Jesse   Peterson  (218) 927-4838 x2106      ...              56431   \n",
       "\n",
       "   County Grades School Classification Eco Dev Region       NCES ID  \\\n",
       "0  Aitkin    NaN                     0              3  2.702760e+06   \n",
       "1  Aitkin   7-12                    33            NaN  2.702760e+11   \n",
       "2  Aitkin   EC-6                    10            NaN  2.702760e+11   \n",
       "3  Aitkin   7-12                    42            NaN  2.702760e+11   \n",
       "4  Aitkin   1-12                    51            NaN  2.702760e+06   \n",
       "\n",
       "  StateOrganizationId    ACT ID                 Web URL Data Extracted  \n",
       "0        1.000100e+10  247002.0   http://home.isd1.org/       7/6/2019  \n",
       "1        1.000100e+10  240020.0    http://home.isd1.org       7/6/2019  \n",
       "2        1.000100e+10       NaN    http://home.isd1.org       7/6/2019  \n",
       "3        1.000101e+10       NaN     http://www.isd1.org       7/6/2019  \n",
       "4        1.000101e+10       NaN                     NaN       7/6/2019  \n",
       "\n",
       "[5 rows x 30 columns]"
      ]
     },
<<<<<<< HEAD
     "execution_count": 8,
=======
<<<<<<< HEAD
     "execution_count": 8,
=======
<<<<<<< HEAD
     "execution_count": 46,
=======
     "execution_count": 8,
>>>>>>> Ashley
>>>>>>> f32c07fdabd952b1ad2c4fd1e6faec74f276e45a
>>>>>>> master
     "metadata": {},
     "output_type": "execute_result"
    }
   ],
   "source": [
<<<<<<< HEAD
    "#Import file with individual school addresses\n",
=======
<<<<<<< HEAD
    "#Import file with individual school addresses\n",
=======
<<<<<<< HEAD
=======
    "#Import file with individual school addresses\n",
>>>>>>> Ashley
>>>>>>> f32c07fdabd952b1ad2c4fd1e6faec74f276e45a
>>>>>>> master
    "school_file = \"Resources/MDEExtract_District_School_07-06-2019 with Addresses.csv\"\n",
    "\n",
    "school_df = pd.read_csv(school_file)\n",
    "school_df.head()"
   ]
  },
  {
   "cell_type": "code",
<<<<<<< HEAD
=======
<<<<<<< HEAD
>>>>>>> master
   "execution_count": 29,
   "metadata": {},
   "outputs": [],
   "source": [
    "#Rename 'Organization' to 'School Name'\n",
<<<<<<< HEAD
=======
=======
<<<<<<< HEAD
   "execution_count": 75,
=======
   "execution_count": 29,
>>>>>>> Ashley
   "metadata": {},
   "outputs": [],
   "source": [
>>>>>>> f32c07fdabd952b1ad2c4fd1e6faec74f276e45a
>>>>>>> master
    "school_df.rename(columns = {'Organization': 'School Name'}, inplace = True) "
   ]
  },
  {
   "cell_type": "code",
<<<<<<< HEAD
   "execution_count": 30,
=======
<<<<<<< HEAD
   "execution_count": 30,
=======
<<<<<<< HEAD
   "execution_count": 76,
=======
   "execution_count": 30,
>>>>>>> Ashley
>>>>>>> f32c07fdabd952b1ad2c4fd1e6faec74f276e45a
>>>>>>> master
   "metadata": {},
   "outputs": [
    {
     "data": {
      "text/html": [
       "<div>\n",
       "<style scoped>\n",
       "    .dataframe tbody tr th:only-of-type {\n",
       "        vertical-align: middle;\n",
       "    }\n",
       "\n",
       "    .dataframe tbody tr th {\n",
       "        vertical-align: top;\n",
       "    }\n",
       "\n",
       "    .dataframe thead th {\n",
       "        text-align: right;\n",
       "    }\n",
       "</style>\n",
       "<table border=\"1\" class=\"dataframe\">\n",
       "  <thead>\n",
       "    <tr style=\"text-align: right;\">\n",
       "      <th></th>\n",
<<<<<<< HEAD
=======
<<<<<<< HEAD
=======
<<<<<<< HEAD
       "      <th>School Number</th>\n",
=======
>>>>>>> Ashley
>>>>>>> f32c07fdabd952b1ad2c4fd1e6faec74f276e45a
>>>>>>> master
       "      <th>School Name</th>\n",
       "      <th>Physical Line 1</th>\n",
       "      <th>Physical City</th>\n",
       "      <th>Physical State</th>\n",
       "      <th>Physical Zip</th>\n",
       "    </tr>\n",
       "  </thead>\n",
       "  <tbody>\n",
       "    <tr>\n",
       "      <th>0</th>\n",
<<<<<<< HEAD
       "      <td>AITKIN PUBLIC SCHOOL DISTRICT</td>\n",
=======
<<<<<<< HEAD
       "      <td>AITKIN PUBLIC SCHOOL DISTRICT</td>\n",
=======
<<<<<<< HEAD
       "      <td>0</td>\n",
       "      <td>Aitkin Public School District</td>\n",
=======
       "      <td>AITKIN PUBLIC SCHOOL DISTRICT</td>\n",
>>>>>>> Ashley
>>>>>>> f32c07fdabd952b1ad2c4fd1e6faec74f276e45a
>>>>>>> master
       "      <td>306 2nd St NW</td>\n",
       "      <td>Aitkin</td>\n",
       "      <td>MN</td>\n",
       "      <td>56431-1289</td>\n",
       "    </tr>\n",
       "    <tr>\n",
       "      <th>1</th>\n",
<<<<<<< HEAD
       "      <td>AITKIN SECONDARY SCHOOL</td>\n",
=======
<<<<<<< HEAD
       "      <td>AITKIN SECONDARY SCHOOL</td>\n",
=======
<<<<<<< HEAD
       "      <td>1</td>\n",
       "      <td>Aitkin Secondary School</td>\n",
=======
       "      <td>AITKIN SECONDARY SCHOOL</td>\n",
>>>>>>> Ashley
>>>>>>> f32c07fdabd952b1ad2c4fd1e6faec74f276e45a
>>>>>>> master
       "      <td>306 2nd St NW</td>\n",
       "      <td>Aitkin</td>\n",
       "      <td>MN</td>\n",
       "      <td>56431</td>\n",
       "    </tr>\n",
       "    <tr>\n",
       "      <th>2</th>\n",
<<<<<<< HEAD
       "      <td>RIPPLESIDE ELEMENTARY</td>\n",
=======
<<<<<<< HEAD
       "      <td>RIPPLESIDE ELEMENTARY</td>\n",
=======
<<<<<<< HEAD
       "      <td>2</td>\n",
       "      <td>Rippleside Elementary</td>\n",
=======
       "      <td>RIPPLESIDE ELEMENTARY</td>\n",
>>>>>>> Ashley
>>>>>>> f32c07fdabd952b1ad2c4fd1e6faec74f276e45a
>>>>>>> master
       "      <td>225 2nd Ave SW</td>\n",
       "      <td>Aitkin</td>\n",
       "      <td>MN</td>\n",
       "      <td>56431</td>\n",
       "    </tr>\n",
       "    <tr>\n",
       "      <th>3</th>\n",
<<<<<<< HEAD
       "      <td>AITKIN ALTERNATIVE LEARNING PROGRAM</td>\n",
=======
<<<<<<< HEAD
       "      <td>AITKIN ALTERNATIVE LEARNING PROGRAM</td>\n",
=======
<<<<<<< HEAD
       "      <td>6</td>\n",
       "      <td>Aitkin Alternative Learning Program</td>\n",
=======
       "      <td>AITKIN ALTERNATIVE LEARNING PROGRAM</td>\n",
>>>>>>> Ashley
>>>>>>> f32c07fdabd952b1ad2c4fd1e6faec74f276e45a
>>>>>>> master
       "      <td>12 7th St NW</td>\n",
       "      <td>Aitkin</td>\n",
       "      <td>MN</td>\n",
       "      <td>56431</td>\n",
       "    </tr>\n",
       "    <tr>\n",
       "      <th>4</th>\n",
<<<<<<< HEAD
       "      <td>AITKIN ESY</td>\n",
=======
<<<<<<< HEAD
       "      <td>AITKIN ESY</td>\n",
=======
<<<<<<< HEAD
       "      <td>8</td>\n",
       "      <td>Aitkin ESY</td>\n",
=======
       "      <td>AITKIN ESY</td>\n",
>>>>>>> Ashley
>>>>>>> f32c07fdabd952b1ad2c4fd1e6faec74f276e45a
>>>>>>> master
       "      <td>306 2nd St NW</td>\n",
       "      <td>Aitkin</td>\n",
       "      <td>MN</td>\n",
       "      <td>56431</td>\n",
       "    </tr>\n",
       "  </tbody>\n",
       "</table>\n",
       "</div>"
      ],
      "text/plain": [
<<<<<<< HEAD
=======
<<<<<<< HEAD
=======
<<<<<<< HEAD
       "   School Number                          School Name Physical Line 1  \\\n",
       "0              0        Aitkin Public School District   306 2nd St NW   \n",
       "1              1              Aitkin Secondary School   306 2nd St NW   \n",
       "2              2                Rippleside Elementary  225 2nd Ave SW   \n",
       "3              6  Aitkin Alternative Learning Program    12 7th St NW   \n",
       "4              8                           Aitkin ESY   306 2nd St NW   \n",
       "\n",
       "  Physical City Physical State Physical Zip  \n",
       "0        Aitkin             MN   56431-1289  \n",
       "1        Aitkin             MN        56431  \n",
       "2        Aitkin             MN        56431  \n",
       "3        Aitkin             MN        56431  \n",
       "4        Aitkin             MN        56431  "
      ]
     },
     "execution_count": 76,
=======
>>>>>>> f32c07fdabd952b1ad2c4fd1e6faec74f276e45a
>>>>>>> master
       "                           School Name Physical Line 1 Physical City  \\\n",
       "0        AITKIN PUBLIC SCHOOL DISTRICT   306 2nd St NW        Aitkin   \n",
       "1              AITKIN SECONDARY SCHOOL   306 2nd St NW        Aitkin   \n",
       "2                RIPPLESIDE ELEMENTARY  225 2nd Ave SW        Aitkin   \n",
       "3  AITKIN ALTERNATIVE LEARNING PROGRAM    12 7th St NW        Aitkin   \n",
       "4                           AITKIN ESY   306 2nd St NW        Aitkin   \n",
       "\n",
       "  Physical State Physical Zip  \n",
       "0             MN   56431-1289  \n",
       "1             MN        56431  \n",
       "2             MN        56431  \n",
       "3             MN        56431  \n",
       "4             MN        56431  "
      ]
     },
     "execution_count": 30,
<<<<<<< HEAD
=======
<<<<<<< HEAD
=======
>>>>>>> Ashley
>>>>>>> f32c07fdabd952b1ad2c4fd1e6faec74f276e45a
>>>>>>> master
     "metadata": {},
     "output_type": "execute_result"
    }
   ],
   "source": [
<<<<<<< HEAD
    "#Create new data frame by dropping unnecessary columns\n",
    "school_df2 = school_df[[ 'School Name', \n",
=======
<<<<<<< HEAD
<<<<<<<< HEAD:Ashley_Notebook_Cleaned.ipynb
    "#Create new data frame by dropping unnecessary columns\n",
========
>>>>>>>> f32c07fdabd952b1ad2c4fd1e6faec74f276e45a:Ashley_Notebook.ipynb
    "school_df2 = school_df[[ 'School Name', \n",
=======
<<<<<<< HEAD
    "school_df2 = school_df[[ 'School Number',\n",
    "                         'School Name', \n",
=======
    "school_df2 = school_df[[ 'School Name', \n",
>>>>>>> Ashley
>>>>>>> f32c07fdabd952b1ad2c4fd1e6faec74f276e45a
>>>>>>> master
    "                         'Physical Line 1', \n",
    "                         'Physical City',\n",
    "                         'Physical State',\n",
    "                         'Physical Zip']]\n",
<<<<<<< HEAD
    "school_df2['School Name'] = school_df2['School Name'].str.upper() \n",
=======
<<<<<<< HEAD
    "school_df2['School Name'] = school_df2['School Name'].str.upper() \n",
=======
<<<<<<< HEAD
=======
    "school_df2['School Name'] = school_df2['School Name'].str.upper() \n",
>>>>>>> Ashley
>>>>>>> f32c07fdabd952b1ad2c4fd1e6faec74f276e45a
>>>>>>> master
    "school_df2.head()"
   ]
  },
  {
   "cell_type": "code",
<<<<<<< HEAD
   "execution_count": 31,
=======
<<<<<<< HEAD
   "execution_count": 31,
=======
<<<<<<< HEAD
   "execution_count": 78,
=======
   "execution_count": 31,
>>>>>>> Ashley
>>>>>>> f32c07fdabd952b1ad2c4fd1e6faec74f276e45a
>>>>>>> master
   "metadata": {},
   "outputs": [
    {
     "data": {
      "text/html": [
       "<div>\n",
       "<style scoped>\n",
       "    .dataframe tbody tr th:only-of-type {\n",
       "        vertical-align: middle;\n",
       "    }\n",
       "\n",
       "    .dataframe tbody tr th {\n",
       "        vertical-align: top;\n",
       "    }\n",
       "\n",
       "    .dataframe thead th {\n",
       "        text-align: right;\n",
       "    }\n",
       "</style>\n",
       "<table border=\"1\" class=\"dataframe\">\n",
       "  <thead>\n",
       "    <tr style=\"text-align: right;\">\n",
       "      <th></th>\n",
       "      <th>District Number</th>\n",
<<<<<<< HEAD
       "      <th>School Number</th>\n",
=======
<<<<<<< HEAD
       "      <th>School Number</th>\n",
=======
<<<<<<< HEAD
       "      <th>School Number_x</th>\n",
=======
       "      <th>School Number</th>\n",
>>>>>>> Ashley
>>>>>>> f32c07fdabd952b1ad2c4fd1e6faec74f276e45a
>>>>>>> master
       "      <th>School Name</th>\n",
       "      <th>Demographic Description</th>\n",
       "      <th>Ending Status</th>\n",
       "      <th>Four Year Percent</th>\n",
<<<<<<< HEAD
       "      <th>Four Year Total</th>\n",
=======
<<<<<<< HEAD
       "      <th>Four Year Total</th>\n",
=======
<<<<<<< HEAD
       "      <th>School Number_y</th>\n",
=======
       "      <th>Four Year Total</th>\n",
>>>>>>> Ashley
>>>>>>> f32c07fdabd952b1ad2c4fd1e6faec74f276e45a
>>>>>>> master
       "      <th>Physical Line 1</th>\n",
       "      <th>Physical City</th>\n",
       "      <th>Physical State</th>\n",
       "      <th>Physical Zip</th>\n",
       "    </tr>\n",
       "  </thead>\n",
       "  <tbody>\n",
       "    <tr>\n",
       "      <th>0</th>\n",
       "      <td>0001</td>\n",
       "      <td>001</td>\n",
<<<<<<< HEAD
=======
<<<<<<< HEAD
=======
<<<<<<< HEAD
       "      <td>Aitkin Secondary School</td>\n",
       "      <td>All Students</td>\n",
       "      <td>Graduate</td>\n",
       "      <td>90.8</td>\n",
       "      <td>1</td>\n",
=======
>>>>>>> f32c07fdabd952b1ad2c4fd1e6faec74f276e45a
>>>>>>> master
       "      <td>AITKIN SECONDARY SCHOOL</td>\n",
       "      <td>All Students</td>\n",
       "      <td>Graduate</td>\n",
       "      <td>90.8</td>\n",
       "      <td>87</td>\n",
<<<<<<< HEAD
=======
<<<<<<< HEAD
=======
>>>>>>> Ashley
>>>>>>> f32c07fdabd952b1ad2c4fd1e6faec74f276e45a
>>>>>>> master
       "      <td>306 2nd St NW</td>\n",
       "      <td>Aitkin</td>\n",
       "      <td>MN</td>\n",
       "      <td>56431</td>\n",
       "    </tr>\n",
       "    <tr>\n",
       "      <th>1</th>\n",
       "      <td>0001</td>\n",
       "      <td>307</td>\n",
<<<<<<< HEAD
=======
<<<<<<< HEAD
=======
<<<<<<< HEAD
       "      <td>Basic Skills-4</td>\n",
       "      <td>All Students</td>\n",
       "      <td>Graduate</td>\n",
       "      <td>77.36</td>\n",
       "      <td>307</td>\n",
=======
>>>>>>> f32c07fdabd952b1ad2c4fd1e6faec74f276e45a
>>>>>>> master
       "      <td>BASIC SKILLS-4</td>\n",
       "      <td>All Students</td>\n",
       "      <td>Graduate</td>\n",
       "      <td>77.36</td>\n",
       "      <td>106</td>\n",
<<<<<<< HEAD
=======
<<<<<<< HEAD
=======
>>>>>>> Ashley
>>>>>>> f32c07fdabd952b1ad2c4fd1e6faec74f276e45a
>>>>>>> master
       "      <td>1250 W Broadway Ave</td>\n",
       "      <td>Minneapolis</td>\n",
       "      <td>MN</td>\n",
       "      <td>55411</td>\n",
       "    </tr>\n",
       "    <tr>\n",
       "      <th>2</th>\n",
       "      <td>0001</td>\n",
       "      <td>346</td>\n",
<<<<<<< HEAD
=======
<<<<<<< HEAD
=======
<<<<<<< HEAD
       "      <td>800 W Broadway</td>\n",
       "      <td>All Students</td>\n",
       "      <td>Graduate</td>\n",
       "      <td>3.57</td>\n",
       "      <td>346</td>\n",
=======
>>>>>>> f32c07fdabd952b1ad2c4fd1e6faec74f276e45a
>>>>>>> master
       "      <td>800 W BROADWAY</td>\n",
       "      <td>All Students</td>\n",
       "      <td>Graduate</td>\n",
       "      <td>3.57</td>\n",
       "      <td>28</td>\n",
<<<<<<< HEAD
=======
<<<<<<< HEAD
=======
>>>>>>> Ashley
>>>>>>> f32c07fdabd952b1ad2c4fd1e6faec74f276e45a
>>>>>>> master
       "      <td>1250 West Broadway</td>\n",
       "      <td>Minneapolis</td>\n",
       "      <td>MN</td>\n",
       "      <td>55411</td>\n",
       "    </tr>\n",
       "    <tr>\n",
       "      <th>3</th>\n",
       "      <td>0001</td>\n",
       "      <td>347</td>\n",
<<<<<<< HEAD
=======
<<<<<<< HEAD
=======
<<<<<<< HEAD
       "      <td>FAIR Senior High</td>\n",
       "      <td>All Students</td>\n",
       "      <td>Graduate</td>\n",
       "      <td>79.37</td>\n",
       "      <td>347</td>\n",
=======
>>>>>>> f32c07fdabd952b1ad2c4fd1e6faec74f276e45a
>>>>>>> master
       "      <td>FAIR SENIOR HIGH</td>\n",
       "      <td>All Students</td>\n",
       "      <td>Graduate</td>\n",
       "      <td>79.37</td>\n",
       "      <td>63</td>\n",
<<<<<<< HEAD
=======
<<<<<<< HEAD
=======
>>>>>>> Ashley
>>>>>>> f32c07fdabd952b1ad2c4fd1e6faec74f276e45a
>>>>>>> master
       "      <td>10 South 10th Street</td>\n",
       "      <td>Minneapolis</td>\n",
       "      <td>MN</td>\n",
       "      <td>55403</td>\n",
       "    </tr>\n",
       "    <tr>\n",
       "      <th>4</th>\n",
       "      <td>0001</td>\n",
       "      <td>348</td>\n",
       "      <td>MERC</td>\n",
       "      <td>All Students</td>\n",
       "      <td>Graduate</td>\n",
       "      <td>3.7</td>\n",
<<<<<<< HEAD
       "      <td>27</td>\n",
=======
<<<<<<< HEAD
       "      <td>27</td>\n",
=======
<<<<<<< HEAD
       "      <td>348</td>\n",
=======
       "      <td>27</td>\n",
>>>>>>> Ashley
>>>>>>> f32c07fdabd952b1ad2c4fd1e6faec74f276e45a
>>>>>>> master
       "      <td>2539 Pleasant Ave</td>\n",
       "      <td>Minneapolis</td>\n",
       "      <td>MN</td>\n",
       "      <td>55404-4213</td>\n",
       "    </tr>\n",
       "    <tr>\n",
       "      <th>5</th>\n",
       "      <td>0001</td>\n",
       "      <td>349</td>\n",
<<<<<<< HEAD
=======
<<<<<<< HEAD
=======
<<<<<<< HEAD
       "      <td>Loring-Nicollet High</td>\n",
       "      <td>All Students</td>\n",
       "      <td>Graduate</td>\n",
       "      <td>37.5</td>\n",
       "      <td>349</td>\n",
=======
>>>>>>> f32c07fdabd952b1ad2c4fd1e6faec74f276e45a
>>>>>>> master
       "      <td>LORING-NICOLLET HIGH</td>\n",
       "      <td>All Students</td>\n",
       "      <td>Graduate</td>\n",
       "      <td>37.5</td>\n",
       "      <td>24</td>\n",
<<<<<<< HEAD
=======
<<<<<<< HEAD
=======
>>>>>>> Ashley
>>>>>>> f32c07fdabd952b1ad2c4fd1e6faec74f276e45a
>>>>>>> master
       "      <td>1925 Nicollet Ave S</td>\n",
       "      <td>Minneapolis</td>\n",
       "      <td>MN</td>\n",
       "      <td>55403</td>\n",
       "    </tr>\n",
       "    <tr>\n",
       "      <th>6</th>\n",
       "      <td>0001</td>\n",
       "      <td>352</td>\n",
<<<<<<< HEAD
=======
<<<<<<< HEAD
=======
<<<<<<< HEAD
       "      <td>Edison Senior High</td>\n",
       "      <td>All Students</td>\n",
       "      <td>Graduate</td>\n",
       "      <td>59.81</td>\n",
       "      <td>352</td>\n",
=======
>>>>>>> f32c07fdabd952b1ad2c4fd1e6faec74f276e45a
>>>>>>> master
       "      <td>EDISON SENIOR HIGH</td>\n",
       "      <td>All Students</td>\n",
       "      <td>Graduate</td>\n",
       "      <td>59.81</td>\n",
       "      <td>214</td>\n",
<<<<<<< HEAD
=======
<<<<<<< HEAD
=======
>>>>>>> Ashley
>>>>>>> f32c07fdabd952b1ad2c4fd1e6faec74f276e45a
>>>>>>> master
       "      <td>700 22nd Ave NE</td>\n",
       "      <td>Minneapolis</td>\n",
       "      <td>MN</td>\n",
       "      <td>55418</td>\n",
       "    </tr>\n",
       "    <tr>\n",
       "      <th>7</th>\n",
       "      <td>0001</td>\n",
       "      <td>352</td>\n",
<<<<<<< HEAD
=======
<<<<<<< HEAD
=======
<<<<<<< HEAD
       "      <td>Edison Senior High</td>\n",
       "      <td>All Students</td>\n",
       "      <td>Graduate</td>\n",
       "      <td>59.81</td>\n",
       "      <td>352</td>\n",
=======
>>>>>>> f32c07fdabd952b1ad2c4fd1e6faec74f276e45a
>>>>>>> master
       "      <td>EDISON SENIOR HIGH</td>\n",
       "      <td>All Students</td>\n",
       "      <td>Graduate</td>\n",
       "      <td>59.81</td>\n",
       "      <td>214</td>\n",
<<<<<<< HEAD
=======
<<<<<<< HEAD
=======
>>>>>>> Ashley
>>>>>>> f32c07fdabd952b1ad2c4fd1e6faec74f276e45a
>>>>>>> master
       "      <td>700 22nd Ave NE</td>\n",
       "      <td>Minneapolis</td>\n",
       "      <td>MN</td>\n",
       "      <td>55418</td>\n",
       "    </tr>\n",
       "    <tr>\n",
       "      <th>8</th>\n",
       "      <td>0001</td>\n",
       "      <td>352</td>\n",
<<<<<<< HEAD
=======
<<<<<<< HEAD
=======
<<<<<<< HEAD
       "      <td>Edison Senior High</td>\n",
       "      <td>All Students</td>\n",
       "      <td>Graduate</td>\n",
       "      <td>59.81</td>\n",
       "      <td>352</td>\n",
=======
>>>>>>> f32c07fdabd952b1ad2c4fd1e6faec74f276e45a
>>>>>>> master
       "      <td>EDISON SENIOR HIGH</td>\n",
       "      <td>All Students</td>\n",
       "      <td>Graduate</td>\n",
       "      <td>59.81</td>\n",
       "      <td>214</td>\n",
<<<<<<< HEAD
=======
<<<<<<< HEAD
=======
>>>>>>> Ashley
>>>>>>> f32c07fdabd952b1ad2c4fd1e6faec74f276e45a
>>>>>>> master
       "      <td>700 22nd Ave NE</td>\n",
       "      <td>Minneapolis</td>\n",
       "      <td>MN</td>\n",
       "      <td>55418</td>\n",
       "    </tr>\n",
       "    <tr>\n",
       "      <th>9</th>\n",
       "      <td>0001</td>\n",
       "      <td>353</td>\n",
<<<<<<< HEAD
=======
<<<<<<< HEAD
=======
<<<<<<< HEAD
       "      <td>Longfellow Alternative</td>\n",
       "      <td>All Students</td>\n",
       "      <td>Graduate</td>\n",
       "      <td>12.9</td>\n",
       "      <td>353</td>\n",
=======
>>>>>>> f32c07fdabd952b1ad2c4fd1e6faec74f276e45a
>>>>>>> master
       "      <td>LONGFELLOW ALTERNATIVE</td>\n",
       "      <td>All Students</td>\n",
       "      <td>Graduate</td>\n",
       "      <td>12.9</td>\n",
       "      <td>31</td>\n",
<<<<<<< HEAD
=======
<<<<<<< HEAD
=======
>>>>>>> Ashley
>>>>>>> f32c07fdabd952b1ad2c4fd1e6faec74f276e45a
>>>>>>> master
       "      <td>3017 E 31st St</td>\n",
       "      <td>Minneapolis</td>\n",
       "      <td>MN</td>\n",
       "      <td>55406</td>\n",
       "    </tr>\n",
       "    <tr>\n",
       "      <th>10</th>\n",
       "      <td>0001</td>\n",
       "      <td>354</td>\n",
<<<<<<< HEAD
=======
<<<<<<< HEAD
=======
<<<<<<< HEAD
       "      <td>Henry Senior High</td>\n",
       "      <td>All Students</td>\n",
       "      <td>Graduate</td>\n",
       "      <td>70.91</td>\n",
       "      <td>354</td>\n",
=======
>>>>>>> f32c07fdabd952b1ad2c4fd1e6faec74f276e45a
>>>>>>> master
       "      <td>HENRY SENIOR HIGH</td>\n",
       "      <td>All Students</td>\n",
       "      <td>Graduate</td>\n",
       "      <td>70.91</td>\n",
       "      <td>220</td>\n",
<<<<<<< HEAD
=======
<<<<<<< HEAD
=======
>>>>>>> Ashley
>>>>>>> f32c07fdabd952b1ad2c4fd1e6faec74f276e45a
>>>>>>> master
       "      <td>4320 Newton Ave N</td>\n",
       "      <td>Minneapolis</td>\n",
       "      <td>MN</td>\n",
       "      <td>55412</td>\n",
       "    </tr>\n",
       "    <tr>\n",
       "      <th>11</th>\n",
       "      <td>0001</td>\n",
       "      <td>354</td>\n",
<<<<<<< HEAD
=======
<<<<<<< HEAD
=======
<<<<<<< HEAD
       "      <td>Henry Senior High</td>\n",
       "      <td>All Students</td>\n",
       "      <td>Graduate</td>\n",
       "      <td>70.91</td>\n",
       "      <td>354</td>\n",
=======
>>>>>>> f32c07fdabd952b1ad2c4fd1e6faec74f276e45a
>>>>>>> master
       "      <td>HENRY SENIOR HIGH</td>\n",
       "      <td>All Students</td>\n",
       "      <td>Graduate</td>\n",
       "      <td>70.91</td>\n",
       "      <td>220</td>\n",
<<<<<<< HEAD
=======
<<<<<<< HEAD
=======
>>>>>>> Ashley
>>>>>>> f32c07fdabd952b1ad2c4fd1e6faec74f276e45a
>>>>>>> master
       "      <td>4320 Newton Ave N</td>\n",
       "      <td>Minneapolis</td>\n",
       "      <td>MN</td>\n",
       "      <td>55412</td>\n",
       "    </tr>\n",
       "    <tr>\n",
       "      <th>12</th>\n",
       "      <td>0001</td>\n",
       "      <td>354</td>\n",
<<<<<<< HEAD
=======
<<<<<<< HEAD
=======
<<<<<<< HEAD
       "      <td>Henry Senior High</td>\n",
       "      <td>All Students</td>\n",
       "      <td>Graduate</td>\n",
       "      <td>70.91</td>\n",
       "      <td>354</td>\n",
=======
>>>>>>> f32c07fdabd952b1ad2c4fd1e6faec74f276e45a
>>>>>>> master
       "      <td>HENRY SENIOR HIGH</td>\n",
       "      <td>All Students</td>\n",
       "      <td>Graduate</td>\n",
       "      <td>70.91</td>\n",
       "      <td>220</td>\n",
<<<<<<< HEAD
=======
<<<<<<< HEAD
=======
>>>>>>> Ashley
>>>>>>> f32c07fdabd952b1ad2c4fd1e6faec74f276e45a
>>>>>>> master
       "      <td>4320 Newton Ave N</td>\n",
       "      <td>Minneapolis</td>\n",
       "      <td>MN</td>\n",
       "      <td>55412</td>\n",
       "    </tr>\n",
       "    <tr>\n",
       "      <th>13</th>\n",
       "      <td>0001</td>\n",
       "      <td>357</td>\n",
<<<<<<< HEAD
=======
<<<<<<< HEAD
=======
<<<<<<< HEAD
       "      <td>Plymouth Youth Center</td>\n",
       "      <td>All Students</td>\n",
       "      <td>Graduate</td>\n",
       "      <td>15.38</td>\n",
       "      <td>357</td>\n",
=======
>>>>>>> f32c07fdabd952b1ad2c4fd1e6faec74f276e45a
>>>>>>> master
       "      <td>PLYMOUTH YOUTH CENTER</td>\n",
       "      <td>All Students</td>\n",
       "      <td>Graduate</td>\n",
       "      <td>15.38</td>\n",
       "      <td>65</td>\n",
<<<<<<< HEAD
=======
<<<<<<< HEAD
=======
>>>>>>> Ashley
>>>>>>> f32c07fdabd952b1ad2c4fd1e6faec74f276e45a
>>>>>>> master
       "      <td>2210 Oliver Ave N</td>\n",
       "      <td>Minneapolis</td>\n",
       "      <td>MN</td>\n",
       "      <td>55411</td>\n",
       "    </tr>\n",
       "    <tr>\n",
       "      <th>14</th>\n",
       "      <td>0001</td>\n",
       "      <td>360</td>\n",
<<<<<<< HEAD
=======
<<<<<<< HEAD
=======
<<<<<<< HEAD
       "      <td>Roosevelt Senior High</td>\n",
       "      <td>All Students</td>\n",
       "      <td>Graduate</td>\n",
       "      <td>67.19</td>\n",
       "      <td>360</td>\n",
=======
>>>>>>> f32c07fdabd952b1ad2c4fd1e6faec74f276e45a
>>>>>>> master
       "      <td>ROOSEVELT SENIOR HIGH</td>\n",
       "      <td>All Students</td>\n",
       "      <td>Graduate</td>\n",
       "      <td>67.19</td>\n",
       "      <td>192</td>\n",
<<<<<<< HEAD
=======
<<<<<<< HEAD
=======
>>>>>>> Ashley
>>>>>>> f32c07fdabd952b1ad2c4fd1e6faec74f276e45a
>>>>>>> master
       "      <td>4029 28th Ave S</td>\n",
       "      <td>Minneapolis</td>\n",
       "      <td>MN</td>\n",
       "      <td>55406</td>\n",
       "    </tr>\n",
       "    <tr>\n",
       "      <th>15</th>\n",
       "      <td>0001</td>\n",
       "      <td>360</td>\n",
<<<<<<< HEAD
=======
<<<<<<< HEAD
=======
<<<<<<< HEAD
       "      <td>Roosevelt Senior High</td>\n",
       "      <td>All Students</td>\n",
       "      <td>Graduate</td>\n",
       "      <td>67.19</td>\n",
       "      <td>360</td>\n",
=======
>>>>>>> f32c07fdabd952b1ad2c4fd1e6faec74f276e45a
>>>>>>> master
       "      <td>ROOSEVELT SENIOR HIGH</td>\n",
       "      <td>All Students</td>\n",
       "      <td>Graduate</td>\n",
       "      <td>67.19</td>\n",
       "      <td>192</td>\n",
<<<<<<< HEAD
=======
<<<<<<< HEAD
=======
>>>>>>> Ashley
>>>>>>> f32c07fdabd952b1ad2c4fd1e6faec74f276e45a
>>>>>>> master
       "      <td>4029 28th Ave S</td>\n",
       "      <td>Minneapolis</td>\n",
       "      <td>MN</td>\n",
       "      <td>55406</td>\n",
       "    </tr>\n",
       "    <tr>\n",
       "      <th>16</th>\n",
       "      <td>0001</td>\n",
       "      <td>360</td>\n",
<<<<<<< HEAD
=======
<<<<<<< HEAD
=======
<<<<<<< HEAD
       "      <td>Roosevelt Senior High</td>\n",
       "      <td>All Students</td>\n",
       "      <td>Graduate</td>\n",
       "      <td>67.19</td>\n",
       "      <td>360</td>\n",
=======
>>>>>>> f32c07fdabd952b1ad2c4fd1e6faec74f276e45a
>>>>>>> master
       "      <td>ROOSEVELT SENIOR HIGH</td>\n",
       "      <td>All Students</td>\n",
       "      <td>Graduate</td>\n",
       "      <td>67.19</td>\n",
       "      <td>192</td>\n",
<<<<<<< HEAD
=======
<<<<<<< HEAD
=======
>>>>>>> Ashley
>>>>>>> f32c07fdabd952b1ad2c4fd1e6faec74f276e45a
>>>>>>> master
       "      <td>4029 28th Ave S</td>\n",
       "      <td>Minneapolis</td>\n",
       "      <td>MN</td>\n",
       "      <td>55406</td>\n",
       "    </tr>\n",
       "    <tr>\n",
       "      <th>17</th>\n",
       "      <td>0001</td>\n",
       "      <td>361</td>\n",
<<<<<<< HEAD
=======
<<<<<<< HEAD
=======
<<<<<<< HEAD
       "      <td>Center School</td>\n",
       "      <td>All Students</td>\n",
       "      <td>Graduate</td>\n",
       "      <td>NaN</td>\n",
       "      <td>361</td>\n",
=======
>>>>>>> f32c07fdabd952b1ad2c4fd1e6faec74f276e45a
>>>>>>> master
       "      <td>CENTER SCHOOL</td>\n",
       "      <td>All Students</td>\n",
       "      <td>Graduate</td>\n",
       "      <td>NaN</td>\n",
       "      <td>NaN</td>\n",
<<<<<<< HEAD
=======
<<<<<<< HEAD
=======
>>>>>>> Ashley
>>>>>>> f32c07fdabd952b1ad2c4fd1e6faec74f276e45a
>>>>>>> master
       "      <td>2421 Bloomington Ave</td>\n",
       "      <td>Minneapolis</td>\n",
       "      <td>MN</td>\n",
       "      <td>55404</td>\n",
       "    </tr>\n",
       "    <tr>\n",
       "      <th>18</th>\n",
       "      <td>0001</td>\n",
       "      <td>362</td>\n",
<<<<<<< HEAD
=======
<<<<<<< HEAD
=======
<<<<<<< HEAD
       "      <td>South Senior High</td>\n",
       "      <td>All Students</td>\n",
       "      <td>Graduate</td>\n",
       "      <td>79.13</td>\n",
       "      <td>362</td>\n",
=======
>>>>>>> f32c07fdabd952b1ad2c4fd1e6faec74f276e45a
>>>>>>> master
       "      <td>SOUTH SENIOR HIGH</td>\n",
       "      <td>All Students</td>\n",
       "      <td>Graduate</td>\n",
       "      <td>79.13</td>\n",
       "      <td>436</td>\n",
<<<<<<< HEAD
=======
<<<<<<< HEAD
=======
>>>>>>> Ashley
>>>>>>> f32c07fdabd952b1ad2c4fd1e6faec74f276e45a
>>>>>>> master
       "      <td>3131 19th Ave S</td>\n",
       "      <td>Minneapolis</td>\n",
       "      <td>MN</td>\n",
       "      <td>55407</td>\n",
       "    </tr>\n",
       "    <tr>\n",
       "      <th>19</th>\n",
       "      <td>0001</td>\n",
       "      <td>362</td>\n",
<<<<<<< HEAD
=======
<<<<<<< HEAD
=======
<<<<<<< HEAD
       "      <td>South Senior High</td>\n",
       "      <td>All Students</td>\n",
       "      <td>Graduate</td>\n",
       "      <td>79.13</td>\n",
       "      <td>362</td>\n",
=======
>>>>>>> f32c07fdabd952b1ad2c4fd1e6faec74f276e45a
>>>>>>> master
       "      <td>SOUTH SENIOR HIGH</td>\n",
       "      <td>All Students</td>\n",
       "      <td>Graduate</td>\n",
       "      <td>79.13</td>\n",
       "      <td>436</td>\n",
<<<<<<< HEAD
=======
<<<<<<< HEAD
=======
>>>>>>> Ashley
>>>>>>> f32c07fdabd952b1ad2c4fd1e6faec74f276e45a
>>>>>>> master
       "      <td>3131 19th Ave S</td>\n",
       "      <td>Minneapolis</td>\n",
       "      <td>MN</td>\n",
       "      <td>55407</td>\n",
       "    </tr>\n",
       "    <tr>\n",
       "      <th>20</th>\n",
       "      <td>0001</td>\n",
       "      <td>362</td>\n",
<<<<<<< HEAD
=======
<<<<<<< HEAD
=======
<<<<<<< HEAD
       "      <td>South Senior High</td>\n",
       "      <td>All Students</td>\n",
       "      <td>Graduate</td>\n",
       "      <td>79.13</td>\n",
       "      <td>362</td>\n",
=======
>>>>>>> f32c07fdabd952b1ad2c4fd1e6faec74f276e45a
>>>>>>> master
       "      <td>SOUTH SENIOR HIGH</td>\n",
       "      <td>All Students</td>\n",
       "      <td>Graduate</td>\n",
       "      <td>79.13</td>\n",
       "      <td>436</td>\n",
<<<<<<< HEAD
=======
<<<<<<< HEAD
=======
>>>>>>> Ashley
>>>>>>> f32c07fdabd952b1ad2c4fd1e6faec74f276e45a
>>>>>>> master
       "      <td>3131 19th Ave S</td>\n",
       "      <td>Minneapolis</td>\n",
       "      <td>MN</td>\n",
       "      <td>55407</td>\n",
       "    </tr>\n",
       "    <tr>\n",
       "      <th>21</th>\n",
       "      <td>0001</td>\n",
       "      <td>362</td>\n",
<<<<<<< HEAD
=======
<<<<<<< HEAD
=======
<<<<<<< HEAD
       "      <td>South Senior High</td>\n",
       "      <td>All Students</td>\n",
       "      <td>Graduate</td>\n",
       "      <td>79.13</td>\n",
       "      <td>362</td>\n",
=======
>>>>>>> f32c07fdabd952b1ad2c4fd1e6faec74f276e45a
>>>>>>> master
       "      <td>SOUTH SENIOR HIGH</td>\n",
       "      <td>All Students</td>\n",
       "      <td>Graduate</td>\n",
       "      <td>79.13</td>\n",
       "      <td>436</td>\n",
<<<<<<< HEAD
=======
<<<<<<< HEAD
=======
>>>>>>> Ashley
>>>>>>> f32c07fdabd952b1ad2c4fd1e6faec74f276e45a
>>>>>>> master
       "      <td>3131 19th Ave S</td>\n",
       "      <td>Minneapolis</td>\n",
       "      <td>MN</td>\n",
       "      <td>55407</td>\n",
       "    </tr>\n",
       "    <tr>\n",
       "      <th>22</th>\n",
       "      <td>0001</td>\n",
       "      <td>363</td>\n",
<<<<<<< HEAD
=======
<<<<<<< HEAD
=======
<<<<<<< HEAD
       "      <td>Wellstone International High</td>\n",
       "      <td>All Students</td>\n",
       "      <td>Graduate</td>\n",
       "      <td>41.58</td>\n",
       "      <td>363</td>\n",
=======
>>>>>>> f32c07fdabd952b1ad2c4fd1e6faec74f276e45a
>>>>>>> master
       "      <td>WELLSTONE INTERNATIONAL HIGH</td>\n",
       "      <td>All Students</td>\n",
       "      <td>Graduate</td>\n",
       "      <td>41.58</td>\n",
       "      <td>101</td>\n",
<<<<<<< HEAD
=======
<<<<<<< HEAD
=======
>>>>>>> Ashley
>>>>>>> f32c07fdabd952b1ad2c4fd1e6faec74f276e45a
>>>>>>> master
       "      <td>3328 Elliot Avenue South</td>\n",
       "      <td>Minneapolis</td>\n",
       "      <td>MN</td>\n",
       "      <td>55407</td>\n",
       "    </tr>\n",
       "    <tr>\n",
       "      <th>23</th>\n",
       "      <td>0001</td>\n",
       "      <td>364</td>\n",
<<<<<<< HEAD
=======
<<<<<<< HEAD
=======
<<<<<<< HEAD
       "      <td>Southwest Senior High</td>\n",
       "      <td>All Students</td>\n",
       "      <td>Graduate</td>\n",
       "      <td>86.81</td>\n",
       "      <td>364</td>\n",
=======
>>>>>>> f32c07fdabd952b1ad2c4fd1e6faec74f276e45a
>>>>>>> master
       "      <td>SOUTHWEST SENIOR HIGH</td>\n",
       "      <td>All Students</td>\n",
       "      <td>Graduate</td>\n",
       "      <td>86.81</td>\n",
       "      <td>417</td>\n",
<<<<<<< HEAD
=======
<<<<<<< HEAD
=======
>>>>>>> Ashley
>>>>>>> f32c07fdabd952b1ad2c4fd1e6faec74f276e45a
>>>>>>> master
       "      <td>3414 W 47th St</td>\n",
       "      <td>Minneapolis</td>\n",
       "      <td>MN</td>\n",
       "      <td>55410</td>\n",
       "    </tr>\n",
       "    <tr>\n",
       "      <th>24</th>\n",
       "      <td>0001</td>\n",
       "      <td>364</td>\n",
<<<<<<< HEAD
=======
<<<<<<< HEAD
=======
<<<<<<< HEAD
       "      <td>Southwest Senior High</td>\n",
       "      <td>All Students</td>\n",
       "      <td>Graduate</td>\n",
       "      <td>86.81</td>\n",
       "      <td>364</td>\n",
=======
>>>>>>> f32c07fdabd952b1ad2c4fd1e6faec74f276e45a
>>>>>>> master
       "      <td>SOUTHWEST SENIOR HIGH</td>\n",
       "      <td>All Students</td>\n",
       "      <td>Graduate</td>\n",
       "      <td>86.81</td>\n",
       "      <td>417</td>\n",
<<<<<<< HEAD
=======
<<<<<<< HEAD
=======
>>>>>>> Ashley
>>>>>>> f32c07fdabd952b1ad2c4fd1e6faec74f276e45a
>>>>>>> master
       "      <td>3414 W 47th St</td>\n",
       "      <td>Minneapolis</td>\n",
       "      <td>MN</td>\n",
       "      <td>55410</td>\n",
       "    </tr>\n",
       "    <tr>\n",
       "      <th>25</th>\n",
       "      <td>0001</td>\n",
       "      <td>364</td>\n",
<<<<<<< HEAD
=======
<<<<<<< HEAD
=======
<<<<<<< HEAD
       "      <td>Southwest Senior High</td>\n",
       "      <td>All Students</td>\n",
       "      <td>Graduate</td>\n",
       "      <td>86.81</td>\n",
       "      <td>364</td>\n",
=======
>>>>>>> f32c07fdabd952b1ad2c4fd1e6faec74f276e45a
>>>>>>> master
       "      <td>SOUTHWEST SENIOR HIGH</td>\n",
       "      <td>All Students</td>\n",
       "      <td>Graduate</td>\n",
       "      <td>86.81</td>\n",
       "      <td>417</td>\n",
<<<<<<< HEAD
=======
<<<<<<< HEAD
=======
>>>>>>> Ashley
>>>>>>> f32c07fdabd952b1ad2c4fd1e6faec74f276e45a
>>>>>>> master
       "      <td>3414 W 47th St</td>\n",
       "      <td>Minneapolis</td>\n",
       "      <td>MN</td>\n",
       "      <td>55410</td>\n",
       "    </tr>\n",
       "    <tr>\n",
       "      <th>26</th>\n",
       "      <td>0001</td>\n",
       "      <td>364</td>\n",
<<<<<<< HEAD
=======
<<<<<<< HEAD
=======
<<<<<<< HEAD
       "      <td>Southwest Senior High</td>\n",
       "      <td>All Students</td>\n",
       "      <td>Graduate</td>\n",
       "      <td>86.81</td>\n",
       "      <td>364</td>\n",
=======
>>>>>>> f32c07fdabd952b1ad2c4fd1e6faec74f276e45a
>>>>>>> master
       "      <td>SOUTHWEST SENIOR HIGH</td>\n",
       "      <td>All Students</td>\n",
       "      <td>Graduate</td>\n",
       "      <td>86.81</td>\n",
       "      <td>417</td>\n",
<<<<<<< HEAD
=======
<<<<<<< HEAD
=======
>>>>>>> Ashley
>>>>>>> f32c07fdabd952b1ad2c4fd1e6faec74f276e45a
>>>>>>> master
       "      <td>3414 W 47th St</td>\n",
       "      <td>Minneapolis</td>\n",
       "      <td>MN</td>\n",
       "      <td>55410</td>\n",
       "    </tr>\n",
       "    <tr>\n",
       "      <th>27</th>\n",
       "      <td>0001</td>\n",
       "      <td>368</td>\n",
<<<<<<< HEAD
=======
<<<<<<< HEAD
=======
<<<<<<< HEAD
       "      <td>Washburn Senior High</td>\n",
       "      <td>All Students</td>\n",
       "      <td>Graduate</td>\n",
       "      <td>86.91</td>\n",
       "      <td>368</td>\n",
=======
>>>>>>> f32c07fdabd952b1ad2c4fd1e6faec74f276e45a
>>>>>>> master
       "      <td>WASHBURN SENIOR HIGH</td>\n",
       "      <td>All Students</td>\n",
       "      <td>Graduate</td>\n",
       "      <td>86.91</td>\n",
       "      <td>359</td>\n",
<<<<<<< HEAD
=======
<<<<<<< HEAD
=======
>>>>>>> Ashley
>>>>>>> f32c07fdabd952b1ad2c4fd1e6faec74f276e45a
>>>>>>> master
       "      <td>201 W 49th St</td>\n",
       "      <td>Minneapolis</td>\n",
       "      <td>MN</td>\n",
       "      <td>55419</td>\n",
       "    </tr>\n",
       "    <tr>\n",
       "      <th>28</th>\n",
       "      <td>0001</td>\n",
       "      <td>368</td>\n",
<<<<<<< HEAD
=======
<<<<<<< HEAD
=======
<<<<<<< HEAD
       "      <td>Washburn Senior High</td>\n",
       "      <td>All Students</td>\n",
       "      <td>Graduate</td>\n",
       "      <td>86.91</td>\n",
       "      <td>368</td>\n",
=======
>>>>>>> f32c07fdabd952b1ad2c4fd1e6faec74f276e45a
>>>>>>> master
       "      <td>WASHBURN SENIOR HIGH</td>\n",
       "      <td>All Students</td>\n",
       "      <td>Graduate</td>\n",
       "      <td>86.91</td>\n",
       "      <td>359</td>\n",
<<<<<<< HEAD
=======
<<<<<<< HEAD
=======
>>>>>>> Ashley
>>>>>>> f32c07fdabd952b1ad2c4fd1e6faec74f276e45a
>>>>>>> master
       "      <td>201 W 49th St</td>\n",
       "      <td>Minneapolis</td>\n",
       "      <td>MN</td>\n",
       "      <td>55419</td>\n",
       "    </tr>\n",
       "    <tr>\n",
       "      <th>29</th>\n",
       "      <td>0001</td>\n",
       "      <td>368</td>\n",
<<<<<<< HEAD
=======
<<<<<<< HEAD
=======
<<<<<<< HEAD
       "      <td>Washburn Senior High</td>\n",
       "      <td>All Students</td>\n",
       "      <td>Graduate</td>\n",
       "      <td>86.91</td>\n",
       "      <td>368</td>\n",
=======
>>>>>>> f32c07fdabd952b1ad2c4fd1e6faec74f276e45a
>>>>>>> master
       "      <td>WASHBURN SENIOR HIGH</td>\n",
       "      <td>All Students</td>\n",
       "      <td>Graduate</td>\n",
       "      <td>86.91</td>\n",
       "      <td>359</td>\n",
<<<<<<< HEAD
=======
<<<<<<< HEAD
=======
>>>>>>> Ashley
>>>>>>> f32c07fdabd952b1ad2c4fd1e6faec74f276e45a
>>>>>>> master
       "      <td>201 W 49th St</td>\n",
       "      <td>Minneapolis</td>\n",
       "      <td>MN</td>\n",
       "      <td>55419</td>\n",
       "    </tr>\n",
       "    <tr>\n",
       "      <th>...</th>\n",
       "      <td>...</td>\n",
       "      <td>...</td>\n",
       "      <td>...</td>\n",
       "      <td>...</td>\n",
       "      <td>...</td>\n",
       "      <td>...</td>\n",
       "      <td>...</td>\n",
       "      <td>...</td>\n",
       "      <td>...</td>\n",
       "      <td>...</td>\n",
       "      <td>...</td>\n",
       "    </tr>\n",
       "    <tr>\n",
<<<<<<< HEAD
=======
<<<<<<< HEAD
=======
<<<<<<< HEAD
       "      <th>785</th>\n",
       "      <td>4217</td>\n",
       "      <td>010</td>\n",
       "      <td>DREAM Technical Academy</td>\n",
       "      <td>All Students</td>\n",
       "      <td>Graduate</td>\n",
       "      <td>60</td>\n",
       "      <td>10</td>\n",
=======
>>>>>>> f32c07fdabd952b1ad2c4fd1e6faec74f276e45a
>>>>>>> master
       "      <th>789</th>\n",
       "      <td>4217</td>\n",
       "      <td>010</td>\n",
       "      <td>DREAM TECHNICAL ACADEMY</td>\n",
       "      <td>All Students</td>\n",
       "      <td>Graduate</td>\n",
       "      <td>60</td>\n",
       "      <td>20</td>\n",
<<<<<<< HEAD
=======
<<<<<<< HEAD
=======
>>>>>>> Ashley
>>>>>>> f32c07fdabd952b1ad2c4fd1e6faec74f276e45a
>>>>>>> master
       "      <td>1705 16th Street NE</td>\n",
       "      <td>Willmar</td>\n",
       "      <td>MN</td>\n",
       "      <td>56201</td>\n",
       "    </tr>\n",
       "    <tr>\n",
<<<<<<< HEAD
=======
<<<<<<< HEAD
=======
<<<<<<< HEAD
       "      <th>786</th>\n",
       "      <td>4217</td>\n",
       "      <td>020</td>\n",
       "      <td>CHOICE Technical Academy</td>\n",
       "      <td>All Students</td>\n",
       "      <td>Graduate</td>\n",
       "      <td>20</td>\n",
       "      <td>20</td>\n",
=======
>>>>>>> f32c07fdabd952b1ad2c4fd1e6faec74f276e45a
>>>>>>> master
       "      <th>790</th>\n",
       "      <td>4217</td>\n",
       "      <td>020</td>\n",
       "      <td>CHOICE TECHNICAL ACADEMY</td>\n",
       "      <td>All Students</td>\n",
       "      <td>Graduate</td>\n",
       "      <td>20</td>\n",
       "      <td>15</td>\n",
<<<<<<< HEAD
=======
<<<<<<< HEAD
=======
>>>>>>> Ashley
>>>>>>> f32c07fdabd952b1ad2c4fd1e6faec74f276e45a
>>>>>>> master
       "      <td>315 South Grove Ave</td>\n",
       "      <td>Owatonna</td>\n",
       "      <td>MN</td>\n",
       "      <td>55060</td>\n",
       "    </tr>\n",
       "    <tr>\n",
<<<<<<< HEAD
=======
<<<<<<< HEAD
=======
<<<<<<< HEAD
       "      <th>787</th>\n",
       "      <td>4229</td>\n",
       "      <td>010</td>\n",
       "      <td>Jane Goodall Environmental Science Academy</td>\n",
       "      <td>All Students</td>\n",
       "      <td>Graduate</td>\n",
       "      <td>45.45</td>\n",
       "      <td>0</td>\n",
=======
>>>>>>> f32c07fdabd952b1ad2c4fd1e6faec74f276e45a
>>>>>>> master
       "      <th>791</th>\n",
       "      <td>4229</td>\n",
       "      <td>010</td>\n",
       "      <td>JANE GOODALL ENVIRONMENTAL SCIENCE ACADEMY</td>\n",
       "      <td>All Students</td>\n",
       "      <td>Graduate</td>\n",
       "      <td>45.45</td>\n",
       "      <td>11</td>\n",
<<<<<<< HEAD
=======
<<<<<<< HEAD
=======
>>>>>>> Ashley
>>>>>>> f32c07fdabd952b1ad2c4fd1e6faec74f276e45a
>>>>>>> master
       "      <td>8046 83rd Street NW</td>\n",
       "      <td>Maple Lake</td>\n",
       "      <td>MN</td>\n",
       "      <td>55358</td>\n",
       "    </tr>\n",
       "    <tr>\n",
<<<<<<< HEAD
=======
<<<<<<< HEAD
=======
<<<<<<< HEAD
       "      <th>788</th>\n",
       "      <td>4229</td>\n",
       "      <td>010</td>\n",
       "      <td>Jane Goodall Environmental Science Academy</td>\n",
       "      <td>All Students</td>\n",
       "      <td>Graduate</td>\n",
       "      <td>45.45</td>\n",
       "      <td>10</td>\n",
=======
>>>>>>> f32c07fdabd952b1ad2c4fd1e6faec74f276e45a
>>>>>>> master
       "      <th>792</th>\n",
       "      <td>4229</td>\n",
       "      <td>010</td>\n",
       "      <td>JANE GOODALL ENVIRONMENTAL SCIENCE ACADEMY</td>\n",
       "      <td>All Students</td>\n",
       "      <td>Graduate</td>\n",
       "      <td>45.45</td>\n",
       "      <td>11</td>\n",
<<<<<<< HEAD
=======
<<<<<<< HEAD
=======
>>>>>>> Ashley
>>>>>>> f32c07fdabd952b1ad2c4fd1e6faec74f276e45a
>>>>>>> master
       "      <td>8046 83rd Street NW</td>\n",
       "      <td>Maple Lake</td>\n",
       "      <td>MN</td>\n",
       "      <td>55358</td>\n",
       "    </tr>\n",
       "    <tr>\n",
<<<<<<< HEAD
=======
<<<<<<< HEAD
=======
<<<<<<< HEAD
       "      <th>789</th>\n",
       "      <td>4237</td>\n",
       "      <td>010</td>\n",
       "      <td>Career Pathways</td>\n",
       "      <td>All Students</td>\n",
       "      <td>Graduate</td>\n",
       "      <td>44.62</td>\n",
       "      <td>0</td>\n",
=======
>>>>>>> f32c07fdabd952b1ad2c4fd1e6faec74f276e45a
>>>>>>> master
       "      <th>793</th>\n",
       "      <td>4237</td>\n",
       "      <td>010</td>\n",
       "      <td>CAREER PATHWAYS</td>\n",
       "      <td>All Students</td>\n",
       "      <td>Graduate</td>\n",
       "      <td>44.62</td>\n",
       "      <td>65</td>\n",
<<<<<<< HEAD
=======
<<<<<<< HEAD
=======
>>>>>>> Ashley
>>>>>>> f32c07fdabd952b1ad2c4fd1e6faec74f276e45a
>>>>>>> master
       "      <td>1355 Pierce Butler Rt</td>\n",
       "      <td>Saint Paul</td>\n",
       "      <td>MN</td>\n",
       "      <td>55104</td>\n",
       "    </tr>\n",
       "    <tr>\n",
<<<<<<< HEAD
=======
<<<<<<< HEAD
=======
<<<<<<< HEAD
       "      <th>790</th>\n",
       "      <td>4237</td>\n",
       "      <td>010</td>\n",
       "      <td>Career Pathways</td>\n",
       "      <td>All Students</td>\n",
       "      <td>Graduate</td>\n",
       "      <td>44.62</td>\n",
       "      <td>10</td>\n",
=======
>>>>>>> f32c07fdabd952b1ad2c4fd1e6faec74f276e45a
>>>>>>> master
       "      <th>794</th>\n",
       "      <td>4237</td>\n",
       "      <td>010</td>\n",
       "      <td>CAREER PATHWAYS</td>\n",
       "      <td>All Students</td>\n",
       "      <td>Graduate</td>\n",
       "      <td>44.62</td>\n",
       "      <td>65</td>\n",
<<<<<<< HEAD
=======
<<<<<<< HEAD
=======
>>>>>>> Ashley
>>>>>>> f32c07fdabd952b1ad2c4fd1e6faec74f276e45a
>>>>>>> master
       "      <td>1355 Pierce Butler Rt</td>\n",
       "      <td>Saint Paul</td>\n",
       "      <td>MN</td>\n",
       "      <td>55104</td>\n",
       "    </tr>\n",
       "    <tr>\n",
<<<<<<< HEAD
=======
<<<<<<< HEAD
=======
<<<<<<< HEAD
       "      <th>791</th>\n",
       "      <td>4238</td>\n",
       "      <td>010</td>\n",
       "      <td>Rochester Beacon Academy</td>\n",
       "      <td>All Students</td>\n",
       "      <td>Graduate</td>\n",
       "      <td>81.82</td>\n",
       "      <td>0</td>\n",
=======
>>>>>>> f32c07fdabd952b1ad2c4fd1e6faec74f276e45a
>>>>>>> master
       "      <th>795</th>\n",
       "      <td>4238</td>\n",
       "      <td>010</td>\n",
       "      <td>ROCHESTER BEACON ACADEMY</td>\n",
       "      <td>All Students</td>\n",
       "      <td>Graduate</td>\n",
       "      <td>81.82</td>\n",
       "      <td>11</td>\n",
<<<<<<< HEAD
=======
<<<<<<< HEAD
=======
>>>>>>> Ashley
>>>>>>> f32c07fdabd952b1ad2c4fd1e6faec74f276e45a
>>>>>>> master
       "      <td>2521 Pennington Dr. NW</td>\n",
       "      <td>Rochester</td>\n",
       "      <td>MN</td>\n",
       "      <td>55901</td>\n",
       "    </tr>\n",
       "    <tr>\n",
<<<<<<< HEAD
=======
<<<<<<< HEAD
=======
<<<<<<< HEAD
       "      <th>792</th>\n",
       "      <td>4238</td>\n",
       "      <td>010</td>\n",
       "      <td>Rochester Beacon Academy</td>\n",
       "      <td>All Students</td>\n",
       "      <td>Graduate</td>\n",
       "      <td>81.82</td>\n",
       "      <td>10</td>\n",
=======
>>>>>>> f32c07fdabd952b1ad2c4fd1e6faec74f276e45a
>>>>>>> master
       "      <th>796</th>\n",
       "      <td>4238</td>\n",
       "      <td>010</td>\n",
       "      <td>ROCHESTER BEACON ACADEMY</td>\n",
       "      <td>All Students</td>\n",
       "      <td>Graduate</td>\n",
       "      <td>81.82</td>\n",
       "      <td>11</td>\n",
<<<<<<< HEAD
=======
<<<<<<< HEAD
=======
>>>>>>> Ashley
>>>>>>> f32c07fdabd952b1ad2c4fd1e6faec74f276e45a
>>>>>>> master
       "      <td>2521 Pennington Dr. NW</td>\n",
       "      <td>Rochester</td>\n",
       "      <td>MN</td>\n",
       "      <td>55901</td>\n",
       "    </tr>\n",
       "    <tr>\n",
<<<<<<< HEAD
=======
<<<<<<< HEAD
=======
<<<<<<< HEAD
       "      <th>793</th>\n",
       "      <td>6004</td>\n",
       "      <td>020</td>\n",
       "      <td>Freshwater Ed. Dist. ALC</td>\n",
       "      <td>All Students</td>\n",
       "      <td>Graduate</td>\n",
       "      <td>57.38</td>\n",
       "      <td>20</td>\n",
=======
>>>>>>> f32c07fdabd952b1ad2c4fd1e6faec74f276e45a
>>>>>>> master
       "      <th>797</th>\n",
       "      <td>6004</td>\n",
       "      <td>020</td>\n",
       "      <td>FRESHWATER ED. DIST. ALC</td>\n",
       "      <td>All Students</td>\n",
       "      <td>Graduate</td>\n",
       "      <td>57.38</td>\n",
       "      <td>61</td>\n",
<<<<<<< HEAD
=======
<<<<<<< HEAD
=======
>>>>>>> Ashley
>>>>>>> f32c07fdabd952b1ad2c4fd1e6faec74f276e45a
>>>>>>> master
       "      <td>1830 Airport Rd, Ste 2</td>\n",
       "      <td>Staples</td>\n",
       "      <td>MN</td>\n",
       "      <td>56479-3252</td>\n",
       "    </tr>\n",
       "    <tr>\n",
<<<<<<< HEAD
=======
<<<<<<< HEAD
=======
<<<<<<< HEAD
       "      <th>794</th>\n",
       "      <td>6012</td>\n",
       "      <td>020</td>\n",
       "      <td>Zumbro Area Learning Center</td>\n",
       "      <td>All Students</td>\n",
       "      <td>Graduate</td>\n",
       "      <td>56.67</td>\n",
       "      <td>20</td>\n",
=======
>>>>>>> f32c07fdabd952b1ad2c4fd1e6faec74f276e45a
>>>>>>> master
       "      <th>798</th>\n",
       "      <td>6012</td>\n",
       "      <td>020</td>\n",
       "      <td>ZUMBRO AREA LEARNING CENTER</td>\n",
       "      <td>All Students</td>\n",
       "      <td>Graduate</td>\n",
       "      <td>56.67</td>\n",
       "      <td>30</td>\n",
<<<<<<< HEAD
=======
<<<<<<< HEAD
=======
>>>>>>> Ashley
>>>>>>> f32c07fdabd952b1ad2c4fd1e6faec74f276e45a
>>>>>>> master
       "      <td>630 1st Ave NW</td>\n",
       "      <td>Byron</td>\n",
       "      <td>MN</td>\n",
       "      <td>55920</td>\n",
       "    </tr>\n",
       "    <tr>\n",
<<<<<<< HEAD
=======
<<<<<<< HEAD
=======
<<<<<<< HEAD
       "      <th>795</th>\n",
       "      <td>6013</td>\n",
       "      <td>012</td>\n",
       "      <td>Valley View Alternative Program</td>\n",
       "      <td>All Students</td>\n",
       "      <td>Graduate</td>\n",
       "      <td>NaN</td>\n",
       "      <td>12</td>\n",
=======
>>>>>>> f32c07fdabd952b1ad2c4fd1e6faec74f276e45a
>>>>>>> master
       "      <th>799</th>\n",
       "      <td>6013</td>\n",
       "      <td>012</td>\n",
       "      <td>VALLEY VIEW ALTERNATIVE PROGRAM</td>\n",
       "      <td>All Students</td>\n",
       "      <td>Graduate</td>\n",
       "      <td>NaN</td>\n",
       "      <td>NaN</td>\n",
<<<<<<< HEAD
=======
<<<<<<< HEAD
=======
>>>>>>> Ashley
>>>>>>> f32c07fdabd952b1ad2c4fd1e6faec74f276e45a
>>>>>>> master
       "      <td>217 W Center</td>\n",
       "      <td>Dover</td>\n",
       "      <td>MN</td>\n",
       "      <td>55959</td>\n",
       "    </tr>\n",
       "    <tr>\n",
<<<<<<< HEAD
=======
<<<<<<< HEAD
=======
<<<<<<< HEAD
       "      <th>796</th>\n",
       "      <td>6013</td>\n",
       "      <td>015</td>\n",
       "      <td>River Valley Academy ALC</td>\n",
       "      <td>All Students</td>\n",
       "      <td>Graduate</td>\n",
       "      <td>73.68</td>\n",
       "      <td>15</td>\n",
=======
>>>>>>> f32c07fdabd952b1ad2c4fd1e6faec74f276e45a
>>>>>>> master
       "      <th>800</th>\n",
       "      <td>6013</td>\n",
       "      <td>015</td>\n",
       "      <td>RIVER VALLEY ACADEMY ALC</td>\n",
       "      <td>All Students</td>\n",
       "      <td>Graduate</td>\n",
       "      <td>73.68</td>\n",
       "      <td>19</td>\n",
<<<<<<< HEAD
=======
<<<<<<< HEAD
=======
>>>>>>> Ashley
>>>>>>> f32c07fdabd952b1ad2c4fd1e6faec74f276e45a
>>>>>>> master
       "      <td>51 Red School Ln</td>\n",
       "      <td>Kellogg</td>\n",
       "      <td>MN</td>\n",
       "      <td>55945-6827</td>\n",
       "    </tr>\n",
       "    <tr>\n",
<<<<<<< HEAD
       "      <th>801</th>\n",
=======
<<<<<<< HEAD
       "      <th>801</th>\n",
=======
<<<<<<< HEAD
       "      <th>797</th>\n",
=======
       "      <th>801</th>\n",
>>>>>>> Ashley
>>>>>>> f32c07fdabd952b1ad2c4fd1e6faec74f276e45a
>>>>>>> master
       "      <td>6014</td>\n",
       "      <td>020</td>\n",
       "      <td>RUNESTONE REGIONAL LEARNING CENTER</td>\n",
       "      <td>All Students</td>\n",
       "      <td>Graduate</td>\n",
       "      <td>38.64</td>\n",
<<<<<<< HEAD
       "      <td>44</td>\n",
=======
<<<<<<< HEAD
       "      <td>44</td>\n",
=======
<<<<<<< HEAD
       "      <td>20</td>\n",
=======
       "      <td>44</td>\n",
>>>>>>> Ashley
>>>>>>> f32c07fdabd952b1ad2c4fd1e6faec74f276e45a
>>>>>>> master
       "      <td>700 Northside Dr NE</td>\n",
       "      <td>Alexandria</td>\n",
       "      <td>MN</td>\n",
       "      <td>56308-5080</td>\n",
       "    </tr>\n",
       "    <tr>\n",
<<<<<<< HEAD
       "      <th>802</th>\n",
=======
<<<<<<< HEAD
       "      <th>802</th>\n",
=======
<<<<<<< HEAD
       "      <th>798</th>\n",
=======
       "      <th>802</th>\n",
>>>>>>> Ashley
>>>>>>> f32c07fdabd952b1ad2c4fd1e6faec74f276e45a
>>>>>>> master
       "      <td>6014</td>\n",
       "      <td>020</td>\n",
       "      <td>RUNESTONE REGIONAL LEARNING CENTER</td>\n",
       "      <td>All Students</td>\n",
       "      <td>Graduate</td>\n",
       "      <td>38.64</td>\n",
<<<<<<< HEAD
       "      <td>44</td>\n",
=======
<<<<<<< HEAD
       "      <td>44</td>\n",
=======
<<<<<<< HEAD
       "      <td>20</td>\n",
=======
       "      <td>44</td>\n",
>>>>>>> Ashley
>>>>>>> f32c07fdabd952b1ad2c4fd1e6faec74f276e45a
>>>>>>> master
       "      <td>700 Northside Dr NE</td>\n",
       "      <td>Alexandria</td>\n",
       "      <td>MN</td>\n",
       "      <td>56308-5080</td>\n",
       "    </tr>\n",
       "    <tr>\n",
<<<<<<< HEAD
=======
<<<<<<< HEAD
=======
<<<<<<< HEAD
       "      <th>799</th>\n",
       "      <td>6018</td>\n",
       "      <td>020</td>\n",
       "      <td>MN River Valley ALC-Seatbased</td>\n",
       "      <td>All Students</td>\n",
       "      <td>Graduate</td>\n",
       "      <td>84.62</td>\n",
       "      <td>20</td>\n",
=======
>>>>>>> f32c07fdabd952b1ad2c4fd1e6faec74f276e45a
>>>>>>> master
       "      <th>803</th>\n",
       "      <td>6018</td>\n",
       "      <td>020</td>\n",
       "      <td>MN RIVER VALLEY ALC-SEATBASED</td>\n",
       "      <td>All Students</td>\n",
       "      <td>Graduate</td>\n",
       "      <td>84.62</td>\n",
       "      <td>26</td>\n",
<<<<<<< HEAD
=======
<<<<<<< HEAD
=======
>>>>>>> Ashley
>>>>>>> f32c07fdabd952b1ad2c4fd1e6faec74f276e45a
>>>>>>> master
       "      <td>1313 E Black Oak Ave</td>\n",
       "      <td>Montevideo</td>\n",
       "      <td>MN</td>\n",
       "      <td>56265-0487</td>\n",
       "    </tr>\n",
       "    <tr>\n",
<<<<<<< HEAD
=======
<<<<<<< HEAD
=======
<<<<<<< HEAD
       "      <th>800</th>\n",
       "      <td>6026</td>\n",
       "      <td>020</td>\n",
       "      <td>West Central Area Learning Center</td>\n",
       "      <td>All Students</td>\n",
       "      <td>Graduate</td>\n",
       "      <td>43.48</td>\n",
       "      <td>20</td>\n",
=======
>>>>>>> f32c07fdabd952b1ad2c4fd1e6faec74f276e45a
>>>>>>> master
       "      <th>804</th>\n",
       "      <td>6026</td>\n",
       "      <td>020</td>\n",
       "      <td>WEST CENTRAL AREA LEARNING CENTER</td>\n",
       "      <td>All Students</td>\n",
       "      <td>Graduate</td>\n",
       "      <td>43.48</td>\n",
       "      <td>23</td>\n",
<<<<<<< HEAD
=======
<<<<<<< HEAD
=======
>>>>>>> Ashley
>>>>>>> f32c07fdabd952b1ad2c4fd1e6faec74f276e45a
>>>>>>> master
       "      <td>9 West 2nd St S</td>\n",
       "      <td>Melrose</td>\n",
       "      <td>MN</td>\n",
       "      <td>56378</td>\n",
       "    </tr>\n",
       "    <tr>\n",
<<<<<<< HEAD
=======
<<<<<<< HEAD
=======
<<<<<<< HEAD
       "      <th>801</th>\n",
       "      <td>6026</td>\n",
       "      <td>020</td>\n",
       "      <td>West Central Area Learning Center</td>\n",
       "      <td>All Students</td>\n",
       "      <td>Graduate</td>\n",
       "      <td>43.48</td>\n",
       "      <td>20</td>\n",
=======
>>>>>>> f32c07fdabd952b1ad2c4fd1e6faec74f276e45a
>>>>>>> master
       "      <th>805</th>\n",
       "      <td>6026</td>\n",
       "      <td>020</td>\n",
       "      <td>WEST CENTRAL AREA LEARNING CENTER</td>\n",
       "      <td>All Students</td>\n",
       "      <td>Graduate</td>\n",
       "      <td>43.48</td>\n",
       "      <td>23</td>\n",
<<<<<<< HEAD
=======
<<<<<<< HEAD
=======
>>>>>>> Ashley
>>>>>>> f32c07fdabd952b1ad2c4fd1e6faec74f276e45a
>>>>>>> master
       "      <td>9 West 2nd St S</td>\n",
       "      <td>Melrose</td>\n",
       "      <td>MN</td>\n",
       "      <td>56378</td>\n",
       "    </tr>\n",
       "    <tr>\n",
<<<<<<< HEAD
=======
<<<<<<< HEAD
=======
<<<<<<< HEAD
       "      <th>802</th>\n",
       "      <td>6049</td>\n",
       "      <td>020</td>\n",
       "      <td>River Bend Area Learning Center</td>\n",
       "      <td>All Students</td>\n",
       "      <td>Graduate</td>\n",
       "      <td>44</td>\n",
       "      <td>20</td>\n",
=======
>>>>>>> f32c07fdabd952b1ad2c4fd1e6faec74f276e45a
>>>>>>> master
       "      <th>806</th>\n",
       "      <td>6049</td>\n",
       "      <td>020</td>\n",
       "      <td>RIVER BEND AREA LEARNING CENTER</td>\n",
       "      <td>All Students</td>\n",
       "      <td>Graduate</td>\n",
       "      <td>44</td>\n",
       "      <td>50</td>\n",
<<<<<<< HEAD
=======
<<<<<<< HEAD
=======
>>>>>>> Ashley
>>>>>>> f32c07fdabd952b1ad2c4fd1e6faec74f276e45a
>>>>>>> master
       "      <td>1315 S Broadway</td>\n",
       "      <td>New Ulm</td>\n",
       "      <td>MN</td>\n",
       "      <td>56073-2223</td>\n",
       "    </tr>\n",
       "    <tr>\n",
<<<<<<< HEAD
=======
<<<<<<< HEAD
=======
<<<<<<< HEAD
       "      <th>803</th>\n",
       "      <td>6051</td>\n",
       "      <td>010</td>\n",
       "      <td>Reach Programs</td>\n",
=======
>>>>>>> f32c07fdabd952b1ad2c4fd1e6faec74f276e45a
>>>>>>> master
       "      <th>807</th>\n",
       "      <td>6051</td>\n",
       "      <td>010</td>\n",
       "      <td>REACH PROGRAMS</td>\n",
<<<<<<< HEAD
=======
<<<<<<< HEAD
=======
>>>>>>> Ashley
>>>>>>> f32c07fdabd952b1ad2c4fd1e6faec74f276e45a
>>>>>>> master
       "      <td>All Students</td>\n",
       "      <td>Graduate</td>\n",
       "      <td>40</td>\n",
       "      <td>10</td>\n",
       "      <td>395 Guernsey Lane</td>\n",
       "      <td>Red Wing</td>\n",
       "      <td>MN</td>\n",
       "      <td>55066-2093</td>\n",
       "    </tr>\n",
       "    <tr>\n",
<<<<<<< HEAD
=======
<<<<<<< HEAD
=======
<<<<<<< HEAD
       "      <th>804</th>\n",
       "      <td>6051</td>\n",
       "      <td>621</td>\n",
       "      <td>Tower View Alternative High School</td>\n",
       "      <td>All Students</td>\n",
       "      <td>Graduate</td>\n",
       "      <td>46.15</td>\n",
       "      <td>621</td>\n",
=======
>>>>>>> f32c07fdabd952b1ad2c4fd1e6faec74f276e45a
>>>>>>> master
       "      <th>808</th>\n",
       "      <td>6051</td>\n",
       "      <td>621</td>\n",
       "      <td>TOWER VIEW ALTERNATIVE HIGH SCHOOL</td>\n",
       "      <td>All Students</td>\n",
       "      <td>Graduate</td>\n",
       "      <td>46.15</td>\n",
       "      <td>39</td>\n",
<<<<<<< HEAD
=======
<<<<<<< HEAD
=======
>>>>>>> Ashley
>>>>>>> f32c07fdabd952b1ad2c4fd1e6faec74f276e45a
>>>>>>> master
       "      <td>154 Tower View Drive</td>\n",
       "      <td>Red Wing</td>\n",
       "      <td>MN</td>\n",
       "      <td>55066-2093</td>\n",
       "    </tr>\n",
       "    <tr>\n",
<<<<<<< HEAD
=======
<<<<<<< HEAD
=======
<<<<<<< HEAD
       "      <th>805</th>\n",
       "      <td>6074</td>\n",
       "      <td>647</td>\n",
       "      <td>Central MN. ALC - Sauk Rapids</td>\n",
       "      <td>All Students</td>\n",
       "      <td>Graduate</td>\n",
       "      <td>44.44</td>\n",
       "      <td>647</td>\n",
=======
>>>>>>> f32c07fdabd952b1ad2c4fd1e6faec74f276e45a
>>>>>>> master
       "      <th>809</th>\n",
       "      <td>6074</td>\n",
       "      <td>647</td>\n",
       "      <td>CENTRAL MN. ALC - SAUK RAPIDS</td>\n",
       "      <td>All Students</td>\n",
       "      <td>Graduate</td>\n",
       "      <td>44.44</td>\n",
       "      <td>18</td>\n",
<<<<<<< HEAD
=======
<<<<<<< HEAD
=======
>>>>>>> Ashley
>>>>>>> f32c07fdabd952b1ad2c4fd1e6faec74f276e45a
>>>>>>> master
       "      <td>1833 Osauka Rd NE</td>\n",
       "      <td>Sauk Rapids</td>\n",
       "      <td>MN</td>\n",
       "      <td>56379-4530</td>\n",
       "    </tr>\n",
       "    <tr>\n",
<<<<<<< HEAD
=======
<<<<<<< HEAD
=======
<<<<<<< HEAD
       "      <th>806</th>\n",
       "      <td>6076</td>\n",
       "      <td>010</td>\n",
       "      <td>Northland Learning Center 010</td>\n",
       "      <td>All Students</td>\n",
       "      <td>Graduate</td>\n",
       "      <td>64</td>\n",
       "      <td>10</td>\n",
=======
>>>>>>> f32c07fdabd952b1ad2c4fd1e6faec74f276e45a
>>>>>>> master
       "      <th>810</th>\n",
       "      <td>6076</td>\n",
       "      <td>010</td>\n",
       "      <td>NORTHLAND LEARNING CENTER 010</td>\n",
       "      <td>All Students</td>\n",
       "      <td>Graduate</td>\n",
       "      <td>64</td>\n",
       "      <td>25</td>\n",
<<<<<<< HEAD
=======
<<<<<<< HEAD
=======
>>>>>>> Ashley
>>>>>>> f32c07fdabd952b1ad2c4fd1e6faec74f276e45a
>>>>>>> master
       "      <td>1201 S 13th Ave</td>\n",
       "      <td>Virginia</td>\n",
       "      <td>MN</td>\n",
       "      <td>55792-3361</td>\n",
       "    </tr>\n",
       "    <tr>\n",
<<<<<<< HEAD
=======
<<<<<<< HEAD
=======
<<<<<<< HEAD
       "      <th>807</th>\n",
       "      <td>6076</td>\n",
       "      <td>020</td>\n",
       "      <td>Northland Learning Center 020</td>\n",
       "      <td>All Students</td>\n",
       "      <td>Graduate</td>\n",
       "      <td>7.14</td>\n",
       "      <td>20</td>\n",
=======
>>>>>>> f32c07fdabd952b1ad2c4fd1e6faec74f276e45a
>>>>>>> master
       "      <th>811</th>\n",
       "      <td>6076</td>\n",
       "      <td>020</td>\n",
       "      <td>NORTHLAND LEARNING CENTER 020</td>\n",
       "      <td>All Students</td>\n",
       "      <td>Graduate</td>\n",
       "      <td>7.14</td>\n",
       "      <td>14</td>\n",
<<<<<<< HEAD
=======
<<<<<<< HEAD
=======
>>>>>>> Ashley
>>>>>>> f32c07fdabd952b1ad2c4fd1e6faec74f276e45a
>>>>>>> master
       "      <td>1201 S 13th Ave</td>\n",
       "      <td>Virginia</td>\n",
       "      <td>MN</td>\n",
       "      <td>55792-3361</td>\n",
       "    </tr>\n",
       "    <tr>\n",
<<<<<<< HEAD
=======
<<<<<<< HEAD
=======
<<<<<<< HEAD
       "      <th>808</th>\n",
       "      <td>6076</td>\n",
       "      <td>025</td>\n",
       "      <td>NSEC Transition Program</td>\n",
       "      <td>All Students</td>\n",
       "      <td>Graduate</td>\n",
       "      <td>NaN</td>\n",
       "      <td>25</td>\n",
=======
>>>>>>> f32c07fdabd952b1ad2c4fd1e6faec74f276e45a
>>>>>>> master
       "      <th>812</th>\n",
       "      <td>6076</td>\n",
       "      <td>025</td>\n",
       "      <td>NSEC TRANSITION PROGRAM</td>\n",
       "      <td>All Students</td>\n",
       "      <td>Graduate</td>\n",
       "      <td>NaN</td>\n",
       "      <td>NaN</td>\n",
<<<<<<< HEAD
=======
<<<<<<< HEAD
=======
>>>>>>> Ashley
>>>>>>> f32c07fdabd952b1ad2c4fd1e6faec74f276e45a
>>>>>>> master
       "      <td>610 9th St N</td>\n",
       "      <td>Virginia</td>\n",
       "      <td>MN</td>\n",
       "      <td>55792</td>\n",
       "    </tr>\n",
       "    <tr>\n",
<<<<<<< HEAD
       "      <th>813</th>\n",
=======
<<<<<<< HEAD
       "      <th>813</th>\n",
=======
<<<<<<< HEAD
       "      <th>809</th>\n",
=======
       "      <th>813</th>\n",
>>>>>>> Ashley
>>>>>>> f32c07fdabd952b1ad2c4fd1e6faec74f276e45a
>>>>>>> master
       "      <td>6079</td>\n",
       "      <td>010</td>\n",
       "      <td>RUM RIVER NORTH</td>\n",
       "      <td>All Students</td>\n",
       "      <td>Graduate</td>\n",
       "      <td>NaN</td>\n",
<<<<<<< HEAD
       "      <td>NaN</td>\n",
=======
<<<<<<< HEAD
       "      <td>NaN</td>\n",
=======
<<<<<<< HEAD
       "      <td>10</td>\n",
=======
       "      <td>NaN</td>\n",
>>>>>>> Ashley
>>>>>>> f32c07fdabd952b1ad2c4fd1e6faec74f276e45a
>>>>>>> master
       "      <td>303 3rd Ave SW</td>\n",
       "      <td>Milaca</td>\n",
       "      <td>MN</td>\n",
       "      <td>55353</td>\n",
       "    </tr>\n",
       "    <tr>\n",
<<<<<<< HEAD
       "      <th>814</th>\n",
=======
<<<<<<< HEAD
       "      <th>814</th>\n",
=======
<<<<<<< HEAD
       "      <th>810</th>\n",
=======
       "      <th>814</th>\n",
>>>>>>> Ashley
>>>>>>> f32c07fdabd952b1ad2c4fd1e6faec74f276e45a
>>>>>>> master
       "      <td>6079</td>\n",
       "      <td>010</td>\n",
       "      <td>RUM RIVER NORTH</td>\n",
       "      <td>All Students</td>\n",
       "      <td>Graduate</td>\n",
       "      <td>NaN</td>\n",
<<<<<<< HEAD
       "      <td>NaN</td>\n",
=======
<<<<<<< HEAD
       "      <td>NaN</td>\n",
=======
<<<<<<< HEAD
       "      <td>10</td>\n",
=======
       "      <td>NaN</td>\n",
>>>>>>> Ashley
>>>>>>> f32c07fdabd952b1ad2c4fd1e6faec74f276e45a
>>>>>>> master
       "      <td>303 3rd Ave SW</td>\n",
       "      <td>Milaca</td>\n",
       "      <td>MN</td>\n",
       "      <td>55353</td>\n",
       "    </tr>\n",
       "    <tr>\n",
<<<<<<< HEAD
       "      <th>815</th>\n",
=======
<<<<<<< HEAD
       "      <th>815</th>\n",
=======
<<<<<<< HEAD
       "      <th>811</th>\n",
=======
       "      <th>815</th>\n",
>>>>>>> Ashley
>>>>>>> f32c07fdabd952b1ad2c4fd1e6faec74f276e45a
>>>>>>> master
       "      <td>6083</td>\n",
       "      <td>050</td>\n",
       "      <td>SMEC ALC</td>\n",
       "      <td>All Students</td>\n",
       "      <td>Graduate</td>\n",
       "      <td>56.25</td>\n",
<<<<<<< HEAD
       "      <td>16</td>\n",
=======
<<<<<<< HEAD
       "      <td>16</td>\n",
=======
<<<<<<< HEAD
       "      <td>50</td>\n",
=======
       "      <td>16</td>\n",
>>>>>>> Ashley
>>>>>>> f32c07fdabd952b1ad2c4fd1e6faec74f276e45a
>>>>>>> master
       "      <td>11 4th st. SW</td>\n",
       "      <td>Adams</td>\n",
       "      <td>MN</td>\n",
       "      <td>55909</td>\n",
       "    </tr>\n",
       "    <tr>\n",
<<<<<<< HEAD
=======
<<<<<<< HEAD
=======
<<<<<<< HEAD
       "      <th>812</th>\n",
       "      <td>6090</td>\n",
       "      <td>020</td>\n",
       "      <td>Monticello High School - SNW</td>\n",
       "      <td>All Students</td>\n",
       "      <td>Graduate</td>\n",
       "      <td>NaN</td>\n",
       "      <td>20</td>\n",
=======
>>>>>>> f32c07fdabd952b1ad2c4fd1e6faec74f276e45a
>>>>>>> master
       "      <th>816</th>\n",
       "      <td>6090</td>\n",
       "      <td>020</td>\n",
       "      <td>MONTICELLO HIGH SCHOOL - SNW</td>\n",
       "      <td>All Students</td>\n",
       "      <td>Graduate</td>\n",
       "      <td>NaN</td>\n",
       "      <td>NaN</td>\n",
<<<<<<< HEAD
=======
<<<<<<< HEAD
=======
>>>>>>> Ashley
>>>>>>> f32c07fdabd952b1ad2c4fd1e6faec74f276e45a
>>>>>>> master
       "      <td>302 Washington Street</td>\n",
       "      <td>Monticello</td>\n",
       "      <td>MN</td>\n",
       "      <td>55362</td>\n",
       "    </tr>\n",
       "    <tr>\n",
<<<<<<< HEAD
       "      <th>817</th>\n",
=======
<<<<<<< HEAD
       "      <th>817</th>\n",
=======
<<<<<<< HEAD
       "      <th>813</th>\n",
=======
       "      <th>817</th>\n",
>>>>>>> Ashley
>>>>>>> f32c07fdabd952b1ad2c4fd1e6faec74f276e45a
>>>>>>> master
       "      <td>6094</td>\n",
       "      <td>050</td>\n",
       "      <td>CVSEC STEP</td>\n",
       "      <td>All Students</td>\n",
       "      <td>Graduate</td>\n",
       "      <td>NaN</td>\n",
<<<<<<< HEAD
       "      <td>NaN</td>\n",
=======
<<<<<<< HEAD
       "      <td>NaN</td>\n",
=======
<<<<<<< HEAD
       "      <td>50</td>\n",
=======
       "      <td>NaN</td>\n",
>>>>>>> Ashley
>>>>>>> f32c07fdabd952b1ad2c4fd1e6faec74f276e45a
>>>>>>> master
       "      <td>2800 1st Avenue NW</td>\n",
       "      <td>Faribault</td>\n",
       "      <td>MN</td>\n",
       "      <td>55021</td>\n",
       "    </tr>\n",
       "    <tr>\n",
<<<<<<< HEAD
=======
<<<<<<< HEAD
=======
<<<<<<< HEAD
       "      <th>814</th>\n",
       "      <td>6095</td>\n",
       "      <td>550</td>\n",
       "      <td>Oakland Education Center</td>\n",
       "      <td>All Students</td>\n",
       "      <td>Graduate</td>\n",
       "      <td>30</td>\n",
       "      <td>550</td>\n",
=======
>>>>>>> f32c07fdabd952b1ad2c4fd1e6faec74f276e45a
>>>>>>> master
       "      <th>818</th>\n",
       "      <td>6095</td>\n",
       "      <td>550</td>\n",
       "      <td>OAKLAND EDUCATION CENTER</td>\n",
       "      <td>All Students</td>\n",
       "      <td>Graduate</td>\n",
       "      <td>30</td>\n",
       "      <td>10</td>\n",
<<<<<<< HEAD
=======
<<<<<<< HEAD
=======
>>>>>>> Ashley
>>>>>>> f32c07fdabd952b1ad2c4fd1e6faec74f276e45a
>>>>>>> master
       "      <td>2001 2nd AVe NW</td>\n",
       "      <td>Austin</td>\n",
       "      <td>MN</td>\n",
       "      <td>55912</td>\n",
       "    </tr>\n",
       "  </tbody>\n",
       "</table>\n",
<<<<<<< HEAD
=======
<<<<<<< HEAD
=======
<<<<<<< HEAD
       "<p>815 rows × 11 columns</p>\n",
       "</div>"
      ],
      "text/plain": [
       "    District Number School Number_x  \\\n",
       "0              0001             001   \n",
       "1              0001             307   \n",
       "2              0001             346   \n",
       "3              0001             347   \n",
       "4              0001             348   \n",
       "5              0001             349   \n",
       "6              0001             352   \n",
       "7              0001             352   \n",
       "8              0001             352   \n",
       "9              0001             353   \n",
       "10             0001             354   \n",
       "11             0001             354   \n",
       "12             0001             354   \n",
       "13             0001             357   \n",
       "14             0001             360   \n",
       "15             0001             360   \n",
       "16             0001             360   \n",
       "17             0001             361   \n",
       "18             0001             362   \n",
       "19             0001             362   \n",
       "20             0001             362   \n",
       "21             0001             362   \n",
       "22             0001             363   \n",
       "23             0001             364   \n",
       "24             0001             364   \n",
       "25             0001             364   \n",
       "26             0001             364   \n",
       "27             0001             368   \n",
       "28             0001             368   \n",
       "29             0001             368   \n",
       "..              ...             ...   \n",
       "785            4217             010   \n",
       "786            4217             020   \n",
       "787            4229             010   \n",
       "788            4229             010   \n",
       "789            4237             010   \n",
       "790            4237             010   \n",
       "791            4238             010   \n",
       "792            4238             010   \n",
       "793            6004             020   \n",
       "794            6012             020   \n",
       "795            6013             012   \n",
       "796            6013             015   \n",
       "797            6014             020   \n",
       "798            6014             020   \n",
       "799            6018             020   \n",
       "800            6026             020   \n",
       "801            6026             020   \n",
       "802            6049             020   \n",
       "803            6051             010   \n",
       "804            6051             621   \n",
       "805            6074             647   \n",
       "806            6076             010   \n",
       "807            6076             020   \n",
       "808            6076             025   \n",
       "809            6079             010   \n",
       "810            6079             010   \n",
       "811            6083             050   \n",
       "812            6090             020   \n",
       "813            6094             050   \n",
       "814            6095             550   \n",
       "\n",
       "                                    School Name Demographic Description  \\\n",
       "0                       Aitkin Secondary School            All Students   \n",
       "1                                Basic Skills-4            All Students   \n",
       "2                                800 W Broadway            All Students   \n",
       "3                              FAIR Senior High            All Students   \n",
       "4                                          MERC            All Students   \n",
       "5                          Loring-Nicollet High            All Students   \n",
       "6                            Edison Senior High            All Students   \n",
       "7                            Edison Senior High            All Students   \n",
       "8                            Edison Senior High            All Students   \n",
       "9                        Longfellow Alternative            All Students   \n",
       "10                            Henry Senior High            All Students   \n",
       "11                            Henry Senior High            All Students   \n",
       "12                            Henry Senior High            All Students   \n",
       "13                        Plymouth Youth Center            All Students   \n",
       "14                        Roosevelt Senior High            All Students   \n",
       "15                        Roosevelt Senior High            All Students   \n",
       "16                        Roosevelt Senior High            All Students   \n",
       "17                                Center School            All Students   \n",
       "18                            South Senior High            All Students   \n",
       "19                            South Senior High            All Students   \n",
       "20                            South Senior High            All Students   \n",
       "21                            South Senior High            All Students   \n",
       "22                 Wellstone International High            All Students   \n",
       "23                        Southwest Senior High            All Students   \n",
       "24                        Southwest Senior High            All Students   \n",
       "25                        Southwest Senior High            All Students   \n",
       "26                        Southwest Senior High            All Students   \n",
       "27                         Washburn Senior High            All Students   \n",
       "28                         Washburn Senior High            All Students   \n",
       "29                         Washburn Senior High            All Students   \n",
       "..                                          ...                     ...   \n",
       "785                     DREAM Technical Academy            All Students   \n",
       "786                    CHOICE Technical Academy            All Students   \n",
       "787  Jane Goodall Environmental Science Academy            All Students   \n",
       "788  Jane Goodall Environmental Science Academy            All Students   \n",
       "789                             Career Pathways            All Students   \n",
       "790                             Career Pathways            All Students   \n",
       "791                    Rochester Beacon Academy            All Students   \n",
       "792                    Rochester Beacon Academy            All Students   \n",
       "793                    Freshwater Ed. Dist. ALC            All Students   \n",
       "794                 Zumbro Area Learning Center            All Students   \n",
       "795             Valley View Alternative Program            All Students   \n",
       "796                    River Valley Academy ALC            All Students   \n",
       "797          RUNESTONE REGIONAL LEARNING CENTER            All Students   \n",
       "798          RUNESTONE REGIONAL LEARNING CENTER            All Students   \n",
       "799               MN River Valley ALC-Seatbased            All Students   \n",
       "800           West Central Area Learning Center            All Students   \n",
       "801           West Central Area Learning Center            All Students   \n",
       "802             River Bend Area Learning Center            All Students   \n",
       "803                              Reach Programs            All Students   \n",
       "804          Tower View Alternative High School            All Students   \n",
       "805               Central MN. ALC - Sauk Rapids            All Students   \n",
       "806               Northland Learning Center 010            All Students   \n",
       "807               Northland Learning Center 020            All Students   \n",
       "808                     NSEC Transition Program            All Students   \n",
       "809                             RUM RIVER NORTH            All Students   \n",
       "810                             RUM RIVER NORTH            All Students   \n",
       "811                                    SMEC ALC            All Students   \n",
       "812                Monticello High School - SNW            All Students   \n",
       "813                                  CVSEC STEP            All Students   \n",
       "814                    Oakland Education Center            All Students   \n",
       "\n",
       "    Ending Status Four Year Percent  School Number_y  \\\n",
       "0        Graduate              90.8                1   \n",
       "1        Graduate             77.36              307   \n",
       "2        Graduate              3.57              346   \n",
       "3        Graduate             79.37              347   \n",
       "4        Graduate               3.7              348   \n",
       "5        Graduate              37.5              349   \n",
       "6        Graduate             59.81              352   \n",
       "7        Graduate             59.81              352   \n",
       "8        Graduate             59.81              352   \n",
       "9        Graduate              12.9              353   \n",
       "10       Graduate             70.91              354   \n",
       "11       Graduate             70.91              354   \n",
       "12       Graduate             70.91              354   \n",
       "13       Graduate             15.38              357   \n",
       "14       Graduate             67.19              360   \n",
       "15       Graduate             67.19              360   \n",
       "16       Graduate             67.19              360   \n",
       "17       Graduate               NaN              361   \n",
       "18       Graduate             79.13              362   \n",
       "19       Graduate             79.13              362   \n",
       "20       Graduate             79.13              362   \n",
       "21       Graduate             79.13              362   \n",
       "22       Graduate             41.58              363   \n",
       "23       Graduate             86.81              364   \n",
       "24       Graduate             86.81              364   \n",
       "25       Graduate             86.81              364   \n",
       "26       Graduate             86.81              364   \n",
       "27       Graduate             86.91              368   \n",
       "28       Graduate             86.91              368   \n",
       "29       Graduate             86.91              368   \n",
       "..            ...               ...              ...   \n",
       "785      Graduate                60               10   \n",
       "786      Graduate                20               20   \n",
       "787      Graduate             45.45                0   \n",
       "788      Graduate             45.45               10   \n",
       "789      Graduate             44.62                0   \n",
       "790      Graduate             44.62               10   \n",
       "791      Graduate             81.82                0   \n",
       "792      Graduate             81.82               10   \n",
       "793      Graduate             57.38               20   \n",
       "794      Graduate             56.67               20   \n",
       "795      Graduate               NaN               12   \n",
       "796      Graduate             73.68               15   \n",
       "797      Graduate             38.64               20   \n",
       "798      Graduate             38.64               20   \n",
       "799      Graduate             84.62               20   \n",
       "800      Graduate             43.48               20   \n",
       "801      Graduate             43.48               20   \n",
       "802      Graduate                44               20   \n",
       "803      Graduate                40               10   \n",
       "804      Graduate             46.15              621   \n",
       "805      Graduate             44.44              647   \n",
       "806      Graduate                64               10   \n",
       "807      Graduate              7.14               20   \n",
       "808      Graduate               NaN               25   \n",
       "809      Graduate               NaN               10   \n",
       "810      Graduate               NaN               10   \n",
       "811      Graduate             56.25               50   \n",
       "812      Graduate               NaN               20   \n",
       "813      Graduate               NaN               50   \n",
       "814      Graduate                30              550   \n",
=======
>>>>>>> f32c07fdabd952b1ad2c4fd1e6faec74f276e45a
>>>>>>> master
       "<p>819 rows × 11 columns</p>\n",
       "</div>"
      ],
      "text/plain": [
       "    District Number School Number                                 School Name  \\\n",
       "0              0001           001                     AITKIN SECONDARY SCHOOL   \n",
       "1              0001           307                              BASIC SKILLS-4   \n",
       "2              0001           346                              800 W BROADWAY   \n",
       "3              0001           347                            FAIR SENIOR HIGH   \n",
       "4              0001           348                                        MERC   \n",
       "5              0001           349                        LORING-NICOLLET HIGH   \n",
       "6              0001           352                          EDISON SENIOR HIGH   \n",
       "7              0001           352                          EDISON SENIOR HIGH   \n",
       "8              0001           352                          EDISON SENIOR HIGH   \n",
       "9              0001           353                      LONGFELLOW ALTERNATIVE   \n",
       "10             0001           354                           HENRY SENIOR HIGH   \n",
       "11             0001           354                           HENRY SENIOR HIGH   \n",
       "12             0001           354                           HENRY SENIOR HIGH   \n",
       "13             0001           357                       PLYMOUTH YOUTH CENTER   \n",
       "14             0001           360                       ROOSEVELT SENIOR HIGH   \n",
       "15             0001           360                       ROOSEVELT SENIOR HIGH   \n",
       "16             0001           360                       ROOSEVELT SENIOR HIGH   \n",
       "17             0001           361                               CENTER SCHOOL   \n",
       "18             0001           362                           SOUTH SENIOR HIGH   \n",
       "19             0001           362                           SOUTH SENIOR HIGH   \n",
       "20             0001           362                           SOUTH SENIOR HIGH   \n",
       "21             0001           362                           SOUTH SENIOR HIGH   \n",
       "22             0001           363                WELLSTONE INTERNATIONAL HIGH   \n",
       "23             0001           364                       SOUTHWEST SENIOR HIGH   \n",
       "24             0001           364                       SOUTHWEST SENIOR HIGH   \n",
       "25             0001           364                       SOUTHWEST SENIOR HIGH   \n",
       "26             0001           364                       SOUTHWEST SENIOR HIGH   \n",
       "27             0001           368                        WASHBURN SENIOR HIGH   \n",
       "28             0001           368                        WASHBURN SENIOR HIGH   \n",
       "29             0001           368                        WASHBURN SENIOR HIGH   \n",
       "..              ...           ...                                         ...   \n",
       "789            4217           010                     DREAM TECHNICAL ACADEMY   \n",
       "790            4217           020                    CHOICE TECHNICAL ACADEMY   \n",
       "791            4229           010  JANE GOODALL ENVIRONMENTAL SCIENCE ACADEMY   \n",
       "792            4229           010  JANE GOODALL ENVIRONMENTAL SCIENCE ACADEMY   \n",
       "793            4237           010                             CAREER PATHWAYS   \n",
       "794            4237           010                             CAREER PATHWAYS   \n",
       "795            4238           010                    ROCHESTER BEACON ACADEMY   \n",
       "796            4238           010                    ROCHESTER BEACON ACADEMY   \n",
       "797            6004           020                    FRESHWATER ED. DIST. ALC   \n",
       "798            6012           020                 ZUMBRO AREA LEARNING CENTER   \n",
       "799            6013           012             VALLEY VIEW ALTERNATIVE PROGRAM   \n",
       "800            6013           015                    RIVER VALLEY ACADEMY ALC   \n",
       "801            6014           020          RUNESTONE REGIONAL LEARNING CENTER   \n",
       "802            6014           020          RUNESTONE REGIONAL LEARNING CENTER   \n",
       "803            6018           020               MN RIVER VALLEY ALC-SEATBASED   \n",
       "804            6026           020           WEST CENTRAL AREA LEARNING CENTER   \n",
       "805            6026           020           WEST CENTRAL AREA LEARNING CENTER   \n",
       "806            6049           020             RIVER BEND AREA LEARNING CENTER   \n",
       "807            6051           010                              REACH PROGRAMS   \n",
       "808            6051           621          TOWER VIEW ALTERNATIVE HIGH SCHOOL   \n",
       "809            6074           647               CENTRAL MN. ALC - SAUK RAPIDS   \n",
       "810            6076           010               NORTHLAND LEARNING CENTER 010   \n",
       "811            6076           020               NORTHLAND LEARNING CENTER 020   \n",
       "812            6076           025                     NSEC TRANSITION PROGRAM   \n",
       "813            6079           010                             RUM RIVER NORTH   \n",
       "814            6079           010                             RUM RIVER NORTH   \n",
       "815            6083           050                                    SMEC ALC   \n",
       "816            6090           020                MONTICELLO HIGH SCHOOL - SNW   \n",
       "817            6094           050                                  CVSEC STEP   \n",
       "818            6095           550                    OAKLAND EDUCATION CENTER   \n",
       "\n",
       "    Demographic Description Ending Status Four Year Percent Four Year Total  \\\n",
       "0              All Students      Graduate              90.8              87   \n",
       "1              All Students      Graduate             77.36             106   \n",
       "2              All Students      Graduate              3.57              28   \n",
       "3              All Students      Graduate             79.37              63   \n",
       "4              All Students      Graduate               3.7              27   \n",
       "5              All Students      Graduate              37.5              24   \n",
       "6              All Students      Graduate             59.81             214   \n",
       "7              All Students      Graduate             59.81             214   \n",
       "8              All Students      Graduate             59.81             214   \n",
       "9              All Students      Graduate              12.9              31   \n",
       "10             All Students      Graduate             70.91             220   \n",
       "11             All Students      Graduate             70.91             220   \n",
       "12             All Students      Graduate             70.91             220   \n",
       "13             All Students      Graduate             15.38              65   \n",
       "14             All Students      Graduate             67.19             192   \n",
       "15             All Students      Graduate             67.19             192   \n",
       "16             All Students      Graduate             67.19             192   \n",
       "17             All Students      Graduate               NaN             NaN   \n",
       "18             All Students      Graduate             79.13             436   \n",
       "19             All Students      Graduate             79.13             436   \n",
       "20             All Students      Graduate             79.13             436   \n",
       "21             All Students      Graduate             79.13             436   \n",
       "22             All Students      Graduate             41.58             101   \n",
       "23             All Students      Graduate             86.81             417   \n",
       "24             All Students      Graduate             86.81             417   \n",
       "25             All Students      Graduate             86.81             417   \n",
       "26             All Students      Graduate             86.81             417   \n",
       "27             All Students      Graduate             86.91             359   \n",
       "28             All Students      Graduate             86.91             359   \n",
       "29             All Students      Graduate             86.91             359   \n",
       "..                      ...           ...               ...             ...   \n",
       "789            All Students      Graduate                60              20   \n",
       "790            All Students      Graduate                20              15   \n",
       "791            All Students      Graduate             45.45              11   \n",
       "792            All Students      Graduate             45.45              11   \n",
       "793            All Students      Graduate             44.62              65   \n",
       "794            All Students      Graduate             44.62              65   \n",
       "795            All Students      Graduate             81.82              11   \n",
       "796            All Students      Graduate             81.82              11   \n",
       "797            All Students      Graduate             57.38              61   \n",
       "798            All Students      Graduate             56.67              30   \n",
       "799            All Students      Graduate               NaN             NaN   \n",
       "800            All Students      Graduate             73.68              19   \n",
       "801            All Students      Graduate             38.64              44   \n",
       "802            All Students      Graduate             38.64              44   \n",
       "803            All Students      Graduate             84.62              26   \n",
       "804            All Students      Graduate             43.48              23   \n",
       "805            All Students      Graduate             43.48              23   \n",
       "806            All Students      Graduate                44              50   \n",
       "807            All Students      Graduate                40              10   \n",
       "808            All Students      Graduate             46.15              39   \n",
       "809            All Students      Graduate             44.44              18   \n",
       "810            All Students      Graduate                64              25   \n",
       "811            All Students      Graduate              7.14              14   \n",
       "812            All Students      Graduate               NaN             NaN   \n",
       "813            All Students      Graduate               NaN             NaN   \n",
       "814            All Students      Graduate               NaN             NaN   \n",
       "815            All Students      Graduate             56.25              16   \n",
       "816            All Students      Graduate               NaN             NaN   \n",
       "817            All Students      Graduate               NaN             NaN   \n",
       "818            All Students      Graduate                30              10   \n",
<<<<<<< HEAD
=======
<<<<<<< HEAD
=======
>>>>>>> Ashley
>>>>>>> f32c07fdabd952b1ad2c4fd1e6faec74f276e45a
>>>>>>> master
       "\n",
       "              Physical Line 1 Physical City Physical State Physical Zip  \n",
       "0               306 2nd St NW        Aitkin             MN        56431  \n",
       "1         1250 W Broadway Ave   Minneapolis             MN        55411  \n",
       "2          1250 West Broadway   Minneapolis             MN        55411  \n",
       "3        10 South 10th Street   Minneapolis             MN        55403  \n",
       "4           2539 Pleasant Ave   Minneapolis             MN   55404-4213  \n",
       "5         1925 Nicollet Ave S   Minneapolis             MN        55403  \n",
       "6             700 22nd Ave NE   Minneapolis             MN        55418  \n",
       "7             700 22nd Ave NE   Minneapolis             MN        55418  \n",
       "8             700 22nd Ave NE   Minneapolis             MN        55418  \n",
       "9              3017 E 31st St   Minneapolis             MN        55406  \n",
       "10          4320 Newton Ave N   Minneapolis             MN        55412  \n",
       "11          4320 Newton Ave N   Minneapolis             MN        55412  \n",
       "12          4320 Newton Ave N   Minneapolis             MN        55412  \n",
       "13          2210 Oliver Ave N   Minneapolis             MN        55411  \n",
       "14            4029 28th Ave S   Minneapolis             MN        55406  \n",
       "15            4029 28th Ave S   Minneapolis             MN        55406  \n",
       "16            4029 28th Ave S   Minneapolis             MN        55406  \n",
       "17       2421 Bloomington Ave   Minneapolis             MN        55404  \n",
       "18            3131 19th Ave S   Minneapolis             MN        55407  \n",
       "19            3131 19th Ave S   Minneapolis             MN        55407  \n",
       "20            3131 19th Ave S   Minneapolis             MN        55407  \n",
       "21            3131 19th Ave S   Minneapolis             MN        55407  \n",
       "22   3328 Elliot Avenue South   Minneapolis             MN        55407  \n",
       "23             3414 W 47th St   Minneapolis             MN        55410  \n",
       "24             3414 W 47th St   Minneapolis             MN        55410  \n",
       "25             3414 W 47th St   Minneapolis             MN        55410  \n",
       "26             3414 W 47th St   Minneapolis             MN        55410  \n",
       "27              201 W 49th St   Minneapolis             MN        55419  \n",
       "28              201 W 49th St   Minneapolis             MN        55419  \n",
       "29              201 W 49th St   Minneapolis             MN        55419  \n",
       "..                        ...           ...            ...          ...  \n",
<<<<<<< HEAD
=======
<<<<<<< HEAD
=======
<<<<<<< HEAD
       "785       1705 16th Street NE       Willmar             MN        56201  \n",
       "786       315 South Grove Ave      Owatonna             MN        55060  \n",
       "787       8046 83rd Street NW    Maple Lake             MN        55358  \n",
       "788       8046 83rd Street NW    Maple Lake             MN        55358  \n",
       "789     1355 Pierce Butler Rt    Saint Paul             MN        55104  \n",
       "790     1355 Pierce Butler Rt    Saint Paul             MN        55104  \n",
       "791    2521 Pennington Dr. NW     Rochester             MN        55901  \n",
       "792    2521 Pennington Dr. NW     Rochester             MN        55901  \n",
       "793    1830 Airport Rd, Ste 2       Staples             MN   56479-3252  \n",
       "794            630 1st Ave NW         Byron             MN        55920  \n",
       "795              217 W Center         Dover             MN        55959  \n",
       "796          51 Red School Ln       Kellogg             MN   55945-6827  \n",
       "797       700 Northside Dr NE    Alexandria             MN   56308-5080  \n",
       "798       700 Northside Dr NE    Alexandria             MN   56308-5080  \n",
       "799      1313 E Black Oak Ave    Montevideo             MN   56265-0487  \n",
       "800           9 West 2nd St S       Melrose             MN        56378  \n",
       "801           9 West 2nd St S       Melrose             MN        56378  \n",
       "802           1315 S Broadway       New Ulm             MN   56073-2223  \n",
       "803         395 Guernsey Lane      Red Wing             MN   55066-2093  \n",
       "804      154 Tower View Drive      Red Wing             MN   55066-2093  \n",
       "805         1833 Osauka Rd NE   Sauk Rapids             MN   56379-4530  \n",
       "806           1201 S 13th Ave      Virginia             MN   55792-3361  \n",
       "807           1201 S 13th Ave      Virginia             MN   55792-3361  \n",
       "808              610 9th St N      Virginia             MN        55792  \n",
       "809            303 3rd Ave SW        Milaca             MN        55353  \n",
       "810            303 3rd Ave SW        Milaca             MN        55353  \n",
       "811             11 4th st. SW         Adams             MN        55909  \n",
       "812     302 Washington Street    Monticello             MN        55362  \n",
       "813        2800 1st Avenue NW     Faribault             MN        55021  \n",
       "814           2001 2nd AVe NW        Austin             MN        55912  \n",
       "\n",
       "[815 rows x 11 columns]"
      ]
     },
     "execution_count": 78,
=======
>>>>>>> f32c07fdabd952b1ad2c4fd1e6faec74f276e45a
>>>>>>> master
       "789       1705 16th Street NE       Willmar             MN        56201  \n",
       "790       315 South Grove Ave      Owatonna             MN        55060  \n",
       "791       8046 83rd Street NW    Maple Lake             MN        55358  \n",
       "792       8046 83rd Street NW    Maple Lake             MN        55358  \n",
       "793     1355 Pierce Butler Rt    Saint Paul             MN        55104  \n",
       "794     1355 Pierce Butler Rt    Saint Paul             MN        55104  \n",
       "795    2521 Pennington Dr. NW     Rochester             MN        55901  \n",
       "796    2521 Pennington Dr. NW     Rochester             MN        55901  \n",
       "797    1830 Airport Rd, Ste 2       Staples             MN   56479-3252  \n",
       "798            630 1st Ave NW         Byron             MN        55920  \n",
       "799              217 W Center         Dover             MN        55959  \n",
       "800          51 Red School Ln       Kellogg             MN   55945-6827  \n",
       "801       700 Northside Dr NE    Alexandria             MN   56308-5080  \n",
       "802       700 Northside Dr NE    Alexandria             MN   56308-5080  \n",
       "803      1313 E Black Oak Ave    Montevideo             MN   56265-0487  \n",
       "804           9 West 2nd St S       Melrose             MN        56378  \n",
       "805           9 West 2nd St S       Melrose             MN        56378  \n",
       "806           1315 S Broadway       New Ulm             MN   56073-2223  \n",
       "807         395 Guernsey Lane      Red Wing             MN   55066-2093  \n",
       "808      154 Tower View Drive      Red Wing             MN   55066-2093  \n",
       "809         1833 Osauka Rd NE   Sauk Rapids             MN   56379-4530  \n",
       "810           1201 S 13th Ave      Virginia             MN   55792-3361  \n",
       "811           1201 S 13th Ave      Virginia             MN   55792-3361  \n",
       "812              610 9th St N      Virginia             MN        55792  \n",
       "813            303 3rd Ave SW        Milaca             MN        55353  \n",
       "814            303 3rd Ave SW        Milaca             MN        55353  \n",
       "815             11 4th st. SW         Adams             MN        55909  \n",
       "816     302 Washington Street    Monticello             MN        55362  \n",
       "817        2800 1st Avenue NW     Faribault             MN        55021  \n",
       "818           2001 2nd AVe NW        Austin             MN        55912  \n",
       "\n",
       "[819 rows x 11 columns]"
      ]
     },
     "execution_count": 31,
<<<<<<< HEAD
=======
<<<<<<< HEAD
=======
>>>>>>> Ashley
>>>>>>> f32c07fdabd952b1ad2c4fd1e6faec74f276e45a
>>>>>>> master
     "metadata": {},
     "output_type": "execute_result"
    }
   ],
   "source": [
<<<<<<< HEAD
    "#Merge cleaned graduation datafrmae with cleaned school address file\n",
=======
<<<<<<< HEAD
    "#Merge cleaned graduation datafrmae with cleaned school address file\n",
=======
>>>>>>> f32c07fdabd952b1ad2c4fd1e6faec74f276e45a
>>>>>>> master
    "merge_df = pd.merge(all_grad, school_df2, on='School Name')\n",
    "merge_df"
   ]
  },
  {
   "cell_type": "code",
<<<<<<< HEAD
=======
<<<<<<< HEAD
=======
<<<<<<< HEAD
   "execution_count": 56,
   "metadata": {},
   "outputs": [],
   "source": [
    "merge_df.to_excel(r'Resources\\CleanedGradFile2018.xlsx')"
   ]
  },
  {
   "cell_type": "code",
   "execution_count": null,
   "metadata": {},
   "outputs": [],
   "source": []
  },
  {
   "cell_type": "code",
   "execution_count": null,
   "metadata": {},
   "outputs": [],
   "source": []
  },
  {
   "cell_type": "code",
   "execution_count": null,
   "metadata": {},
   "outputs": [],
   "source": []
=======
>>>>>>> f32c07fdabd952b1ad2c4fd1e6faec74f276e45a
>>>>>>> master
   "execution_count": 32,
   "metadata": {},
   "outputs": [
    {
     "data": {
      "text/html": [
       "<div>\n",
       "<style scoped>\n",
       "    .dataframe tbody tr th:only-of-type {\n",
       "        vertical-align: middle;\n",
       "    }\n",
       "\n",
       "    .dataframe tbody tr th {\n",
       "        vertical-align: top;\n",
       "    }\n",
       "\n",
       "    .dataframe thead th {\n",
       "        text-align: right;\n",
       "    }\n",
       "</style>\n",
       "<table border=\"1\" class=\"dataframe\">\n",
       "  <thead>\n",
       "    <tr style=\"text-align: right;\">\n",
       "      <th></th>\n",
       "      <th>District Number</th>\n",
       "      <th>School Number</th>\n",
       "      <th>School Name</th>\n",
       "      <th>Demographic Description</th>\n",
       "      <th>Ending Status</th>\n",
       "      <th>Four Year Percent</th>\n",
       "      <th>Four Year Total</th>\n",
       "      <th>Physical Line 1</th>\n",
       "      <th>Physical City</th>\n",
       "      <th>Physical State</th>\n",
       "      <th>Physical Zip</th>\n",
       "    </tr>\n",
       "  </thead>\n",
       "  <tbody>\n",
       "    <tr>\n",
       "      <th>0</th>\n",
       "      <td>0001</td>\n",
       "      <td>001</td>\n",
       "      <td>AITKIN SECONDARY SCHOOL</td>\n",
       "      <td>All Students</td>\n",
       "      <td>Graduate</td>\n",
       "      <td>90.8</td>\n",
       "      <td>87</td>\n",
       "      <td>306 2nd St NW</td>\n",
       "      <td>Aitkin</td>\n",
       "      <td>MN</td>\n",
       "      <td>56431</td>\n",
       "    </tr>\n",
       "    <tr>\n",
       "      <th>1</th>\n",
       "      <td>0001</td>\n",
       "      <td>307</td>\n",
       "      <td>BASIC SKILLS-4</td>\n",
       "      <td>All Students</td>\n",
       "      <td>Graduate</td>\n",
       "      <td>77.36</td>\n",
       "      <td>106</td>\n",
       "      <td>1250 W Broadway Ave</td>\n",
       "      <td>Minneapolis</td>\n",
       "      <td>MN</td>\n",
       "      <td>55411</td>\n",
       "    </tr>\n",
       "    <tr>\n",
       "      <th>2</th>\n",
       "      <td>0001</td>\n",
       "      <td>346</td>\n",
       "      <td>800 W BROADWAY</td>\n",
       "      <td>All Students</td>\n",
       "      <td>Graduate</td>\n",
       "      <td>3.57</td>\n",
       "      <td>28</td>\n",
       "      <td>1250 West Broadway</td>\n",
       "      <td>Minneapolis</td>\n",
       "      <td>MN</td>\n",
       "      <td>55411</td>\n",
       "    </tr>\n",
       "    <tr>\n",
       "      <th>3</th>\n",
       "      <td>0001</td>\n",
       "      <td>347</td>\n",
       "      <td>FAIR SENIOR HIGH</td>\n",
       "      <td>All Students</td>\n",
       "      <td>Graduate</td>\n",
       "      <td>79.37</td>\n",
       "      <td>63</td>\n",
       "      <td>10 South 10th Street</td>\n",
       "      <td>Minneapolis</td>\n",
       "      <td>MN</td>\n",
       "      <td>55403</td>\n",
       "    </tr>\n",
       "    <tr>\n",
       "      <th>4</th>\n",
       "      <td>0001</td>\n",
       "      <td>348</td>\n",
       "      <td>MERC</td>\n",
       "      <td>All Students</td>\n",
       "      <td>Graduate</td>\n",
       "      <td>3.7</td>\n",
       "      <td>27</td>\n",
       "      <td>2539 Pleasant Ave</td>\n",
       "      <td>Minneapolis</td>\n",
       "      <td>MN</td>\n",
       "      <td>55404-4213</td>\n",
       "    </tr>\n",
       "    <tr>\n",
       "      <th>5</th>\n",
       "      <td>0001</td>\n",
       "      <td>349</td>\n",
       "      <td>LORING-NICOLLET HIGH</td>\n",
       "      <td>All Students</td>\n",
       "      <td>Graduate</td>\n",
       "      <td>37.5</td>\n",
       "      <td>24</td>\n",
       "      <td>1925 Nicollet Ave S</td>\n",
       "      <td>Minneapolis</td>\n",
       "      <td>MN</td>\n",
       "      <td>55403</td>\n",
       "    </tr>\n",
       "    <tr>\n",
       "      <th>6</th>\n",
       "      <td>0001</td>\n",
       "      <td>352</td>\n",
       "      <td>EDISON SENIOR HIGH</td>\n",
       "      <td>All Students</td>\n",
       "      <td>Graduate</td>\n",
       "      <td>59.81</td>\n",
       "      <td>214</td>\n",
       "      <td>700 22nd Ave NE</td>\n",
       "      <td>Minneapolis</td>\n",
       "      <td>MN</td>\n",
       "      <td>55418</td>\n",
       "    </tr>\n",
       "    <tr>\n",
       "      <th>7</th>\n",
       "      <td>0001</td>\n",
       "      <td>352</td>\n",
       "      <td>EDISON SENIOR HIGH</td>\n",
       "      <td>All Students</td>\n",
       "      <td>Graduate</td>\n",
       "      <td>59.81</td>\n",
       "      <td>214</td>\n",
       "      <td>700 22nd Ave NE</td>\n",
       "      <td>Minneapolis</td>\n",
       "      <td>MN</td>\n",
       "      <td>55418</td>\n",
       "    </tr>\n",
       "    <tr>\n",
       "      <th>8</th>\n",
       "      <td>0001</td>\n",
       "      <td>352</td>\n",
       "      <td>EDISON SENIOR HIGH</td>\n",
       "      <td>All Students</td>\n",
       "      <td>Graduate</td>\n",
       "      <td>59.81</td>\n",
       "      <td>214</td>\n",
       "      <td>700 22nd Ave NE</td>\n",
       "      <td>Minneapolis</td>\n",
       "      <td>MN</td>\n",
       "      <td>55418</td>\n",
       "    </tr>\n",
       "    <tr>\n",
       "      <th>9</th>\n",
       "      <td>0001</td>\n",
       "      <td>353</td>\n",
       "      <td>LONGFELLOW ALTERNATIVE</td>\n",
       "      <td>All Students</td>\n",
       "      <td>Graduate</td>\n",
       "      <td>12.9</td>\n",
       "      <td>31</td>\n",
       "      <td>3017 E 31st St</td>\n",
       "      <td>Minneapolis</td>\n",
       "      <td>MN</td>\n",
       "      <td>55406</td>\n",
       "    </tr>\n",
       "    <tr>\n",
       "      <th>10</th>\n",
       "      <td>0001</td>\n",
       "      <td>354</td>\n",
       "      <td>HENRY SENIOR HIGH</td>\n",
       "      <td>All Students</td>\n",
       "      <td>Graduate</td>\n",
       "      <td>70.91</td>\n",
       "      <td>220</td>\n",
       "      <td>4320 Newton Ave N</td>\n",
       "      <td>Minneapolis</td>\n",
       "      <td>MN</td>\n",
       "      <td>55412</td>\n",
       "    </tr>\n",
       "    <tr>\n",
       "      <th>11</th>\n",
       "      <td>0001</td>\n",
       "      <td>354</td>\n",
       "      <td>HENRY SENIOR HIGH</td>\n",
       "      <td>All Students</td>\n",
       "      <td>Graduate</td>\n",
       "      <td>70.91</td>\n",
       "      <td>220</td>\n",
       "      <td>4320 Newton Ave N</td>\n",
       "      <td>Minneapolis</td>\n",
       "      <td>MN</td>\n",
       "      <td>55412</td>\n",
       "    </tr>\n",
       "    <tr>\n",
       "      <th>12</th>\n",
       "      <td>0001</td>\n",
       "      <td>354</td>\n",
       "      <td>HENRY SENIOR HIGH</td>\n",
       "      <td>All Students</td>\n",
       "      <td>Graduate</td>\n",
       "      <td>70.91</td>\n",
       "      <td>220</td>\n",
       "      <td>4320 Newton Ave N</td>\n",
       "      <td>Minneapolis</td>\n",
       "      <td>MN</td>\n",
       "      <td>55412</td>\n",
       "    </tr>\n",
       "    <tr>\n",
       "      <th>13</th>\n",
       "      <td>0001</td>\n",
       "      <td>357</td>\n",
       "      <td>PLYMOUTH YOUTH CENTER</td>\n",
       "      <td>All Students</td>\n",
       "      <td>Graduate</td>\n",
       "      <td>15.38</td>\n",
       "      <td>65</td>\n",
       "      <td>2210 Oliver Ave N</td>\n",
       "      <td>Minneapolis</td>\n",
       "      <td>MN</td>\n",
       "      <td>55411</td>\n",
       "    </tr>\n",
       "    <tr>\n",
       "      <th>14</th>\n",
       "      <td>0001</td>\n",
       "      <td>360</td>\n",
       "      <td>ROOSEVELT SENIOR HIGH</td>\n",
       "      <td>All Students</td>\n",
       "      <td>Graduate</td>\n",
       "      <td>67.19</td>\n",
       "      <td>192</td>\n",
       "      <td>4029 28th Ave S</td>\n",
       "      <td>Minneapolis</td>\n",
       "      <td>MN</td>\n",
       "      <td>55406</td>\n",
       "    </tr>\n",
       "    <tr>\n",
       "      <th>15</th>\n",
       "      <td>0001</td>\n",
       "      <td>360</td>\n",
       "      <td>ROOSEVELT SENIOR HIGH</td>\n",
       "      <td>All Students</td>\n",
       "      <td>Graduate</td>\n",
       "      <td>67.19</td>\n",
       "      <td>192</td>\n",
       "      <td>4029 28th Ave S</td>\n",
       "      <td>Minneapolis</td>\n",
       "      <td>MN</td>\n",
       "      <td>55406</td>\n",
       "    </tr>\n",
       "    <tr>\n",
       "      <th>16</th>\n",
       "      <td>0001</td>\n",
       "      <td>360</td>\n",
       "      <td>ROOSEVELT SENIOR HIGH</td>\n",
       "      <td>All Students</td>\n",
       "      <td>Graduate</td>\n",
       "      <td>67.19</td>\n",
       "      <td>192</td>\n",
       "      <td>4029 28th Ave S</td>\n",
       "      <td>Minneapolis</td>\n",
       "      <td>MN</td>\n",
       "      <td>55406</td>\n",
       "    </tr>\n",
       "    <tr>\n",
       "      <th>18</th>\n",
       "      <td>0001</td>\n",
       "      <td>362</td>\n",
       "      <td>SOUTH SENIOR HIGH</td>\n",
       "      <td>All Students</td>\n",
       "      <td>Graduate</td>\n",
       "      <td>79.13</td>\n",
       "      <td>436</td>\n",
       "      <td>3131 19th Ave S</td>\n",
       "      <td>Minneapolis</td>\n",
       "      <td>MN</td>\n",
       "      <td>55407</td>\n",
       "    </tr>\n",
       "    <tr>\n",
       "      <th>19</th>\n",
       "      <td>0001</td>\n",
       "      <td>362</td>\n",
       "      <td>SOUTH SENIOR HIGH</td>\n",
       "      <td>All Students</td>\n",
       "      <td>Graduate</td>\n",
       "      <td>79.13</td>\n",
       "      <td>436</td>\n",
       "      <td>3131 19th Ave S</td>\n",
       "      <td>Minneapolis</td>\n",
       "      <td>MN</td>\n",
       "      <td>55407</td>\n",
       "    </tr>\n",
       "    <tr>\n",
       "      <th>20</th>\n",
       "      <td>0001</td>\n",
       "      <td>362</td>\n",
       "      <td>SOUTH SENIOR HIGH</td>\n",
       "      <td>All Students</td>\n",
       "      <td>Graduate</td>\n",
       "      <td>79.13</td>\n",
       "      <td>436</td>\n",
       "      <td>3131 19th Ave S</td>\n",
       "      <td>Minneapolis</td>\n",
       "      <td>MN</td>\n",
       "      <td>55407</td>\n",
       "    </tr>\n",
       "    <tr>\n",
       "      <th>21</th>\n",
       "      <td>0001</td>\n",
       "      <td>362</td>\n",
       "      <td>SOUTH SENIOR HIGH</td>\n",
       "      <td>All Students</td>\n",
       "      <td>Graduate</td>\n",
       "      <td>79.13</td>\n",
       "      <td>436</td>\n",
       "      <td>3131 19th Ave S</td>\n",
       "      <td>Minneapolis</td>\n",
       "      <td>MN</td>\n",
       "      <td>55407</td>\n",
       "    </tr>\n",
       "    <tr>\n",
       "      <th>22</th>\n",
       "      <td>0001</td>\n",
       "      <td>363</td>\n",
       "      <td>WELLSTONE INTERNATIONAL HIGH</td>\n",
       "      <td>All Students</td>\n",
       "      <td>Graduate</td>\n",
       "      <td>41.58</td>\n",
       "      <td>101</td>\n",
       "      <td>3328 Elliot Avenue South</td>\n",
       "      <td>Minneapolis</td>\n",
       "      <td>MN</td>\n",
       "      <td>55407</td>\n",
       "    </tr>\n",
       "    <tr>\n",
       "      <th>23</th>\n",
       "      <td>0001</td>\n",
       "      <td>364</td>\n",
       "      <td>SOUTHWEST SENIOR HIGH</td>\n",
       "      <td>All Students</td>\n",
       "      <td>Graduate</td>\n",
       "      <td>86.81</td>\n",
       "      <td>417</td>\n",
       "      <td>3414 W 47th St</td>\n",
       "      <td>Minneapolis</td>\n",
       "      <td>MN</td>\n",
       "      <td>55410</td>\n",
       "    </tr>\n",
       "    <tr>\n",
       "      <th>24</th>\n",
       "      <td>0001</td>\n",
       "      <td>364</td>\n",
       "      <td>SOUTHWEST SENIOR HIGH</td>\n",
       "      <td>All Students</td>\n",
       "      <td>Graduate</td>\n",
       "      <td>86.81</td>\n",
       "      <td>417</td>\n",
       "      <td>3414 W 47th St</td>\n",
       "      <td>Minneapolis</td>\n",
       "      <td>MN</td>\n",
       "      <td>55410</td>\n",
       "    </tr>\n",
       "    <tr>\n",
       "      <th>25</th>\n",
       "      <td>0001</td>\n",
       "      <td>364</td>\n",
       "      <td>SOUTHWEST SENIOR HIGH</td>\n",
       "      <td>All Students</td>\n",
       "      <td>Graduate</td>\n",
       "      <td>86.81</td>\n",
       "      <td>417</td>\n",
       "      <td>3414 W 47th St</td>\n",
       "      <td>Minneapolis</td>\n",
       "      <td>MN</td>\n",
       "      <td>55410</td>\n",
       "    </tr>\n",
       "    <tr>\n",
       "      <th>26</th>\n",
       "      <td>0001</td>\n",
       "      <td>364</td>\n",
       "      <td>SOUTHWEST SENIOR HIGH</td>\n",
       "      <td>All Students</td>\n",
       "      <td>Graduate</td>\n",
       "      <td>86.81</td>\n",
       "      <td>417</td>\n",
       "      <td>3414 W 47th St</td>\n",
       "      <td>Minneapolis</td>\n",
       "      <td>MN</td>\n",
       "      <td>55410</td>\n",
       "    </tr>\n",
       "    <tr>\n",
       "      <th>27</th>\n",
       "      <td>0001</td>\n",
       "      <td>368</td>\n",
       "      <td>WASHBURN SENIOR HIGH</td>\n",
       "      <td>All Students</td>\n",
       "      <td>Graduate</td>\n",
       "      <td>86.91</td>\n",
       "      <td>359</td>\n",
       "      <td>201 W 49th St</td>\n",
       "      <td>Minneapolis</td>\n",
       "      <td>MN</td>\n",
       "      <td>55419</td>\n",
       "    </tr>\n",
       "    <tr>\n",
       "      <th>28</th>\n",
       "      <td>0001</td>\n",
       "      <td>368</td>\n",
       "      <td>WASHBURN SENIOR HIGH</td>\n",
       "      <td>All Students</td>\n",
       "      <td>Graduate</td>\n",
       "      <td>86.91</td>\n",
       "      <td>359</td>\n",
       "      <td>201 W 49th St</td>\n",
       "      <td>Minneapolis</td>\n",
       "      <td>MN</td>\n",
       "      <td>55419</td>\n",
       "    </tr>\n",
       "    <tr>\n",
       "      <th>29</th>\n",
       "      <td>0001</td>\n",
       "      <td>368</td>\n",
       "      <td>WASHBURN SENIOR HIGH</td>\n",
       "      <td>All Students</td>\n",
       "      <td>Graduate</td>\n",
       "      <td>86.91</td>\n",
       "      <td>359</td>\n",
       "      <td>201 W 49th St</td>\n",
       "      <td>Minneapolis</td>\n",
       "      <td>MN</td>\n",
       "      <td>55419</td>\n",
       "    </tr>\n",
       "    <tr>\n",
       "      <th>30</th>\n",
       "      <td>0001</td>\n",
       "      <td>373</td>\n",
       "      <td>MENLO PARK ACADEMY</td>\n",
       "      <td>All Students</td>\n",
       "      <td>Graduate</td>\n",
       "      <td>0</td>\n",
       "      <td>20</td>\n",
       "      <td>1700 2nd St NE</td>\n",
       "      <td>Minneapolis</td>\n",
       "      <td>MN</td>\n",
       "      <td>55413</td>\n",
       "    </tr>\n",
       "    <tr>\n",
       "      <th>...</th>\n",
       "      <td>...</td>\n",
       "      <td>...</td>\n",
       "      <td>...</td>\n",
       "      <td>...</td>\n",
       "      <td>...</td>\n",
       "      <td>...</td>\n",
       "      <td>...</td>\n",
       "      <td>...</td>\n",
       "      <td>...</td>\n",
       "      <td>...</td>\n",
       "      <td>...</td>\n",
       "    </tr>\n",
       "    <tr>\n",
       "      <th>782</th>\n",
       "      <td>4200</td>\n",
       "      <td>010</td>\n",
       "      <td>STEP ACADEMY CHARTER SCHOOL</td>\n",
       "      <td>All Students</td>\n",
       "      <td>Graduate</td>\n",
       "      <td>89.74</td>\n",
       "      <td>39</td>\n",
       "      <td>835  5th St E.</td>\n",
       "      <td>Saint Paul</td>\n",
       "      <td>MN</td>\n",
       "      <td>55106</td>\n",
       "    </tr>\n",
       "    <tr>\n",
       "      <th>783</th>\n",
       "      <td>4200</td>\n",
       "      <td>010</td>\n",
       "      <td>STEP ACADEMY CHARTER SCHOOL</td>\n",
       "      <td>All Students</td>\n",
       "      <td>Graduate</td>\n",
       "      <td>89.74</td>\n",
       "      <td>39</td>\n",
       "      <td>835  5th St E.</td>\n",
       "      <td>Saint Paul</td>\n",
       "      <td>MN</td>\n",
       "      <td>55106</td>\n",
       "    </tr>\n",
       "    <tr>\n",
       "      <th>784</th>\n",
       "      <td>4204</td>\n",
       "      <td>010</td>\n",
       "      <td>ROCHESTER STEM ACADEMY</td>\n",
       "      <td>All Students</td>\n",
       "      <td>Graduate</td>\n",
       "      <td>80</td>\n",
       "      <td>30</td>\n",
       "      <td>415 16th St SW</td>\n",
       "      <td>Rochester</td>\n",
       "      <td>MN</td>\n",
       "      <td>55902-2125</td>\n",
       "    </tr>\n",
       "    <tr>\n",
       "      <th>785</th>\n",
       "      <td>4204</td>\n",
       "      <td>010</td>\n",
       "      <td>ROCHESTER STEM ACADEMY</td>\n",
       "      <td>All Students</td>\n",
       "      <td>Graduate</td>\n",
       "      <td>80</td>\n",
       "      <td>30</td>\n",
       "      <td>415 16th St SW</td>\n",
       "      <td>Rochester</td>\n",
       "      <td>MN</td>\n",
       "      <td>55902-2125</td>\n",
       "    </tr>\n",
       "    <tr>\n",
       "      <th>786</th>\n",
       "      <td>4207</td>\n",
       "      <td>010</td>\n",
       "      <td>VERMILION COUNTRY SCHOOL</td>\n",
       "      <td>All Students</td>\n",
       "      <td>Graduate</td>\n",
       "      <td>66.67</td>\n",
       "      <td>12</td>\n",
       "      <td>1 Enterprise Drive</td>\n",
       "      <td>Tower</td>\n",
       "      <td>MN</td>\n",
       "      <td>55790-0000</td>\n",
       "    </tr>\n",
       "    <tr>\n",
       "      <th>787</th>\n",
       "      <td>4207</td>\n",
       "      <td>010</td>\n",
       "      <td>VERMILION COUNTRY SCHOOL</td>\n",
       "      <td>All Students</td>\n",
       "      <td>Graduate</td>\n",
       "      <td>66.67</td>\n",
       "      <td>12</td>\n",
       "      <td>1 Enterprise Dr</td>\n",
       "      <td>Tower</td>\n",
       "      <td>MN</td>\n",
       "      <td>55790-4000</td>\n",
       "    </tr>\n",
       "    <tr>\n",
       "      <th>789</th>\n",
       "      <td>4217</td>\n",
       "      <td>010</td>\n",
       "      <td>DREAM TECHNICAL ACADEMY</td>\n",
       "      <td>All Students</td>\n",
       "      <td>Graduate</td>\n",
       "      <td>60</td>\n",
       "      <td>20</td>\n",
       "      <td>1705 16th Street NE</td>\n",
       "      <td>Willmar</td>\n",
       "      <td>MN</td>\n",
       "      <td>56201</td>\n",
       "    </tr>\n",
       "    <tr>\n",
       "      <th>790</th>\n",
       "      <td>4217</td>\n",
       "      <td>020</td>\n",
       "      <td>CHOICE TECHNICAL ACADEMY</td>\n",
       "      <td>All Students</td>\n",
       "      <td>Graduate</td>\n",
       "      <td>20</td>\n",
       "      <td>15</td>\n",
       "      <td>315 South Grove Ave</td>\n",
       "      <td>Owatonna</td>\n",
       "      <td>MN</td>\n",
       "      <td>55060</td>\n",
       "    </tr>\n",
       "    <tr>\n",
       "      <th>791</th>\n",
       "      <td>4229</td>\n",
       "      <td>010</td>\n",
       "      <td>JANE GOODALL ENVIRONMENTAL SCIENCE ACADEMY</td>\n",
       "      <td>All Students</td>\n",
       "      <td>Graduate</td>\n",
       "      <td>45.45</td>\n",
       "      <td>11</td>\n",
       "      <td>8046 83rd Street NW</td>\n",
       "      <td>Maple Lake</td>\n",
       "      <td>MN</td>\n",
       "      <td>55358</td>\n",
       "    </tr>\n",
       "    <tr>\n",
       "      <th>792</th>\n",
       "      <td>4229</td>\n",
       "      <td>010</td>\n",
       "      <td>JANE GOODALL ENVIRONMENTAL SCIENCE ACADEMY</td>\n",
       "      <td>All Students</td>\n",
       "      <td>Graduate</td>\n",
       "      <td>45.45</td>\n",
       "      <td>11</td>\n",
       "      <td>8046 83rd Street NW</td>\n",
       "      <td>Maple Lake</td>\n",
       "      <td>MN</td>\n",
       "      <td>55358</td>\n",
       "    </tr>\n",
       "    <tr>\n",
       "      <th>793</th>\n",
       "      <td>4237</td>\n",
       "      <td>010</td>\n",
       "      <td>CAREER PATHWAYS</td>\n",
       "      <td>All Students</td>\n",
       "      <td>Graduate</td>\n",
       "      <td>44.62</td>\n",
       "      <td>65</td>\n",
       "      <td>1355 Pierce Butler Rt</td>\n",
       "      <td>Saint Paul</td>\n",
       "      <td>MN</td>\n",
       "      <td>55104</td>\n",
       "    </tr>\n",
       "    <tr>\n",
       "      <th>794</th>\n",
       "      <td>4237</td>\n",
       "      <td>010</td>\n",
       "      <td>CAREER PATHWAYS</td>\n",
       "      <td>All Students</td>\n",
       "      <td>Graduate</td>\n",
       "      <td>44.62</td>\n",
       "      <td>65</td>\n",
       "      <td>1355 Pierce Butler Rt</td>\n",
       "      <td>Saint Paul</td>\n",
       "      <td>MN</td>\n",
       "      <td>55104</td>\n",
       "    </tr>\n",
       "    <tr>\n",
       "      <th>795</th>\n",
       "      <td>4238</td>\n",
       "      <td>010</td>\n",
       "      <td>ROCHESTER BEACON ACADEMY</td>\n",
       "      <td>All Students</td>\n",
       "      <td>Graduate</td>\n",
       "      <td>81.82</td>\n",
       "      <td>11</td>\n",
       "      <td>2521 Pennington Dr. NW</td>\n",
       "      <td>Rochester</td>\n",
       "      <td>MN</td>\n",
       "      <td>55901</td>\n",
       "    </tr>\n",
       "    <tr>\n",
       "      <th>796</th>\n",
       "      <td>4238</td>\n",
       "      <td>010</td>\n",
       "      <td>ROCHESTER BEACON ACADEMY</td>\n",
       "      <td>All Students</td>\n",
       "      <td>Graduate</td>\n",
       "      <td>81.82</td>\n",
       "      <td>11</td>\n",
       "      <td>2521 Pennington Dr. NW</td>\n",
       "      <td>Rochester</td>\n",
       "      <td>MN</td>\n",
       "      <td>55901</td>\n",
       "    </tr>\n",
       "    <tr>\n",
       "      <th>797</th>\n",
       "      <td>6004</td>\n",
       "      <td>020</td>\n",
       "      <td>FRESHWATER ED. DIST. ALC</td>\n",
       "      <td>All Students</td>\n",
       "      <td>Graduate</td>\n",
       "      <td>57.38</td>\n",
       "      <td>61</td>\n",
       "      <td>1830 Airport Rd, Ste 2</td>\n",
       "      <td>Staples</td>\n",
       "      <td>MN</td>\n",
       "      <td>56479-3252</td>\n",
       "    </tr>\n",
       "    <tr>\n",
       "      <th>798</th>\n",
       "      <td>6012</td>\n",
       "      <td>020</td>\n",
       "      <td>ZUMBRO AREA LEARNING CENTER</td>\n",
       "      <td>All Students</td>\n",
       "      <td>Graduate</td>\n",
       "      <td>56.67</td>\n",
       "      <td>30</td>\n",
       "      <td>630 1st Ave NW</td>\n",
       "      <td>Byron</td>\n",
       "      <td>MN</td>\n",
       "      <td>55920</td>\n",
       "    </tr>\n",
       "    <tr>\n",
       "      <th>800</th>\n",
       "      <td>6013</td>\n",
       "      <td>015</td>\n",
       "      <td>RIVER VALLEY ACADEMY ALC</td>\n",
       "      <td>All Students</td>\n",
       "      <td>Graduate</td>\n",
       "      <td>73.68</td>\n",
       "      <td>19</td>\n",
       "      <td>51 Red School Ln</td>\n",
       "      <td>Kellogg</td>\n",
       "      <td>MN</td>\n",
       "      <td>55945-6827</td>\n",
       "    </tr>\n",
       "    <tr>\n",
       "      <th>801</th>\n",
       "      <td>6014</td>\n",
       "      <td>020</td>\n",
       "      <td>RUNESTONE REGIONAL LEARNING CENTER</td>\n",
       "      <td>All Students</td>\n",
       "      <td>Graduate</td>\n",
       "      <td>38.64</td>\n",
       "      <td>44</td>\n",
       "      <td>700 Northside Dr NE</td>\n",
       "      <td>Alexandria</td>\n",
       "      <td>MN</td>\n",
       "      <td>56308-5080</td>\n",
       "    </tr>\n",
       "    <tr>\n",
       "      <th>802</th>\n",
       "      <td>6014</td>\n",
       "      <td>020</td>\n",
       "      <td>RUNESTONE REGIONAL LEARNING CENTER</td>\n",
       "      <td>All Students</td>\n",
       "      <td>Graduate</td>\n",
       "      <td>38.64</td>\n",
       "      <td>44</td>\n",
       "      <td>700 Northside Dr NE</td>\n",
       "      <td>Alexandria</td>\n",
       "      <td>MN</td>\n",
       "      <td>56308-5080</td>\n",
       "    </tr>\n",
       "    <tr>\n",
       "      <th>803</th>\n",
       "      <td>6018</td>\n",
       "      <td>020</td>\n",
       "      <td>MN RIVER VALLEY ALC-SEATBASED</td>\n",
       "      <td>All Students</td>\n",
       "      <td>Graduate</td>\n",
       "      <td>84.62</td>\n",
       "      <td>26</td>\n",
       "      <td>1313 E Black Oak Ave</td>\n",
       "      <td>Montevideo</td>\n",
       "      <td>MN</td>\n",
       "      <td>56265-0487</td>\n",
       "    </tr>\n",
       "    <tr>\n",
       "      <th>804</th>\n",
       "      <td>6026</td>\n",
       "      <td>020</td>\n",
       "      <td>WEST CENTRAL AREA LEARNING CENTER</td>\n",
       "      <td>All Students</td>\n",
       "      <td>Graduate</td>\n",
       "      <td>43.48</td>\n",
       "      <td>23</td>\n",
       "      <td>9 West 2nd St S</td>\n",
       "      <td>Melrose</td>\n",
       "      <td>MN</td>\n",
       "      <td>56378</td>\n",
       "    </tr>\n",
       "    <tr>\n",
       "      <th>805</th>\n",
       "      <td>6026</td>\n",
       "      <td>020</td>\n",
       "      <td>WEST CENTRAL AREA LEARNING CENTER</td>\n",
       "      <td>All Students</td>\n",
       "      <td>Graduate</td>\n",
       "      <td>43.48</td>\n",
       "      <td>23</td>\n",
       "      <td>9 West 2nd St S</td>\n",
       "      <td>Melrose</td>\n",
       "      <td>MN</td>\n",
       "      <td>56378</td>\n",
       "    </tr>\n",
       "    <tr>\n",
       "      <th>806</th>\n",
       "      <td>6049</td>\n",
       "      <td>020</td>\n",
       "      <td>RIVER BEND AREA LEARNING CENTER</td>\n",
       "      <td>All Students</td>\n",
       "      <td>Graduate</td>\n",
       "      <td>44</td>\n",
       "      <td>50</td>\n",
       "      <td>1315 S Broadway</td>\n",
       "      <td>New Ulm</td>\n",
       "      <td>MN</td>\n",
       "      <td>56073-2223</td>\n",
       "    </tr>\n",
       "    <tr>\n",
       "      <th>807</th>\n",
       "      <td>6051</td>\n",
       "      <td>010</td>\n",
       "      <td>REACH PROGRAMS</td>\n",
       "      <td>All Students</td>\n",
       "      <td>Graduate</td>\n",
       "      <td>40</td>\n",
       "      <td>10</td>\n",
       "      <td>395 Guernsey Lane</td>\n",
       "      <td>Red Wing</td>\n",
       "      <td>MN</td>\n",
       "      <td>55066-2093</td>\n",
       "    </tr>\n",
       "    <tr>\n",
       "      <th>808</th>\n",
       "      <td>6051</td>\n",
       "      <td>621</td>\n",
       "      <td>TOWER VIEW ALTERNATIVE HIGH SCHOOL</td>\n",
       "      <td>All Students</td>\n",
       "      <td>Graduate</td>\n",
       "      <td>46.15</td>\n",
       "      <td>39</td>\n",
       "      <td>154 Tower View Drive</td>\n",
       "      <td>Red Wing</td>\n",
       "      <td>MN</td>\n",
       "      <td>55066-2093</td>\n",
       "    </tr>\n",
       "    <tr>\n",
       "      <th>809</th>\n",
       "      <td>6074</td>\n",
       "      <td>647</td>\n",
       "      <td>CENTRAL MN. ALC - SAUK RAPIDS</td>\n",
       "      <td>All Students</td>\n",
       "      <td>Graduate</td>\n",
       "      <td>44.44</td>\n",
       "      <td>18</td>\n",
       "      <td>1833 Osauka Rd NE</td>\n",
       "      <td>Sauk Rapids</td>\n",
       "      <td>MN</td>\n",
       "      <td>56379-4530</td>\n",
       "    </tr>\n",
       "    <tr>\n",
       "      <th>810</th>\n",
       "      <td>6076</td>\n",
       "      <td>010</td>\n",
       "      <td>NORTHLAND LEARNING CENTER 010</td>\n",
       "      <td>All Students</td>\n",
       "      <td>Graduate</td>\n",
       "      <td>64</td>\n",
       "      <td>25</td>\n",
       "      <td>1201 S 13th Ave</td>\n",
       "      <td>Virginia</td>\n",
       "      <td>MN</td>\n",
       "      <td>55792-3361</td>\n",
       "    </tr>\n",
       "    <tr>\n",
       "      <th>811</th>\n",
       "      <td>6076</td>\n",
       "      <td>020</td>\n",
       "      <td>NORTHLAND LEARNING CENTER 020</td>\n",
       "      <td>All Students</td>\n",
       "      <td>Graduate</td>\n",
       "      <td>7.14</td>\n",
       "      <td>14</td>\n",
       "      <td>1201 S 13th Ave</td>\n",
       "      <td>Virginia</td>\n",
       "      <td>MN</td>\n",
       "      <td>55792-3361</td>\n",
       "    </tr>\n",
       "    <tr>\n",
       "      <th>815</th>\n",
       "      <td>6083</td>\n",
       "      <td>050</td>\n",
       "      <td>SMEC ALC</td>\n",
       "      <td>All Students</td>\n",
       "      <td>Graduate</td>\n",
       "      <td>56.25</td>\n",
       "      <td>16</td>\n",
       "      <td>11 4th st. SW</td>\n",
       "      <td>Adams</td>\n",
       "      <td>MN</td>\n",
       "      <td>55909</td>\n",
       "    </tr>\n",
       "    <tr>\n",
       "      <th>818</th>\n",
       "      <td>6095</td>\n",
       "      <td>550</td>\n",
       "      <td>OAKLAND EDUCATION CENTER</td>\n",
       "      <td>All Students</td>\n",
       "      <td>Graduate</td>\n",
       "      <td>30</td>\n",
       "      <td>10</td>\n",
       "      <td>2001 2nd AVe NW</td>\n",
       "      <td>Austin</td>\n",
       "      <td>MN</td>\n",
       "      <td>55912</td>\n",
       "    </tr>\n",
       "  </tbody>\n",
       "</table>\n",
       "<p>721 rows × 11 columns</p>\n",
       "</div>"
      ],
      "text/plain": [
       "    District Number School Number                                 School Name  \\\n",
       "0              0001           001                     AITKIN SECONDARY SCHOOL   \n",
       "1              0001           307                              BASIC SKILLS-4   \n",
       "2              0001           346                              800 W BROADWAY   \n",
       "3              0001           347                            FAIR SENIOR HIGH   \n",
       "4              0001           348                                        MERC   \n",
       "5              0001           349                        LORING-NICOLLET HIGH   \n",
       "6              0001           352                          EDISON SENIOR HIGH   \n",
       "7              0001           352                          EDISON SENIOR HIGH   \n",
       "8              0001           352                          EDISON SENIOR HIGH   \n",
       "9              0001           353                      LONGFELLOW ALTERNATIVE   \n",
       "10             0001           354                           HENRY SENIOR HIGH   \n",
       "11             0001           354                           HENRY SENIOR HIGH   \n",
       "12             0001           354                           HENRY SENIOR HIGH   \n",
       "13             0001           357                       PLYMOUTH YOUTH CENTER   \n",
       "14             0001           360                       ROOSEVELT SENIOR HIGH   \n",
       "15             0001           360                       ROOSEVELT SENIOR HIGH   \n",
       "16             0001           360                       ROOSEVELT SENIOR HIGH   \n",
       "18             0001           362                           SOUTH SENIOR HIGH   \n",
       "19             0001           362                           SOUTH SENIOR HIGH   \n",
       "20             0001           362                           SOUTH SENIOR HIGH   \n",
       "21             0001           362                           SOUTH SENIOR HIGH   \n",
       "22             0001           363                WELLSTONE INTERNATIONAL HIGH   \n",
       "23             0001           364                       SOUTHWEST SENIOR HIGH   \n",
       "24             0001           364                       SOUTHWEST SENIOR HIGH   \n",
       "25             0001           364                       SOUTHWEST SENIOR HIGH   \n",
       "26             0001           364                       SOUTHWEST SENIOR HIGH   \n",
       "27             0001           368                        WASHBURN SENIOR HIGH   \n",
       "28             0001           368                        WASHBURN SENIOR HIGH   \n",
       "29             0001           368                        WASHBURN SENIOR HIGH   \n",
       "30             0001           373                          MENLO PARK ACADEMY   \n",
       "..              ...           ...                                         ...   \n",
       "782            4200           010                 STEP ACADEMY CHARTER SCHOOL   \n",
       "783            4200           010                 STEP ACADEMY CHARTER SCHOOL   \n",
       "784            4204           010                      ROCHESTER STEM ACADEMY   \n",
       "785            4204           010                      ROCHESTER STEM ACADEMY   \n",
       "786            4207           010                    VERMILION COUNTRY SCHOOL   \n",
       "787            4207           010                    VERMILION COUNTRY SCHOOL   \n",
       "789            4217           010                     DREAM TECHNICAL ACADEMY   \n",
       "790            4217           020                    CHOICE TECHNICAL ACADEMY   \n",
       "791            4229           010  JANE GOODALL ENVIRONMENTAL SCIENCE ACADEMY   \n",
       "792            4229           010  JANE GOODALL ENVIRONMENTAL SCIENCE ACADEMY   \n",
       "793            4237           010                             CAREER PATHWAYS   \n",
       "794            4237           010                             CAREER PATHWAYS   \n",
       "795            4238           010                    ROCHESTER BEACON ACADEMY   \n",
       "796            4238           010                    ROCHESTER BEACON ACADEMY   \n",
       "797            6004           020                    FRESHWATER ED. DIST. ALC   \n",
       "798            6012           020                 ZUMBRO AREA LEARNING CENTER   \n",
       "800            6013           015                    RIVER VALLEY ACADEMY ALC   \n",
       "801            6014           020          RUNESTONE REGIONAL LEARNING CENTER   \n",
       "802            6014           020          RUNESTONE REGIONAL LEARNING CENTER   \n",
       "803            6018           020               MN RIVER VALLEY ALC-SEATBASED   \n",
       "804            6026           020           WEST CENTRAL AREA LEARNING CENTER   \n",
       "805            6026           020           WEST CENTRAL AREA LEARNING CENTER   \n",
       "806            6049           020             RIVER BEND AREA LEARNING CENTER   \n",
       "807            6051           010                              REACH PROGRAMS   \n",
       "808            6051           621          TOWER VIEW ALTERNATIVE HIGH SCHOOL   \n",
       "809            6074           647               CENTRAL MN. ALC - SAUK RAPIDS   \n",
       "810            6076           010               NORTHLAND LEARNING CENTER 010   \n",
       "811            6076           020               NORTHLAND LEARNING CENTER 020   \n",
       "815            6083           050                                    SMEC ALC   \n",
       "818            6095           550                    OAKLAND EDUCATION CENTER   \n",
       "\n",
       "    Demographic Description Ending Status Four Year Percent Four Year Total  \\\n",
       "0              All Students      Graduate              90.8              87   \n",
       "1              All Students      Graduate             77.36             106   \n",
       "2              All Students      Graduate              3.57              28   \n",
       "3              All Students      Graduate             79.37              63   \n",
       "4              All Students      Graduate               3.7              27   \n",
       "5              All Students      Graduate              37.5              24   \n",
       "6              All Students      Graduate             59.81             214   \n",
       "7              All Students      Graduate             59.81             214   \n",
       "8              All Students      Graduate             59.81             214   \n",
       "9              All Students      Graduate              12.9              31   \n",
       "10             All Students      Graduate             70.91             220   \n",
       "11             All Students      Graduate             70.91             220   \n",
       "12             All Students      Graduate             70.91             220   \n",
       "13             All Students      Graduate             15.38              65   \n",
       "14             All Students      Graduate             67.19             192   \n",
       "15             All Students      Graduate             67.19             192   \n",
       "16             All Students      Graduate             67.19             192   \n",
       "18             All Students      Graduate             79.13             436   \n",
       "19             All Students      Graduate             79.13             436   \n",
       "20             All Students      Graduate             79.13             436   \n",
       "21             All Students      Graduate             79.13             436   \n",
       "22             All Students      Graduate             41.58             101   \n",
       "23             All Students      Graduate             86.81             417   \n",
       "24             All Students      Graduate             86.81             417   \n",
       "25             All Students      Graduate             86.81             417   \n",
       "26             All Students      Graduate             86.81             417   \n",
       "27             All Students      Graduate             86.91             359   \n",
       "28             All Students      Graduate             86.91             359   \n",
       "29             All Students      Graduate             86.91             359   \n",
       "30             All Students      Graduate                 0              20   \n",
       "..                      ...           ...               ...             ...   \n",
       "782            All Students      Graduate             89.74              39   \n",
       "783            All Students      Graduate             89.74              39   \n",
       "784            All Students      Graduate                80              30   \n",
       "785            All Students      Graduate                80              30   \n",
       "786            All Students      Graduate             66.67              12   \n",
       "787            All Students      Graduate             66.67              12   \n",
       "789            All Students      Graduate                60              20   \n",
       "790            All Students      Graduate                20              15   \n",
       "791            All Students      Graduate             45.45              11   \n",
       "792            All Students      Graduate             45.45              11   \n",
       "793            All Students      Graduate             44.62              65   \n",
       "794            All Students      Graduate             44.62              65   \n",
       "795            All Students      Graduate             81.82              11   \n",
       "796            All Students      Graduate             81.82              11   \n",
       "797            All Students      Graduate             57.38              61   \n",
       "798            All Students      Graduate             56.67              30   \n",
       "800            All Students      Graduate             73.68              19   \n",
       "801            All Students      Graduate             38.64              44   \n",
       "802            All Students      Graduate             38.64              44   \n",
       "803            All Students      Graduate             84.62              26   \n",
       "804            All Students      Graduate             43.48              23   \n",
       "805            All Students      Graduate             43.48              23   \n",
       "806            All Students      Graduate                44              50   \n",
       "807            All Students      Graduate                40              10   \n",
       "808            All Students      Graduate             46.15              39   \n",
       "809            All Students      Graduate             44.44              18   \n",
       "810            All Students      Graduate                64              25   \n",
       "811            All Students      Graduate              7.14              14   \n",
       "815            All Students      Graduate             56.25              16   \n",
       "818            All Students      Graduate                30              10   \n",
       "\n",
       "              Physical Line 1 Physical City Physical State Physical Zip  \n",
       "0               306 2nd St NW        Aitkin             MN        56431  \n",
       "1         1250 W Broadway Ave   Minneapolis             MN        55411  \n",
       "2          1250 West Broadway   Minneapolis             MN        55411  \n",
       "3        10 South 10th Street   Minneapolis             MN        55403  \n",
       "4           2539 Pleasant Ave   Minneapolis             MN   55404-4213  \n",
       "5         1925 Nicollet Ave S   Minneapolis             MN        55403  \n",
       "6             700 22nd Ave NE   Minneapolis             MN        55418  \n",
       "7             700 22nd Ave NE   Minneapolis             MN        55418  \n",
       "8             700 22nd Ave NE   Minneapolis             MN        55418  \n",
       "9              3017 E 31st St   Minneapolis             MN        55406  \n",
       "10          4320 Newton Ave N   Minneapolis             MN        55412  \n",
       "11          4320 Newton Ave N   Minneapolis             MN        55412  \n",
       "12          4320 Newton Ave N   Minneapolis             MN        55412  \n",
       "13          2210 Oliver Ave N   Minneapolis             MN        55411  \n",
       "14            4029 28th Ave S   Minneapolis             MN        55406  \n",
       "15            4029 28th Ave S   Minneapolis             MN        55406  \n",
       "16            4029 28th Ave S   Minneapolis             MN        55406  \n",
       "18            3131 19th Ave S   Minneapolis             MN        55407  \n",
       "19            3131 19th Ave S   Minneapolis             MN        55407  \n",
       "20            3131 19th Ave S   Minneapolis             MN        55407  \n",
       "21            3131 19th Ave S   Minneapolis             MN        55407  \n",
       "22   3328 Elliot Avenue South   Minneapolis             MN        55407  \n",
       "23             3414 W 47th St   Minneapolis             MN        55410  \n",
       "24             3414 W 47th St   Minneapolis             MN        55410  \n",
       "25             3414 W 47th St   Minneapolis             MN        55410  \n",
       "26             3414 W 47th St   Minneapolis             MN        55410  \n",
       "27              201 W 49th St   Minneapolis             MN        55419  \n",
       "28              201 W 49th St   Minneapolis             MN        55419  \n",
       "29              201 W 49th St   Minneapolis             MN        55419  \n",
       "30             1700 2nd St NE   Minneapolis             MN        55413  \n",
       "..                        ...           ...            ...          ...  \n",
       "782            835  5th St E.    Saint Paul             MN        55106  \n",
       "783            835  5th St E.    Saint Paul             MN        55106  \n",
       "784            415 16th St SW     Rochester             MN   55902-2125  \n",
       "785            415 16th St SW     Rochester             MN   55902-2125  \n",
       "786        1 Enterprise Drive         Tower             MN   55790-0000  \n",
       "787           1 Enterprise Dr         Tower             MN   55790-4000  \n",
       "789       1705 16th Street NE       Willmar             MN        56201  \n",
       "790       315 South Grove Ave      Owatonna             MN        55060  \n",
       "791       8046 83rd Street NW    Maple Lake             MN        55358  \n",
       "792       8046 83rd Street NW    Maple Lake             MN        55358  \n",
       "793     1355 Pierce Butler Rt    Saint Paul             MN        55104  \n",
       "794     1355 Pierce Butler Rt    Saint Paul             MN        55104  \n",
       "795    2521 Pennington Dr. NW     Rochester             MN        55901  \n",
       "796    2521 Pennington Dr. NW     Rochester             MN        55901  \n",
       "797    1830 Airport Rd, Ste 2       Staples             MN   56479-3252  \n",
       "798            630 1st Ave NW         Byron             MN        55920  \n",
       "800          51 Red School Ln       Kellogg             MN   55945-6827  \n",
       "801       700 Northside Dr NE    Alexandria             MN   56308-5080  \n",
       "802       700 Northside Dr NE    Alexandria             MN   56308-5080  \n",
       "803      1313 E Black Oak Ave    Montevideo             MN   56265-0487  \n",
       "804           9 West 2nd St S       Melrose             MN        56378  \n",
       "805           9 West 2nd St S       Melrose             MN        56378  \n",
       "806           1315 S Broadway       New Ulm             MN   56073-2223  \n",
       "807         395 Guernsey Lane      Red Wing             MN   55066-2093  \n",
       "808      154 Tower View Drive      Red Wing             MN   55066-2093  \n",
       "809         1833 Osauka Rd NE   Sauk Rapids             MN   56379-4530  \n",
       "810           1201 S 13th Ave      Virginia             MN   55792-3361  \n",
       "811           1201 S 13th Ave      Virginia             MN   55792-3361  \n",
       "815             11 4th st. SW         Adams             MN        55909  \n",
       "818           2001 2nd AVe NW        Austin             MN        55912  \n",
       "\n",
       "[721 rows x 11 columns]"
      ]
     },
     "execution_count": 32,
     "metadata": {},
     "output_type": "execute_result"
    }
   ],
   "source": [
    "merge_df.drop_duplicates(subset=None, keep='first', inplace=False)\n",
    "merge_df.dropna(subset=['Four Year Percent'])"
   ]
  },
  {
   "cell_type": "code",
   "execution_count": 33,
   "metadata": {},
   "outputs": [],
   "source": [
    "merge_df.to_excel(r'Resources\\CleanedGradFile2018.xlsx')"
   ]
  },
  {
   "cell_type": "code",
   "execution_count": 34,
   "metadata": {},
   "outputs": [
    {
     "data": {
      "image/png": "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\n",
      "text/plain": [
       "<Figure size 432x288 with 1 Axes>"
      ]
     },
     "metadata": {
      "needs_background": "light"
     },
     "output_type": "display_data"
    }
   ],
   "source": [
    "#Create scatterplot for graduation rate and cohort size\n",
    "plt.scatter(merge_df[\"Four Year Percent\"], merge_df[\"Four Year Total\"], alpha=0.5)\n",
    "plt.title('Graduation Rate vs. Graduation Cohort Size')\n",
    "plt.xlabel('Graduation Rate (%)')\n",
    "plt.ylabel('Cohort Size')\n",
    "plt.grid(True)\n",
    "plt.show()"
   ]
  },
  {
   "cell_type": "code",
   "execution_count": 35,
   "metadata": {
    "scrolled": true
   },
   "outputs": [
    {
     "data": {
      "text/html": [
       "<div>\n",
       "<style scoped>\n",
       "    .dataframe tbody tr th:only-of-type {\n",
       "        vertical-align: middle;\n",
       "    }\n",
       "\n",
       "    .dataframe tbody tr th {\n",
       "        vertical-align: top;\n",
       "    }\n",
       "\n",
       "    .dataframe thead th {\n",
       "        text-align: right;\n",
       "    }\n",
       "</style>\n",
       "<table border=\"1\" class=\"dataframe\">\n",
       "  <thead>\n",
       "    <tr style=\"text-align: right;\">\n",
       "      <th>5</th>\n",
       "      <th>Identification Year</th>\n",
       "      <th>District Number</th>\n",
       "      <th>District Type</th>\n",
       "      <th>District Name</th>\n",
       "      <th>School Number</th>\n",
       "      <th>School Name</th>\n",
       "      <th>School Type</th>\n",
       "      <th>School Classification</th>\n",
       "      <th>Title I</th>\n",
       "      <th>Level of Support\n",
       "(Short versions in \"Support\" column.)</th>\n",
       "      <th>...</th>\n",
       "      <th>Stage 2:\n",
       "Math Prog</th>\n",
       "      <th>Stage 2:\n",
       "Math Prog ID</th>\n",
       "      <th>Stage 2:\n",
       "Reading Prog</th>\n",
       "      <th>Stage 2:\n",
       "Reading Prog ID</th>\n",
       "      <th>Stage 2:\n",
       "4-Year Grad</th>\n",
       "      <th>Stage 2:\n",
       "4-Year Grad  ID</th>\n",
       "      <th>Stage 2:\n",
       "7- Year Grad</th>\n",
       "      <th>Stage 2:\n",
       "7-Year Grad ID</th>\n",
       "      <th>Stage 3:\n",
       "Cons Att</th>\n",
       "      <th>Stage 3:\n",
       "Cons Att ID</th>\n",
       "    </tr>\n",
       "  </thead>\n",
       "  <tbody>\n",
       "    <tr>\n",
       "      <th>6</th>\n",
       "      <td>2018</td>\n",
       "      <td>0001</td>\n",
       "      <td>03</td>\n",
       "      <td>Minneapolis Public School District</td>\n",
       "      <td>105</td>\n",
       "      <td>Bancroft Elementary</td>\n",
       "      <td>E</td>\n",
       "      <td>10</td>\n",
       "      <td>Y</td>\n",
       "      <td>Targeted</td>\n",
       "      <td>...</td>\n",
       "      <td>NaN</td>\n",
       "      <td>NaN</td>\n",
       "      <td>NaN</td>\n",
       "      <td>NaN</td>\n",
       "      <td>NaN</td>\n",
       "      <td>NaN</td>\n",
       "      <td>NaN</td>\n",
       "      <td>NaN</td>\n",
       "      <td>63.86</td>\n",
       "      <td>Y</td>\n",
       "    </tr>\n",
       "    <tr>\n",
       "      <th>7</th>\n",
       "      <td>2018</td>\n",
       "      <td>0001</td>\n",
       "      <td>03</td>\n",
       "      <td>Minneapolis Public School District</td>\n",
       "      <td>105</td>\n",
       "      <td>Bancroft Elementary</td>\n",
       "      <td>E</td>\n",
       "      <td>10</td>\n",
       "      <td>Y</td>\n",
       "      <td>Support</td>\n",
       "      <td>...</td>\n",
       "      <td>NaN</td>\n",
       "      <td>NaN</td>\n",
       "      <td>NaN</td>\n",
       "      <td>NaN</td>\n",
       "      <td>NaN</td>\n",
       "      <td>NaN</td>\n",
       "      <td>NaN</td>\n",
       "      <td>NaN</td>\n",
       "      <td>NaN</td>\n",
       "      <td>NaN</td>\n",
       "    </tr>\n",
       "    <tr>\n",
       "      <th>8</th>\n",
       "      <td>2018</td>\n",
       "      <td>0001</td>\n",
       "      <td>03</td>\n",
       "      <td>Minneapolis Public School District</td>\n",
       "      <td>105</td>\n",
       "      <td>Bancroft Elementary</td>\n",
       "      <td>E</td>\n",
       "      <td>10</td>\n",
       "      <td>Y</td>\n",
       "      <td>Targeted</td>\n",
       "      <td>...</td>\n",
       "      <td>0.78</td>\n",
       "      <td>Y</td>\n",
       "      <td>1.68</td>\n",
       "      <td>Y</td>\n",
       "      <td>NaN</td>\n",
       "      <td>NaN</td>\n",
       "      <td>NaN</td>\n",
       "      <td>NaN</td>\n",
       "      <td>72.97</td>\n",
       "      <td>Y</td>\n",
       "    </tr>\n",
       "    <tr>\n",
       "      <th>9</th>\n",
       "      <td>2018</td>\n",
       "      <td>0001</td>\n",
       "      <td>03</td>\n",
       "      <td>Minneapolis Public School District</td>\n",
       "      <td>107</td>\n",
       "      <td>Bethune Elementary</td>\n",
       "      <td>E</td>\n",
       "      <td>10</td>\n",
       "      <td>Y</td>\n",
       "      <td>Comprehensive</td>\n",
       "      <td>...</td>\n",
       "      <td>1.18</td>\n",
       "      <td>Y</td>\n",
       "      <td>2.03</td>\n",
       "      <td>Y</td>\n",
       "      <td>NaN</td>\n",
       "      <td>NaN</td>\n",
       "      <td>NaN</td>\n",
       "      <td>NaN</td>\n",
       "      <td>68.71</td>\n",
       "      <td>Y</td>\n",
       "    </tr>\n",
       "    <tr>\n",
       "      <th>10</th>\n",
       "      <td>2018</td>\n",
       "      <td>0001</td>\n",
       "      <td>03</td>\n",
       "      <td>Minneapolis Public School District</td>\n",
       "      <td>107</td>\n",
       "      <td>Bethune Elementary</td>\n",
       "      <td>E</td>\n",
       "      <td>10</td>\n",
       "      <td>Y</td>\n",
       "      <td>Targeted</td>\n",
       "      <td>...</td>\n",
       "      <td>1.18</td>\n",
       "      <td>Y</td>\n",
       "      <td>2.02</td>\n",
       "      <td>Y</td>\n",
       "      <td>NaN</td>\n",
       "      <td>NaN</td>\n",
       "      <td>NaN</td>\n",
       "      <td>NaN</td>\n",
       "      <td>69.74</td>\n",
       "      <td>Y</td>\n",
       "    </tr>\n",
       "  </tbody>\n",
       "</table>\n",
       "<p>5 rows × 31 columns</p>\n",
       "</div>"
      ],
      "text/plain": [
       "5  Identification Year  District Number District Type  \\\n",
       "6                  2018            0001            03   \n",
       "7                  2018            0001            03   \n",
       "8                  2018            0001            03   \n",
       "9                  2018            0001            03   \n",
       "10                 2018            0001            03   \n",
       "\n",
       "5                        District Name School Number          School Name  \\\n",
       "6   Minneapolis Public School District           105  Bancroft Elementary   \n",
       "7   Minneapolis Public School District           105  Bancroft Elementary   \n",
       "8   Minneapolis Public School District           105  Bancroft Elementary   \n",
       "9   Minneapolis Public School District           107   Bethune Elementary   \n",
       "10  Minneapolis Public School District           107   Bethune Elementary   \n",
       "\n",
       "5  School Type School Classification Title I  \\\n",
       "6        E                        10       Y   \n",
       "7        E                        10       Y   \n",
       "8        E                        10       Y   \n",
       "9        E                        10       Y   \n",
       "10       E                        10       Y   \n",
       "\n",
       "5  Level of Support\\n(Short versions in \"Support\" column.)   \\\n",
       "6                                            Targeted         \n",
       "7                                             Support         \n",
       "8                                            Targeted         \n",
       "9                                       Comprehensive         \n",
       "10                                           Targeted         \n",
       "\n",
       "5           ...          Stage 2:\\nMath Prog Stage 2:\\nMath Prog ID  \\\n",
       "6           ...                          NaN                    NaN   \n",
       "7           ...                          NaN                    NaN   \n",
       "8           ...                         0.78                      Y   \n",
       "9           ...                         1.18                      Y   \n",
       "10          ...                         1.18                      Y   \n",
       "\n",
       "5  Stage 2:\\nReading Prog Stage 2:\\nReading Prog ID Stage 2:\\n4-Year Grad   \\\n",
       "6                     NaN                       NaN                    NaN   \n",
       "7                     NaN                       NaN                    NaN   \n",
       "8                    1.68                         Y                    NaN   \n",
       "9                    2.03                         Y                    NaN   \n",
       "10                   2.02                         Y                    NaN   \n",
       "\n",
       "5  Stage 2:\\n4-Year Grad  ID Stage 2:\\n7- Year Grad  Stage 2:\\n7-Year Grad ID  \\\n",
       "6                        NaN                     NaN                      NaN   \n",
       "7                        NaN                     NaN                      NaN   \n",
       "8                        NaN                     NaN                      NaN   \n",
       "9                        NaN                     NaN                      NaN   \n",
       "10                       NaN                     NaN                      NaN   \n",
       "\n",
       "5  Stage 3:\\nCons Att Stage 3:\\nCons Att ID  \n",
       "6               63.86                     Y  \n",
       "7                 NaN                   NaN  \n",
       "8               72.97                     Y  \n",
       "9               68.71                     Y  \n",
       "10              69.74                     Y  \n",
       "\n",
       "[5 rows x 31 columns]"
      ]
     },
     "execution_count": 35,
     "metadata": {},
     "output_type": "execute_result"
    }
   ],
   "source": [
    "north_file = \"Resources/2018 North Star Accountability File 09.07.18 (1).xlsx\"\n",
    "northstar = pd.read_excel(north_file, sheet_name='Identified Schools')\n",
    "\n",
    "new_head = northstar.iloc[5] \n",
    "northstar_complete = northstar[6:] \n",
    "northstar_complete.columns = new_head\n",
    "northstar_complete.head()"
   ]
  },
  {
   "cell_type": "code",
   "execution_count": 16,
   "metadata": {},
   "outputs": [
    {
     "data": {
      "text/plain": [
       "['Identification Year ',\n",
       " 'District Number',\n",
       " 'District Type',\n",
       " 'District Name',\n",
       " 'School Number',\n",
       " 'School Name',\n",
       " 'School Type',\n",
       " 'School Classification',\n",
       " 'Title I',\n",
       " 'Level of Support\\n(Short versions in \"Support\" column.) ',\n",
       " 'Reason for Identification\\n(Short versions in \"Reason\" column.)',\n",
       " 'Student Group that Led to Identification\\n(Short versions in \"Group\" column.)',\n",
       " 'Support',\n",
       " 'Reason',\n",
       " 'Group',\n",
       " 'Stage 1:\\nMath Ach',\n",
       " 'Stage 1:\\nMath Ach ID',\n",
       " 'Stage 1:\\nReading Ach',\n",
       " 'Stage 1:\\nReading Ach ID',\n",
       " 'Stage 1:\\nELP Prog',\n",
       " 'Stage 1:\\nELP Prog ID',\n",
       " 'Stage 2:\\nMath Prog',\n",
       " 'Stage 2:\\nMath Prog ID',\n",
       " 'Stage 2:\\nReading Prog',\n",
       " 'Stage 2:\\nReading Prog ID',\n",
       " 'Stage 2:\\n4-Year Grad ',\n",
       " 'Stage 2:\\n4-Year Grad  ID',\n",
       " 'Stage 2:\\n7- Year Grad ',\n",
       " 'Stage 2:\\n7-Year Grad ID',\n",
       " 'Stage 3:\\nCons Att',\n",
       " 'Stage 3:\\nCons Att ID']"
      ]
     },
     "execution_count": 16,
     "metadata": {},
     "output_type": "execute_result"
    }
   ],
   "source": [
    "list(northstar_complete)"
   ]
  },
  {
   "cell_type": "code",
<<<<<<< HEAD
=======
<<<<<<< HEAD
>>>>>>> master
   "execution_count": 37,
   "metadata": {},
   "outputs": [
    {
<<<<<<< HEAD
=======
=======
   "execution_count": 17,
   "metadata": {},
   "outputs": [
    {
     "name": "stderr",
     "output_type": "stream",
     "text": [
      "C:\\Users\\Ashle\\Anaconda3\\lib\\site-packages\\pandas\\core\\frame.py:3781: SettingWithCopyWarning: \n",
      "A value is trying to be set on a copy of a slice from a DataFrame\n",
      "\n",
      "See the caveats in the documentation: http://pandas.pydata.org/pandas-docs/stable/indexing.html#indexing-view-versus-copy\n",
      "  return super(DataFrame, self).rename(**kwargs)\n",
      "C:\\Users\\Ashle\\Anaconda3\\lib\\site-packages\\ipykernel_launcher.py:3: SettingWithCopyWarning: \n",
      "A value is trying to be set on a copy of a slice from a DataFrame.\n",
      "Try using .loc[row_indexer,col_indexer] = value instead\n",
      "\n",
      "See the caveats in the documentation: http://pandas.pydata.org/pandas-docs/stable/indexing.html#indexing-view-versus-copy\n",
      "  This is separate from the ipykernel package so we can avoid doing imports until\n"
     ]
    },
    {
>>>>>>> f32c07fdabd952b1ad2c4fd1e6faec74f276e45a
>>>>>>> master
     "data": {
      "text/html": [
       "<div>\n",
       "<style scoped>\n",
       "    .dataframe tbody tr th:only-of-type {\n",
       "        vertical-align: middle;\n",
       "    }\n",
       "\n",
       "    .dataframe tbody tr th {\n",
       "        vertical-align: top;\n",
       "    }\n",
       "\n",
       "    .dataframe thead th {\n",
       "        text-align: right;\n",
       "    }\n",
       "</style>\n",
       "<table border=\"1\" class=\"dataframe\">\n",
       "  <thead>\n",
       "    <tr style=\"text-align: right;\">\n",
       "      <th>5</th>\n",
<<<<<<< HEAD
       "      <th>District Number</th>\n",
=======
<<<<<<< HEAD
       "      <th>District Number</th>\n",
=======
>>>>>>> f32c07fdabd952b1ad2c4fd1e6faec74f276e45a
>>>>>>> master
       "      <th>School Number</th>\n",
       "      <th>School Name</th>\n",
       "      <th>School Classification</th>\n",
       "      <th>Consistent Attendance</th>\n",
       "    </tr>\n",
       "  </thead>\n",
       "  <tbody>\n",
       "    <tr>\n",
       "      <th>6</th>\n",
<<<<<<< HEAD
       "      <td>0001</td>\n",
=======
<<<<<<< HEAD
       "      <td>0001</td>\n",
=======
>>>>>>> f32c07fdabd952b1ad2c4fd1e6faec74f276e45a
>>>>>>> master
       "      <td>105</td>\n",
       "      <td>BANCROFT ELEMENTARY</td>\n",
       "      <td>10</td>\n",
       "      <td>63.86</td>\n",
       "    </tr>\n",
       "    <tr>\n",
       "      <th>7</th>\n",
<<<<<<< HEAD
       "      <td>0001</td>\n",
=======
<<<<<<< HEAD
       "      <td>0001</td>\n",
=======
>>>>>>> f32c07fdabd952b1ad2c4fd1e6faec74f276e45a
>>>>>>> master
       "      <td>105</td>\n",
       "      <td>BANCROFT ELEMENTARY</td>\n",
       "      <td>10</td>\n",
       "      <td>NaN</td>\n",
       "    </tr>\n",
       "    <tr>\n",
       "      <th>8</th>\n",
<<<<<<< HEAD
       "      <td>0001</td>\n",
=======
<<<<<<< HEAD
       "      <td>0001</td>\n",
=======
>>>>>>> f32c07fdabd952b1ad2c4fd1e6faec74f276e45a
>>>>>>> master
       "      <td>105</td>\n",
       "      <td>BANCROFT ELEMENTARY</td>\n",
       "      <td>10</td>\n",
       "      <td>72.97</td>\n",
       "    </tr>\n",
       "    <tr>\n",
       "      <th>9</th>\n",
<<<<<<< HEAD
       "      <td>0001</td>\n",
=======
<<<<<<< HEAD
       "      <td>0001</td>\n",
=======
>>>>>>> f32c07fdabd952b1ad2c4fd1e6faec74f276e45a
>>>>>>> master
       "      <td>107</td>\n",
       "      <td>BETHUNE ELEMENTARY</td>\n",
       "      <td>10</td>\n",
       "      <td>68.71</td>\n",
       "    </tr>\n",
       "    <tr>\n",
       "      <th>10</th>\n",
<<<<<<< HEAD
       "      <td>0001</td>\n",
=======
<<<<<<< HEAD
       "      <td>0001</td>\n",
=======
>>>>>>> f32c07fdabd952b1ad2c4fd1e6faec74f276e45a
>>>>>>> master
       "      <td>107</td>\n",
       "      <td>BETHUNE ELEMENTARY</td>\n",
       "      <td>10</td>\n",
       "      <td>69.74</td>\n",
       "    </tr>\n",
       "  </tbody>\n",
       "</table>\n",
       "</div>"
      ],
      "text/plain": [
<<<<<<< HEAD
=======
<<<<<<< HEAD
>>>>>>> master
       "5  District Number School Number          School Name School Classification  \\\n",
       "6             0001           105  BANCROFT ELEMENTARY                    10   \n",
       "7             0001           105  BANCROFT ELEMENTARY                    10   \n",
       "8             0001           105  BANCROFT ELEMENTARY                    10   \n",
       "9             0001           107   BETHUNE ELEMENTARY                    10   \n",
       "10            0001           107   BETHUNE ELEMENTARY                    10   \n",
<<<<<<< HEAD
=======
=======
       "5  School Number          School Name School Classification  \\\n",
       "6            105  BANCROFT ELEMENTARY                    10   \n",
       "7            105  BANCROFT ELEMENTARY                    10   \n",
       "8            105  BANCROFT ELEMENTARY                    10   \n",
       "9            107   BETHUNE ELEMENTARY                    10   \n",
       "10           107   BETHUNE ELEMENTARY                    10   \n",
>>>>>>> f32c07fdabd952b1ad2c4fd1e6faec74f276e45a
>>>>>>> master
       "\n",
       "5  Consistent Attendance  \n",
       "6                  63.86  \n",
       "7                    NaN  \n",
       "8                  72.97  \n",
       "9                  68.71  \n",
       "10                 69.74  "
      ]
     },
<<<<<<< HEAD
     "execution_count": 37,
=======
<<<<<<< HEAD
     "execution_count": 37,
=======
     "execution_count": 17,
>>>>>>> f32c07fdabd952b1ad2c4fd1e6faec74f276e45a
>>>>>>> master
     "metadata": {},
     "output_type": "execute_result"
    }
   ],
   "source": [
    "northstar_complete.rename(columns = {'Stage 3:\\nCons Att': 'Consistent Attendance'}, inplace = True) \n",
<<<<<<< HEAD
    "attendance = northstar_complete[[ 'District Number', 'School Number', 'School Name', 'School Classification', 'Consistent Attendance']]\n",
=======
<<<<<<< HEAD
    "attendance = northstar_complete[[ 'District Number', 'School Number', 'School Name', 'School Classification', 'Consistent Attendance']]\n",
=======
    "attendance = northstar_complete[[ 'School Number', 'School Name', 'School Classification', 'Consistent Attendance']]\n",
>>>>>>> f32c07fdabd952b1ad2c4fd1e6faec74f276e45a
>>>>>>> master
    "attendance['School Name'] = attendance['School Name'].str.upper() \n",
    "attendance.head()"
   ]
  },
  {
   "cell_type": "code",
   "execution_count": 18,
   "metadata": {},
   "outputs": [
    {
     "data": {
      "text/html": [
       "<div>\n",
       "<style scoped>\n",
       "    .dataframe tbody tr th:only-of-type {\n",
       "        vertical-align: middle;\n",
       "    }\n",
       "\n",
       "    .dataframe tbody tr th {\n",
       "        vertical-align: top;\n",
       "    }\n",
       "\n",
       "    .dataframe thead th {\n",
       "        text-align: right;\n",
       "    }\n",
       "</style>\n",
       "<table border=\"1\" class=\"dataframe\">\n",
       "  <thead>\n",
       "    <tr style=\"text-align: right;\">\n",
       "      <th></th>\n",
       "      <th>District Number</th>\n",
       "      <th>School Number_x</th>\n",
       "      <th>School Name</th>\n",
       "      <th>Demographic Description</th>\n",
       "      <th>Ending Status</th>\n",
       "      <th>Four Year Percent</th>\n",
       "      <th>Four Year Total</th>\n",
       "      <th>Physical Line 1</th>\n",
       "      <th>Physical City</th>\n",
       "      <th>Physical State</th>\n",
       "      <th>Physical Zip</th>\n",
       "      <th>School Number_y</th>\n",
       "      <th>School Classification</th>\n",
       "      <th>Consistent Attendance</th>\n",
       "    </tr>\n",
       "  </thead>\n",
       "  <tbody>\n",
       "    <tr>\n",
       "      <th>0</th>\n",
       "      <td>0001</td>\n",
       "      <td>347</td>\n",
       "      <td>FAIR SENIOR HIGH</td>\n",
       "      <td>All Students</td>\n",
       "      <td>Graduate</td>\n",
       "      <td>79.37</td>\n",
       "      <td>63</td>\n",
       "      <td>10 South 10th Street</td>\n",
       "      <td>Minneapolis</td>\n",
       "      <td>MN</td>\n",
       "      <td>55403</td>\n",
       "      <td>347</td>\n",
       "      <td>32</td>\n",
       "      <td>NaN</td>\n",
       "    </tr>\n",
       "    <tr>\n",
       "      <th>1</th>\n",
       "      <td>0001</td>\n",
       "      <td>352</td>\n",
       "      <td>EDISON SENIOR HIGH</td>\n",
       "      <td>All Students</td>\n",
       "      <td>Graduate</td>\n",
       "      <td>59.81</td>\n",
       "      <td>214</td>\n",
       "      <td>700 22nd Ave NE</td>\n",
       "      <td>Minneapolis</td>\n",
       "      <td>MN</td>\n",
       "      <td>55418</td>\n",
       "      <td>352</td>\n",
       "      <td>32</td>\n",
       "      <td>NaN</td>\n",
       "    </tr>\n",
       "    <tr>\n",
       "      <th>2</th>\n",
       "      <td>0001</td>\n",
       "      <td>352</td>\n",
       "      <td>EDISON SENIOR HIGH</td>\n",
       "      <td>All Students</td>\n",
       "      <td>Graduate</td>\n",
       "      <td>59.81</td>\n",
       "      <td>214</td>\n",
       "      <td>700 22nd Ave NE</td>\n",
       "      <td>Minneapolis</td>\n",
       "      <td>MN</td>\n",
       "      <td>55418</td>\n",
       "      <td>352</td>\n",
       "      <td>32</td>\n",
       "      <td>NaN</td>\n",
       "    </tr>\n",
       "    <tr>\n",
       "      <th>3</th>\n",
       "      <td>0001</td>\n",
       "      <td>352</td>\n",
       "      <td>EDISON SENIOR HIGH</td>\n",
       "      <td>All Students</td>\n",
       "      <td>Graduate</td>\n",
       "      <td>59.81</td>\n",
       "      <td>214</td>\n",
       "      <td>700 22nd Ave NE</td>\n",
       "      <td>Minneapolis</td>\n",
       "      <td>MN</td>\n",
       "      <td>55418</td>\n",
       "      <td>352</td>\n",
       "      <td>32</td>\n",
       "      <td>NaN</td>\n",
       "    </tr>\n",
       "    <tr>\n",
       "      <th>4</th>\n",
       "      <td>0001</td>\n",
       "      <td>352</td>\n",
       "      <td>EDISON SENIOR HIGH</td>\n",
       "      <td>All Students</td>\n",
       "      <td>Graduate</td>\n",
       "      <td>59.81</td>\n",
       "      <td>214</td>\n",
       "      <td>700 22nd Ave NE</td>\n",
       "      <td>Minneapolis</td>\n",
       "      <td>MN</td>\n",
       "      <td>55418</td>\n",
       "      <td>352</td>\n",
       "      <td>32</td>\n",
       "      <td>NaN</td>\n",
       "    </tr>\n",
       "    <tr>\n",
       "      <th>5</th>\n",
       "      <td>0001</td>\n",
       "      <td>352</td>\n",
       "      <td>EDISON SENIOR HIGH</td>\n",
       "      <td>All Students</td>\n",
       "      <td>Graduate</td>\n",
       "      <td>59.81</td>\n",
       "      <td>214</td>\n",
       "      <td>700 22nd Ave NE</td>\n",
       "      <td>Minneapolis</td>\n",
       "      <td>MN</td>\n",
       "      <td>55418</td>\n",
       "      <td>352</td>\n",
       "      <td>32</td>\n",
       "      <td>NaN</td>\n",
       "    </tr>\n",
       "    <tr>\n",
       "      <th>6</th>\n",
       "      <td>0001</td>\n",
       "      <td>352</td>\n",
       "      <td>EDISON SENIOR HIGH</td>\n",
       "      <td>All Students</td>\n",
       "      <td>Graduate</td>\n",
       "      <td>59.81</td>\n",
       "      <td>214</td>\n",
       "      <td>700 22nd Ave NE</td>\n",
       "      <td>Minneapolis</td>\n",
       "      <td>MN</td>\n",
       "      <td>55418</td>\n",
       "      <td>352</td>\n",
       "      <td>32</td>\n",
       "      <td>NaN</td>\n",
       "    </tr>\n",
       "    <tr>\n",
       "      <th>7</th>\n",
       "      <td>0001</td>\n",
       "      <td>352</td>\n",
       "      <td>EDISON SENIOR HIGH</td>\n",
       "      <td>All Students</td>\n",
       "      <td>Graduate</td>\n",
       "      <td>59.81</td>\n",
       "      <td>214</td>\n",
       "      <td>700 22nd Ave NE</td>\n",
       "      <td>Minneapolis</td>\n",
       "      <td>MN</td>\n",
       "      <td>55418</td>\n",
       "      <td>352</td>\n",
       "      <td>32</td>\n",
       "      <td>NaN</td>\n",
       "    </tr>\n",
       "    <tr>\n",
       "      <th>8</th>\n",
       "      <td>0001</td>\n",
       "      <td>352</td>\n",
       "      <td>EDISON SENIOR HIGH</td>\n",
       "      <td>All Students</td>\n",
       "      <td>Graduate</td>\n",
       "      <td>59.81</td>\n",
       "      <td>214</td>\n",
       "      <td>700 22nd Ave NE</td>\n",
       "      <td>Minneapolis</td>\n",
       "      <td>MN</td>\n",
       "      <td>55418</td>\n",
       "      <td>352</td>\n",
       "      <td>32</td>\n",
       "      <td>NaN</td>\n",
       "    </tr>\n",
       "    <tr>\n",
       "      <th>9</th>\n",
       "      <td>0001</td>\n",
       "      <td>352</td>\n",
       "      <td>EDISON SENIOR HIGH</td>\n",
       "      <td>All Students</td>\n",
       "      <td>Graduate</td>\n",
       "      <td>59.81</td>\n",
       "      <td>214</td>\n",
       "      <td>700 22nd Ave NE</td>\n",
       "      <td>Minneapolis</td>\n",
       "      <td>MN</td>\n",
       "      <td>55418</td>\n",
       "      <td>352</td>\n",
       "      <td>32</td>\n",
       "      <td>NaN</td>\n",
       "    </tr>\n",
       "    <tr>\n",
       "      <th>10</th>\n",
       "      <td>0001</td>\n",
       "      <td>352</td>\n",
       "      <td>EDISON SENIOR HIGH</td>\n",
       "      <td>All Students</td>\n",
       "      <td>Graduate</td>\n",
       "      <td>59.81</td>\n",
       "      <td>214</td>\n",
       "      <td>700 22nd Ave NE</td>\n",
       "      <td>Minneapolis</td>\n",
       "      <td>MN</td>\n",
       "      <td>55418</td>\n",
       "      <td>352</td>\n",
       "      <td>32</td>\n",
       "      <td>NaN</td>\n",
       "    </tr>\n",
       "    <tr>\n",
       "      <th>11</th>\n",
       "      <td>0001</td>\n",
       "      <td>352</td>\n",
       "      <td>EDISON SENIOR HIGH</td>\n",
       "      <td>All Students</td>\n",
       "      <td>Graduate</td>\n",
       "      <td>59.81</td>\n",
       "      <td>214</td>\n",
       "      <td>700 22nd Ave NE</td>\n",
       "      <td>Minneapolis</td>\n",
       "      <td>MN</td>\n",
       "      <td>55418</td>\n",
       "      <td>352</td>\n",
       "      <td>32</td>\n",
       "      <td>NaN</td>\n",
       "    </tr>\n",
       "    <tr>\n",
       "      <th>12</th>\n",
       "      <td>0001</td>\n",
       "      <td>352</td>\n",
       "      <td>EDISON SENIOR HIGH</td>\n",
       "      <td>All Students</td>\n",
       "      <td>Graduate</td>\n",
       "      <td>59.81</td>\n",
       "      <td>214</td>\n",
       "      <td>700 22nd Ave NE</td>\n",
       "      <td>Minneapolis</td>\n",
       "      <td>MN</td>\n",
       "      <td>55418</td>\n",
       "      <td>352</td>\n",
       "      <td>32</td>\n",
       "      <td>NaN</td>\n",
       "    </tr>\n",
       "    <tr>\n",
       "      <th>13</th>\n",
       "      <td>0001</td>\n",
       "      <td>352</td>\n",
       "      <td>EDISON SENIOR HIGH</td>\n",
       "      <td>All Students</td>\n",
       "      <td>Graduate</td>\n",
       "      <td>59.81</td>\n",
       "      <td>214</td>\n",
       "      <td>700 22nd Ave NE</td>\n",
       "      <td>Minneapolis</td>\n",
       "      <td>MN</td>\n",
       "      <td>55418</td>\n",
       "      <td>352</td>\n",
       "      <td>32</td>\n",
       "      <td>NaN</td>\n",
       "    </tr>\n",
       "    <tr>\n",
       "      <th>14</th>\n",
       "      <td>0001</td>\n",
       "      <td>352</td>\n",
       "      <td>EDISON SENIOR HIGH</td>\n",
       "      <td>All Students</td>\n",
       "      <td>Graduate</td>\n",
       "      <td>59.81</td>\n",
       "      <td>214</td>\n",
       "      <td>700 22nd Ave NE</td>\n",
       "      <td>Minneapolis</td>\n",
       "      <td>MN</td>\n",
       "      <td>55418</td>\n",
       "      <td>352</td>\n",
       "      <td>32</td>\n",
       "      <td>NaN</td>\n",
       "    </tr>\n",
       "    <tr>\n",
       "      <th>15</th>\n",
       "      <td>0001</td>\n",
       "      <td>352</td>\n",
       "      <td>EDISON SENIOR HIGH</td>\n",
       "      <td>All Students</td>\n",
       "      <td>Graduate</td>\n",
       "      <td>59.81</td>\n",
       "      <td>214</td>\n",
       "      <td>700 22nd Ave NE</td>\n",
       "      <td>Minneapolis</td>\n",
       "      <td>MN</td>\n",
       "      <td>55418</td>\n",
       "      <td>352</td>\n",
       "      <td>32</td>\n",
       "      <td>NaN</td>\n",
       "    </tr>\n",
       "    <tr>\n",
       "      <th>16</th>\n",
       "      <td>0001</td>\n",
       "      <td>352</td>\n",
       "      <td>EDISON SENIOR HIGH</td>\n",
       "      <td>All Students</td>\n",
       "      <td>Graduate</td>\n",
       "      <td>59.81</td>\n",
       "      <td>214</td>\n",
       "      <td>700 22nd Ave NE</td>\n",
       "      <td>Minneapolis</td>\n",
       "      <td>MN</td>\n",
       "      <td>55418</td>\n",
       "      <td>352</td>\n",
       "      <td>32</td>\n",
       "      <td>NaN</td>\n",
       "    </tr>\n",
       "    <tr>\n",
       "      <th>17</th>\n",
       "      <td>0001</td>\n",
       "      <td>352</td>\n",
       "      <td>EDISON SENIOR HIGH</td>\n",
       "      <td>All Students</td>\n",
       "      <td>Graduate</td>\n",
       "      <td>59.81</td>\n",
       "      <td>214</td>\n",
       "      <td>700 22nd Ave NE</td>\n",
       "      <td>Minneapolis</td>\n",
       "      <td>MN</td>\n",
       "      <td>55418</td>\n",
       "      <td>352</td>\n",
       "      <td>32</td>\n",
       "      <td>NaN</td>\n",
       "    </tr>\n",
       "    <tr>\n",
       "      <th>18</th>\n",
       "      <td>0001</td>\n",
       "      <td>352</td>\n",
       "      <td>EDISON SENIOR HIGH</td>\n",
       "      <td>All Students</td>\n",
       "      <td>Graduate</td>\n",
       "      <td>59.81</td>\n",
       "      <td>214</td>\n",
       "      <td>700 22nd Ave NE</td>\n",
       "      <td>Minneapolis</td>\n",
       "      <td>MN</td>\n",
       "      <td>55418</td>\n",
       "      <td>352</td>\n",
       "      <td>32</td>\n",
       "      <td>NaN</td>\n",
       "    </tr>\n",
       "    <tr>\n",
       "      <th>19</th>\n",
       "      <td>0001</td>\n",
       "      <td>352</td>\n",
       "      <td>EDISON SENIOR HIGH</td>\n",
       "      <td>All Students</td>\n",
       "      <td>Graduate</td>\n",
       "      <td>59.81</td>\n",
       "      <td>214</td>\n",
       "      <td>700 22nd Ave NE</td>\n",
       "      <td>Minneapolis</td>\n",
       "      <td>MN</td>\n",
       "      <td>55418</td>\n",
       "      <td>352</td>\n",
       "      <td>32</td>\n",
       "      <td>NaN</td>\n",
       "    </tr>\n",
       "    <tr>\n",
       "      <th>20</th>\n",
       "      <td>0001</td>\n",
       "      <td>352</td>\n",
       "      <td>EDISON SENIOR HIGH</td>\n",
       "      <td>All Students</td>\n",
       "      <td>Graduate</td>\n",
       "      <td>59.81</td>\n",
       "      <td>214</td>\n",
       "      <td>700 22nd Ave NE</td>\n",
       "      <td>Minneapolis</td>\n",
       "      <td>MN</td>\n",
       "      <td>55418</td>\n",
       "      <td>352</td>\n",
       "      <td>32</td>\n",
       "      <td>NaN</td>\n",
       "    </tr>\n",
       "    <tr>\n",
       "      <th>21</th>\n",
       "      <td>0001</td>\n",
       "      <td>352</td>\n",
       "      <td>EDISON SENIOR HIGH</td>\n",
       "      <td>All Students</td>\n",
       "      <td>Graduate</td>\n",
       "      <td>59.81</td>\n",
       "      <td>214</td>\n",
       "      <td>700 22nd Ave NE</td>\n",
       "      <td>Minneapolis</td>\n",
       "      <td>MN</td>\n",
       "      <td>55418</td>\n",
       "      <td>352</td>\n",
       "      <td>32</td>\n",
       "      <td>NaN</td>\n",
       "    </tr>\n",
       "    <tr>\n",
       "      <th>22</th>\n",
       "      <td>0001</td>\n",
       "      <td>353</td>\n",
       "      <td>LONGFELLOW ALTERNATIVE</td>\n",
       "      <td>All Students</td>\n",
       "      <td>Graduate</td>\n",
       "      <td>12.9</td>\n",
       "      <td>31</td>\n",
       "      <td>3017 E 31st St</td>\n",
       "      <td>Minneapolis</td>\n",
       "      <td>MN</td>\n",
       "      <td>55406</td>\n",
       "      <td>353</td>\n",
       "      <td>41</td>\n",
       "      <td>NaN</td>\n",
       "    </tr>\n",
       "    <tr>\n",
       "      <th>23</th>\n",
       "      <td>0001</td>\n",
       "      <td>353</td>\n",
       "      <td>LONGFELLOW ALTERNATIVE</td>\n",
       "      <td>All Students</td>\n",
       "      <td>Graduate</td>\n",
       "      <td>12.9</td>\n",
       "      <td>31</td>\n",
       "      <td>3017 E 31st St</td>\n",
       "      <td>Minneapolis</td>\n",
       "      <td>MN</td>\n",
       "      <td>55406</td>\n",
       "      <td>353</td>\n",
       "      <td>41</td>\n",
       "      <td>NaN</td>\n",
       "    </tr>\n",
       "    <tr>\n",
       "      <th>24</th>\n",
       "      <td>0001</td>\n",
       "      <td>354</td>\n",
       "      <td>HENRY SENIOR HIGH</td>\n",
       "      <td>All Students</td>\n",
       "      <td>Graduate</td>\n",
       "      <td>70.91</td>\n",
       "      <td>220</td>\n",
       "      <td>4320 Newton Ave N</td>\n",
       "      <td>Minneapolis</td>\n",
       "      <td>MN</td>\n",
       "      <td>55412</td>\n",
       "      <td>354</td>\n",
       "      <td>32</td>\n",
       "      <td>NaN</td>\n",
       "    </tr>\n",
       "    <tr>\n",
       "      <th>25</th>\n",
       "      <td>0001</td>\n",
       "      <td>354</td>\n",
       "      <td>HENRY SENIOR HIGH</td>\n",
       "      <td>All Students</td>\n",
       "      <td>Graduate</td>\n",
       "      <td>70.91</td>\n",
       "      <td>220</td>\n",
       "      <td>4320 Newton Ave N</td>\n",
       "      <td>Minneapolis</td>\n",
       "      <td>MN</td>\n",
       "      <td>55412</td>\n",
       "      <td>354</td>\n",
       "      <td>32</td>\n",
       "      <td>NaN</td>\n",
       "    </tr>\n",
       "    <tr>\n",
       "      <th>26</th>\n",
       "      <td>0001</td>\n",
       "      <td>354</td>\n",
       "      <td>HENRY SENIOR HIGH</td>\n",
       "      <td>All Students</td>\n",
       "      <td>Graduate</td>\n",
       "      <td>70.91</td>\n",
       "      <td>220</td>\n",
       "      <td>4320 Newton Ave N</td>\n",
       "      <td>Minneapolis</td>\n",
       "      <td>MN</td>\n",
       "      <td>55412</td>\n",
       "      <td>354</td>\n",
       "      <td>32</td>\n",
       "      <td>NaN</td>\n",
       "    </tr>\n",
       "    <tr>\n",
       "      <th>27</th>\n",
       "      <td>0001</td>\n",
       "      <td>354</td>\n",
       "      <td>HENRY SENIOR HIGH</td>\n",
       "      <td>All Students</td>\n",
       "      <td>Graduate</td>\n",
       "      <td>70.91</td>\n",
       "      <td>220</td>\n",
       "      <td>4320 Newton Ave N</td>\n",
       "      <td>Minneapolis</td>\n",
       "      <td>MN</td>\n",
       "      <td>55412</td>\n",
       "      <td>354</td>\n",
       "      <td>32</td>\n",
       "      <td>NaN</td>\n",
       "    </tr>\n",
       "    <tr>\n",
       "      <th>28</th>\n",
       "      <td>0001</td>\n",
       "      <td>354</td>\n",
       "      <td>HENRY SENIOR HIGH</td>\n",
       "      <td>All Students</td>\n",
       "      <td>Graduate</td>\n",
       "      <td>70.91</td>\n",
       "      <td>220</td>\n",
       "      <td>4320 Newton Ave N</td>\n",
       "      <td>Minneapolis</td>\n",
       "      <td>MN</td>\n",
       "      <td>55412</td>\n",
       "      <td>354</td>\n",
       "      <td>32</td>\n",
       "      <td>NaN</td>\n",
       "    </tr>\n",
       "    <tr>\n",
       "      <th>29</th>\n",
       "      <td>0001</td>\n",
       "      <td>354</td>\n",
       "      <td>HENRY SENIOR HIGH</td>\n",
       "      <td>All Students</td>\n",
       "      <td>Graduate</td>\n",
       "      <td>70.91</td>\n",
       "      <td>220</td>\n",
       "      <td>4320 Newton Ave N</td>\n",
       "      <td>Minneapolis</td>\n",
       "      <td>MN</td>\n",
       "      <td>55412</td>\n",
       "      <td>354</td>\n",
       "      <td>32</td>\n",
       "      <td>NaN</td>\n",
       "    </tr>\n",
       "    <tr>\n",
       "      <th>...</th>\n",
       "      <td>...</td>\n",
       "      <td>...</td>\n",
       "      <td>...</td>\n",
       "      <td>...</td>\n",
       "      <td>...</td>\n",
       "      <td>...</td>\n",
       "      <td>...</td>\n",
       "      <td>...</td>\n",
       "      <td>...</td>\n",
       "      <td>...</td>\n",
       "      <td>...</td>\n",
       "      <td>...</td>\n",
       "      <td>...</td>\n",
       "      <td>...</td>\n",
       "    </tr>\n",
       "    <tr>\n",
       "      <th>480</th>\n",
       "      <td>4178</td>\n",
       "      <td>010</td>\n",
       "      <td>LINCOLN INTERNATIONAL SCHOOL</td>\n",
       "      <td>All Students</td>\n",
       "      <td>Graduate</td>\n",
       "      <td>34.43</td>\n",
       "      <td>61</td>\n",
       "      <td>2520 Minnehaha Ave</td>\n",
       "      <td>Minneapolis</td>\n",
       "      <td>MN</td>\n",
       "      <td>55404</td>\n",
       "      <td>010</td>\n",
       "      <td>32</td>\n",
       "      <td>NaN</td>\n",
       "    </tr>\n",
       "    <tr>\n",
       "      <th>481</th>\n",
       "      <td>4178</td>\n",
       "      <td>010</td>\n",
       "      <td>LINCOLN INTERNATIONAL SCHOOL</td>\n",
       "      <td>All Students</td>\n",
       "      <td>Graduate</td>\n",
       "      <td>34.43</td>\n",
       "      <td>61</td>\n",
       "      <td>2520 Minnehaha Ave</td>\n",
       "      <td>Minneapolis</td>\n",
       "      <td>MN</td>\n",
       "      <td>55404</td>\n",
       "      <td>010</td>\n",
       "      <td>32</td>\n",
       "      <td>NaN</td>\n",
       "    </tr>\n",
       "    <tr>\n",
       "      <th>482</th>\n",
       "      <td>4178</td>\n",
       "      <td>010</td>\n",
       "      <td>LINCOLN INTERNATIONAL SCHOOL</td>\n",
       "      <td>All Students</td>\n",
       "      <td>Graduate</td>\n",
       "      <td>34.43</td>\n",
       "      <td>61</td>\n",
       "      <td>2520 Minnehaha Ave</td>\n",
       "      <td>Minneapolis</td>\n",
       "      <td>MN</td>\n",
       "      <td>55404</td>\n",
       "      <td>010</td>\n",
       "      <td>32</td>\n",
       "      <td>NaN</td>\n",
       "    </tr>\n",
       "    <tr>\n",
       "      <th>483</th>\n",
       "      <td>4178</td>\n",
       "      <td>010</td>\n",
       "      <td>LINCOLN INTERNATIONAL SCHOOL</td>\n",
       "      <td>All Students</td>\n",
       "      <td>Graduate</td>\n",
       "      <td>34.43</td>\n",
       "      <td>61</td>\n",
       "      <td>2520 Minnehaha Ave</td>\n",
       "      <td>Minneapolis</td>\n",
       "      <td>MN</td>\n",
       "      <td>55404</td>\n",
       "      <td>010</td>\n",
       "      <td>32</td>\n",
       "      <td>NaN</td>\n",
       "    </tr>\n",
       "    <tr>\n",
       "      <th>484</th>\n",
       "      <td>4204</td>\n",
       "      <td>010</td>\n",
       "      <td>ROCHESTER STEM ACADEMY</td>\n",
       "      <td>All Students</td>\n",
       "      <td>Graduate</td>\n",
       "      <td>80</td>\n",
       "      <td>30</td>\n",
       "      <td>415 16th St SW</td>\n",
       "      <td>Rochester</td>\n",
       "      <td>MN</td>\n",
       "      <td>55902-2125</td>\n",
       "      <td>010</td>\n",
       "      <td>32</td>\n",
       "      <td>NaN</td>\n",
       "    </tr>\n",
       "    <tr>\n",
       "      <th>485</th>\n",
       "      <td>4204</td>\n",
       "      <td>010</td>\n",
       "      <td>ROCHESTER STEM ACADEMY</td>\n",
       "      <td>All Students</td>\n",
       "      <td>Graduate</td>\n",
       "      <td>80</td>\n",
       "      <td>30</td>\n",
       "      <td>415 16th St SW</td>\n",
       "      <td>Rochester</td>\n",
       "      <td>MN</td>\n",
       "      <td>55902-2125</td>\n",
       "      <td>010</td>\n",
       "      <td>32</td>\n",
       "      <td>NaN</td>\n",
       "    </tr>\n",
       "    <tr>\n",
       "      <th>486</th>\n",
       "      <td>4237</td>\n",
       "      <td>010</td>\n",
       "      <td>CAREER PATHWAYS</td>\n",
       "      <td>All Students</td>\n",
       "      <td>Graduate</td>\n",
       "      <td>44.62</td>\n",
       "      <td>65</td>\n",
       "      <td>1355 Pierce Butler Rt</td>\n",
       "      <td>Saint Paul</td>\n",
       "      <td>MN</td>\n",
       "      <td>55104</td>\n",
       "      <td>010</td>\n",
       "      <td>33</td>\n",
       "      <td>17.12</td>\n",
       "    </tr>\n",
       "    <tr>\n",
       "      <th>487</th>\n",
       "      <td>4237</td>\n",
       "      <td>010</td>\n",
       "      <td>CAREER PATHWAYS</td>\n",
       "      <td>All Students</td>\n",
       "      <td>Graduate</td>\n",
       "      <td>44.62</td>\n",
       "      <td>65</td>\n",
       "      <td>1355 Pierce Butler Rt</td>\n",
       "      <td>Saint Paul</td>\n",
       "      <td>MN</td>\n",
       "      <td>55104</td>\n",
       "      <td>010</td>\n",
       "      <td>33</td>\n",
       "      <td>17.12</td>\n",
       "    </tr>\n",
       "    <tr>\n",
       "      <th>488</th>\n",
       "      <td>4238</td>\n",
       "      <td>010</td>\n",
       "      <td>ROCHESTER BEACON ACADEMY</td>\n",
       "      <td>All Students</td>\n",
       "      <td>Graduate</td>\n",
       "      <td>81.82</td>\n",
       "      <td>11</td>\n",
       "      <td>2521 Pennington Dr. NW</td>\n",
       "      <td>Rochester</td>\n",
       "      <td>MN</td>\n",
       "      <td>55901</td>\n",
       "      <td>010</td>\n",
       "      <td>33</td>\n",
       "      <td>NaN</td>\n",
       "    </tr>\n",
       "    <tr>\n",
       "      <th>489</th>\n",
       "      <td>4238</td>\n",
       "      <td>010</td>\n",
       "      <td>ROCHESTER BEACON ACADEMY</td>\n",
       "      <td>All Students</td>\n",
       "      <td>Graduate</td>\n",
       "      <td>81.82</td>\n",
       "      <td>11</td>\n",
       "      <td>2521 Pennington Dr. NW</td>\n",
       "      <td>Rochester</td>\n",
       "      <td>MN</td>\n",
       "      <td>55901</td>\n",
       "      <td>010</td>\n",
       "      <td>33</td>\n",
       "      <td>NaN</td>\n",
       "    </tr>\n",
       "    <tr>\n",
       "      <th>490</th>\n",
       "      <td>6004</td>\n",
       "      <td>020</td>\n",
       "      <td>FRESHWATER ED. DIST. ALC</td>\n",
       "      <td>All Students</td>\n",
       "      <td>Graduate</td>\n",
       "      <td>57.38</td>\n",
       "      <td>61</td>\n",
       "      <td>1830 Airport Rd, Ste 2</td>\n",
       "      <td>Staples</td>\n",
       "      <td>MN</td>\n",
       "      <td>56479-3252</td>\n",
       "      <td>020</td>\n",
       "      <td>41</td>\n",
       "      <td>NaN</td>\n",
       "    </tr>\n",
       "    <tr>\n",
       "      <th>491</th>\n",
       "      <td>6004</td>\n",
       "      <td>020</td>\n",
       "      <td>FRESHWATER ED. DIST. ALC</td>\n",
       "      <td>All Students</td>\n",
       "      <td>Graduate</td>\n",
       "      <td>57.38</td>\n",
       "      <td>61</td>\n",
       "      <td>1830 Airport Rd, Ste 2</td>\n",
       "      <td>Staples</td>\n",
       "      <td>MN</td>\n",
       "      <td>56479-3252</td>\n",
       "      <td>020</td>\n",
       "      <td>41</td>\n",
       "      <td>NaN</td>\n",
       "    </tr>\n",
       "    <tr>\n",
       "      <th>492</th>\n",
       "      <td>6004</td>\n",
       "      <td>020</td>\n",
       "      <td>FRESHWATER ED. DIST. ALC</td>\n",
       "      <td>All Students</td>\n",
       "      <td>Graduate</td>\n",
       "      <td>57.38</td>\n",
       "      <td>61</td>\n",
       "      <td>1830 Airport Rd, Ste 2</td>\n",
       "      <td>Staples</td>\n",
       "      <td>MN</td>\n",
       "      <td>56479-3252</td>\n",
       "      <td>020</td>\n",
       "      <td>41</td>\n",
       "      <td>NaN</td>\n",
       "    </tr>\n",
       "    <tr>\n",
       "      <th>493</th>\n",
       "      <td>6012</td>\n",
       "      <td>020</td>\n",
       "      <td>ZUMBRO AREA LEARNING CENTER</td>\n",
       "      <td>All Students</td>\n",
       "      <td>Graduate</td>\n",
       "      <td>56.67</td>\n",
       "      <td>30</td>\n",
       "      <td>630 1st Ave NW</td>\n",
       "      <td>Byron</td>\n",
       "      <td>MN</td>\n",
       "      <td>55920</td>\n",
       "      <td>020</td>\n",
       "      <td>41</td>\n",
       "      <td>NaN</td>\n",
       "    </tr>\n",
       "    <tr>\n",
       "      <th>494</th>\n",
       "      <td>6012</td>\n",
       "      <td>020</td>\n",
       "      <td>ZUMBRO AREA LEARNING CENTER</td>\n",
       "      <td>All Students</td>\n",
       "      <td>Graduate</td>\n",
       "      <td>56.67</td>\n",
       "      <td>30</td>\n",
       "      <td>630 1st Ave NW</td>\n",
       "      <td>Byron</td>\n",
       "      <td>MN</td>\n",
       "      <td>55920</td>\n",
       "      <td>020</td>\n",
       "      <td>41</td>\n",
       "      <td>NaN</td>\n",
       "    </tr>\n",
       "    <tr>\n",
       "      <th>495</th>\n",
       "      <td>6012</td>\n",
       "      <td>020</td>\n",
       "      <td>ZUMBRO AREA LEARNING CENTER</td>\n",
       "      <td>All Students</td>\n",
       "      <td>Graduate</td>\n",
       "      <td>56.67</td>\n",
       "      <td>30</td>\n",
       "      <td>630 1st Ave NW</td>\n",
       "      <td>Byron</td>\n",
       "      <td>MN</td>\n",
       "      <td>55920</td>\n",
       "      <td>020</td>\n",
       "      <td>41</td>\n",
       "      <td>NaN</td>\n",
       "    </tr>\n",
       "    <tr>\n",
       "      <th>496</th>\n",
       "      <td>6014</td>\n",
       "      <td>020</td>\n",
       "      <td>RUNESTONE REGIONAL LEARNING CENTER</td>\n",
       "      <td>All Students</td>\n",
       "      <td>Graduate</td>\n",
       "      <td>38.64</td>\n",
       "      <td>44</td>\n",
       "      <td>700 Northside Dr NE</td>\n",
       "      <td>Alexandria</td>\n",
       "      <td>MN</td>\n",
       "      <td>56308-5080</td>\n",
       "      <td>020</td>\n",
       "      <td>41</td>\n",
       "      <td>NaN</td>\n",
       "    </tr>\n",
       "    <tr>\n",
       "      <th>497</th>\n",
       "      <td>6014</td>\n",
       "      <td>020</td>\n",
       "      <td>RUNESTONE REGIONAL LEARNING CENTER</td>\n",
       "      <td>All Students</td>\n",
       "      <td>Graduate</td>\n",
       "      <td>38.64</td>\n",
       "      <td>44</td>\n",
       "      <td>700 Northside Dr NE</td>\n",
       "      <td>Alexandria</td>\n",
       "      <td>MN</td>\n",
       "      <td>56308-5080</td>\n",
       "      <td>020</td>\n",
       "      <td>41</td>\n",
       "      <td>NaN</td>\n",
       "    </tr>\n",
       "    <tr>\n",
       "      <th>498</th>\n",
       "      <td>6014</td>\n",
       "      <td>020</td>\n",
       "      <td>RUNESTONE REGIONAL LEARNING CENTER</td>\n",
       "      <td>All Students</td>\n",
       "      <td>Graduate</td>\n",
       "      <td>38.64</td>\n",
       "      <td>44</td>\n",
       "      <td>700 Northside Dr NE</td>\n",
       "      <td>Alexandria</td>\n",
       "      <td>MN</td>\n",
       "      <td>56308-5080</td>\n",
       "      <td>020</td>\n",
       "      <td>41</td>\n",
       "      <td>NaN</td>\n",
       "    </tr>\n",
       "    <tr>\n",
       "      <th>499</th>\n",
       "      <td>6014</td>\n",
       "      <td>020</td>\n",
       "      <td>RUNESTONE REGIONAL LEARNING CENTER</td>\n",
       "      <td>All Students</td>\n",
       "      <td>Graduate</td>\n",
       "      <td>38.64</td>\n",
       "      <td>44</td>\n",
       "      <td>700 Northside Dr NE</td>\n",
       "      <td>Alexandria</td>\n",
       "      <td>MN</td>\n",
       "      <td>56308-5080</td>\n",
       "      <td>020</td>\n",
       "      <td>41</td>\n",
       "      <td>NaN</td>\n",
       "    </tr>\n",
       "    <tr>\n",
       "      <th>500</th>\n",
       "      <td>6014</td>\n",
       "      <td>020</td>\n",
       "      <td>RUNESTONE REGIONAL LEARNING CENTER</td>\n",
       "      <td>All Students</td>\n",
       "      <td>Graduate</td>\n",
       "      <td>38.64</td>\n",
       "      <td>44</td>\n",
       "      <td>700 Northside Dr NE</td>\n",
       "      <td>Alexandria</td>\n",
       "      <td>MN</td>\n",
       "      <td>56308-5080</td>\n",
       "      <td>020</td>\n",
       "      <td>41</td>\n",
       "      <td>NaN</td>\n",
       "    </tr>\n",
       "    <tr>\n",
       "      <th>501</th>\n",
       "      <td>6014</td>\n",
       "      <td>020</td>\n",
       "      <td>RUNESTONE REGIONAL LEARNING CENTER</td>\n",
       "      <td>All Students</td>\n",
       "      <td>Graduate</td>\n",
       "      <td>38.64</td>\n",
       "      <td>44</td>\n",
       "      <td>700 Northside Dr NE</td>\n",
       "      <td>Alexandria</td>\n",
       "      <td>MN</td>\n",
       "      <td>56308-5080</td>\n",
       "      <td>020</td>\n",
       "      <td>41</td>\n",
       "      <td>NaN</td>\n",
       "    </tr>\n",
       "    <tr>\n",
       "      <th>502</th>\n",
       "      <td>6026</td>\n",
       "      <td>020</td>\n",
       "      <td>WEST CENTRAL AREA LEARNING CENTER</td>\n",
       "      <td>All Students</td>\n",
       "      <td>Graduate</td>\n",
       "      <td>43.48</td>\n",
       "      <td>23</td>\n",
       "      <td>9 West 2nd St S</td>\n",
       "      <td>Melrose</td>\n",
       "      <td>MN</td>\n",
       "      <td>56378</td>\n",
       "      <td>020</td>\n",
       "      <td>41</td>\n",
       "      <td>NaN</td>\n",
       "    </tr>\n",
       "    <tr>\n",
       "      <th>503</th>\n",
       "      <td>6026</td>\n",
       "      <td>020</td>\n",
       "      <td>WEST CENTRAL AREA LEARNING CENTER</td>\n",
       "      <td>All Students</td>\n",
       "      <td>Graduate</td>\n",
       "      <td>43.48</td>\n",
       "      <td>23</td>\n",
       "      <td>9 West 2nd St S</td>\n",
       "      <td>Melrose</td>\n",
       "      <td>MN</td>\n",
       "      <td>56378</td>\n",
       "      <td>020</td>\n",
       "      <td>41</td>\n",
       "      <td>NaN</td>\n",
       "    </tr>\n",
       "    <tr>\n",
       "      <th>504</th>\n",
       "      <td>6049</td>\n",
       "      <td>020</td>\n",
       "      <td>RIVER BEND AREA LEARNING CENTER</td>\n",
       "      <td>All Students</td>\n",
       "      <td>Graduate</td>\n",
       "      <td>44</td>\n",
       "      <td>50</td>\n",
       "      <td>1315 S Broadway</td>\n",
       "      <td>New Ulm</td>\n",
       "      <td>MN</td>\n",
       "      <td>56073-2223</td>\n",
       "      <td>020</td>\n",
       "      <td>41</td>\n",
       "      <td>NaN</td>\n",
       "    </tr>\n",
       "    <tr>\n",
       "      <th>505</th>\n",
       "      <td>6049</td>\n",
       "      <td>020</td>\n",
       "      <td>RIVER BEND AREA LEARNING CENTER</td>\n",
       "      <td>All Students</td>\n",
       "      <td>Graduate</td>\n",
       "      <td>44</td>\n",
       "      <td>50</td>\n",
       "      <td>1315 S Broadway</td>\n",
       "      <td>New Ulm</td>\n",
       "      <td>MN</td>\n",
       "      <td>56073-2223</td>\n",
       "      <td>020</td>\n",
       "      <td>41</td>\n",
       "      <td>NaN</td>\n",
       "    </tr>\n",
       "    <tr>\n",
       "      <th>506</th>\n",
       "      <td>6051</td>\n",
       "      <td>621</td>\n",
       "      <td>TOWER VIEW ALTERNATIVE HIGH SCHOOL</td>\n",
       "      <td>All Students</td>\n",
       "      <td>Graduate</td>\n",
       "      <td>46.15</td>\n",
       "      <td>39</td>\n",
       "      <td>154 Tower View Drive</td>\n",
       "      <td>Red Wing</td>\n",
       "      <td>MN</td>\n",
       "      <td>55066-2093</td>\n",
       "      <td>621</td>\n",
       "      <td>41</td>\n",
       "      <td>NaN</td>\n",
       "    </tr>\n",
       "    <tr>\n",
       "      <th>507</th>\n",
       "      <td>6051</td>\n",
       "      <td>621</td>\n",
       "      <td>TOWER VIEW ALTERNATIVE HIGH SCHOOL</td>\n",
       "      <td>All Students</td>\n",
       "      <td>Graduate</td>\n",
       "      <td>46.15</td>\n",
       "      <td>39</td>\n",
       "      <td>154 Tower View Drive</td>\n",
       "      <td>Red Wing</td>\n",
       "      <td>MN</td>\n",
       "      <td>55066-2093</td>\n",
       "      <td>621</td>\n",
       "      <td>41</td>\n",
       "      <td>NaN</td>\n",
       "    </tr>\n",
       "    <tr>\n",
       "      <th>508</th>\n",
       "      <td>6051</td>\n",
       "      <td>621</td>\n",
       "      <td>TOWER VIEW ALTERNATIVE HIGH SCHOOL</td>\n",
       "      <td>All Students</td>\n",
       "      <td>Graduate</td>\n",
       "      <td>46.15</td>\n",
       "      <td>39</td>\n",
       "      <td>154 Tower View Drive</td>\n",
       "      <td>Red Wing</td>\n",
       "      <td>MN</td>\n",
       "      <td>55066-2093</td>\n",
       "      <td>621</td>\n",
       "      <td>41</td>\n",
       "      <td>NaN</td>\n",
       "    </tr>\n",
       "    <tr>\n",
       "      <th>509</th>\n",
       "      <td>6074</td>\n",
       "      <td>647</td>\n",
       "      <td>CENTRAL MN. ALC - SAUK RAPIDS</td>\n",
       "      <td>All Students</td>\n",
       "      <td>Graduate</td>\n",
       "      <td>44.44</td>\n",
       "      <td>18</td>\n",
       "      <td>1833 Osauka Rd NE</td>\n",
       "      <td>Sauk Rapids</td>\n",
       "      <td>MN</td>\n",
       "      <td>56379-4530</td>\n",
       "      <td>647</td>\n",
       "      <td>41</td>\n",
       "      <td>NaN</td>\n",
       "    </tr>\n",
       "  </tbody>\n",
       "</table>\n",
       "<p>510 rows × 14 columns</p>\n",
       "</div>"
      ],
      "text/plain": [
       "    District Number School Number_x                         School Name  \\\n",
       "0              0001             347                    FAIR SENIOR HIGH   \n",
       "1              0001             352                  EDISON SENIOR HIGH   \n",
       "2              0001             352                  EDISON SENIOR HIGH   \n",
       "3              0001             352                  EDISON SENIOR HIGH   \n",
       "4              0001             352                  EDISON SENIOR HIGH   \n",
       "5              0001             352                  EDISON SENIOR HIGH   \n",
       "6              0001             352                  EDISON SENIOR HIGH   \n",
       "7              0001             352                  EDISON SENIOR HIGH   \n",
       "8              0001             352                  EDISON SENIOR HIGH   \n",
       "9              0001             352                  EDISON SENIOR HIGH   \n",
       "10             0001             352                  EDISON SENIOR HIGH   \n",
       "11             0001             352                  EDISON SENIOR HIGH   \n",
       "12             0001             352                  EDISON SENIOR HIGH   \n",
       "13             0001             352                  EDISON SENIOR HIGH   \n",
       "14             0001             352                  EDISON SENIOR HIGH   \n",
       "15             0001             352                  EDISON SENIOR HIGH   \n",
       "16             0001             352                  EDISON SENIOR HIGH   \n",
       "17             0001             352                  EDISON SENIOR HIGH   \n",
       "18             0001             352                  EDISON SENIOR HIGH   \n",
       "19             0001             352                  EDISON SENIOR HIGH   \n",
       "20             0001             352                  EDISON SENIOR HIGH   \n",
       "21             0001             352                  EDISON SENIOR HIGH   \n",
       "22             0001             353              LONGFELLOW ALTERNATIVE   \n",
       "23             0001             353              LONGFELLOW ALTERNATIVE   \n",
       "24             0001             354                   HENRY SENIOR HIGH   \n",
       "25             0001             354                   HENRY SENIOR HIGH   \n",
       "26             0001             354                   HENRY SENIOR HIGH   \n",
       "27             0001             354                   HENRY SENIOR HIGH   \n",
       "28             0001             354                   HENRY SENIOR HIGH   \n",
       "29             0001             354                   HENRY SENIOR HIGH   \n",
       "..              ...             ...                                 ...   \n",
       "480            4178             010        LINCOLN INTERNATIONAL SCHOOL   \n",
       "481            4178             010        LINCOLN INTERNATIONAL SCHOOL   \n",
       "482            4178             010        LINCOLN INTERNATIONAL SCHOOL   \n",
       "483            4178             010        LINCOLN INTERNATIONAL SCHOOL   \n",
       "484            4204             010              ROCHESTER STEM ACADEMY   \n",
       "485            4204             010              ROCHESTER STEM ACADEMY   \n",
       "486            4237             010                     CAREER PATHWAYS   \n",
       "487            4237             010                     CAREER PATHWAYS   \n",
       "488            4238             010            ROCHESTER BEACON ACADEMY   \n",
       "489            4238             010            ROCHESTER BEACON ACADEMY   \n",
       "490            6004             020            FRESHWATER ED. DIST. ALC   \n",
       "491            6004             020            FRESHWATER ED. DIST. ALC   \n",
       "492            6004             020            FRESHWATER ED. DIST. ALC   \n",
       "493            6012             020         ZUMBRO AREA LEARNING CENTER   \n",
       "494            6012             020         ZUMBRO AREA LEARNING CENTER   \n",
       "495            6012             020         ZUMBRO AREA LEARNING CENTER   \n",
       "496            6014             020  RUNESTONE REGIONAL LEARNING CENTER   \n",
       "497            6014             020  RUNESTONE REGIONAL LEARNING CENTER   \n",
       "498            6014             020  RUNESTONE REGIONAL LEARNING CENTER   \n",
       "499            6014             020  RUNESTONE REGIONAL LEARNING CENTER   \n",
       "500            6014             020  RUNESTONE REGIONAL LEARNING CENTER   \n",
       "501            6014             020  RUNESTONE REGIONAL LEARNING CENTER   \n",
       "502            6026             020   WEST CENTRAL AREA LEARNING CENTER   \n",
       "503            6026             020   WEST CENTRAL AREA LEARNING CENTER   \n",
       "504            6049             020     RIVER BEND AREA LEARNING CENTER   \n",
       "505            6049             020     RIVER BEND AREA LEARNING CENTER   \n",
       "506            6051             621  TOWER VIEW ALTERNATIVE HIGH SCHOOL   \n",
       "507            6051             621  TOWER VIEW ALTERNATIVE HIGH SCHOOL   \n",
       "508            6051             621  TOWER VIEW ALTERNATIVE HIGH SCHOOL   \n",
       "509            6074             647       CENTRAL MN. ALC - SAUK RAPIDS   \n",
       "\n",
       "    Demographic Description Ending Status Four Year Percent Four Year Total  \\\n",
       "0              All Students      Graduate             79.37              63   \n",
       "1              All Students      Graduate             59.81             214   \n",
       "2              All Students      Graduate             59.81             214   \n",
       "3              All Students      Graduate             59.81             214   \n",
       "4              All Students      Graduate             59.81             214   \n",
       "5              All Students      Graduate             59.81             214   \n",
       "6              All Students      Graduate             59.81             214   \n",
       "7              All Students      Graduate             59.81             214   \n",
       "8              All Students      Graduate             59.81             214   \n",
       "9              All Students      Graduate             59.81             214   \n",
       "10             All Students      Graduate             59.81             214   \n",
       "11             All Students      Graduate             59.81             214   \n",
       "12             All Students      Graduate             59.81             214   \n",
       "13             All Students      Graduate             59.81             214   \n",
       "14             All Students      Graduate             59.81             214   \n",
       "15             All Students      Graduate             59.81             214   \n",
       "16             All Students      Graduate             59.81             214   \n",
       "17             All Students      Graduate             59.81             214   \n",
       "18             All Students      Graduate             59.81             214   \n",
       "19             All Students      Graduate             59.81             214   \n",
       "20             All Students      Graduate             59.81             214   \n",
       "21             All Students      Graduate             59.81             214   \n",
       "22             All Students      Graduate              12.9              31   \n",
       "23             All Students      Graduate              12.9              31   \n",
       "24             All Students      Graduate             70.91             220   \n",
       "25             All Students      Graduate             70.91             220   \n",
       "26             All Students      Graduate             70.91             220   \n",
       "27             All Students      Graduate             70.91             220   \n",
       "28             All Students      Graduate             70.91             220   \n",
       "29             All Students      Graduate             70.91             220   \n",
       "..                      ...           ...               ...             ...   \n",
       "480            All Students      Graduate             34.43              61   \n",
       "481            All Students      Graduate             34.43              61   \n",
       "482            All Students      Graduate             34.43              61   \n",
       "483            All Students      Graduate             34.43              61   \n",
       "484            All Students      Graduate                80              30   \n",
       "485            All Students      Graduate                80              30   \n",
       "486            All Students      Graduate             44.62              65   \n",
       "487            All Students      Graduate             44.62              65   \n",
       "488            All Students      Graduate             81.82              11   \n",
       "489            All Students      Graduate             81.82              11   \n",
       "490            All Students      Graduate             57.38              61   \n",
       "491            All Students      Graduate             57.38              61   \n",
       "492            All Students      Graduate             57.38              61   \n",
       "493            All Students      Graduate             56.67              30   \n",
       "494            All Students      Graduate             56.67              30   \n",
       "495            All Students      Graduate             56.67              30   \n",
       "496            All Students      Graduate             38.64              44   \n",
       "497            All Students      Graduate             38.64              44   \n",
       "498            All Students      Graduate             38.64              44   \n",
       "499            All Students      Graduate             38.64              44   \n",
       "500            All Students      Graduate             38.64              44   \n",
       "501            All Students      Graduate             38.64              44   \n",
       "502            All Students      Graduate             43.48              23   \n",
       "503            All Students      Graduate             43.48              23   \n",
       "504            All Students      Graduate                44              50   \n",
       "505            All Students      Graduate                44              50   \n",
       "506            All Students      Graduate             46.15              39   \n",
       "507            All Students      Graduate             46.15              39   \n",
       "508            All Students      Graduate             46.15              39   \n",
       "509            All Students      Graduate             44.44              18   \n",
       "\n",
       "            Physical Line 1 Physical City Physical State Physical Zip  \\\n",
       "0      10 South 10th Street   Minneapolis             MN        55403   \n",
       "1           700 22nd Ave NE   Minneapolis             MN        55418   \n",
       "2           700 22nd Ave NE   Minneapolis             MN        55418   \n",
       "3           700 22nd Ave NE   Minneapolis             MN        55418   \n",
       "4           700 22nd Ave NE   Minneapolis             MN        55418   \n",
       "5           700 22nd Ave NE   Minneapolis             MN        55418   \n",
       "6           700 22nd Ave NE   Minneapolis             MN        55418   \n",
       "7           700 22nd Ave NE   Minneapolis             MN        55418   \n",
       "8           700 22nd Ave NE   Minneapolis             MN        55418   \n",
       "9           700 22nd Ave NE   Minneapolis             MN        55418   \n",
       "10          700 22nd Ave NE   Minneapolis             MN        55418   \n",
       "11          700 22nd Ave NE   Minneapolis             MN        55418   \n",
       "12          700 22nd Ave NE   Minneapolis             MN        55418   \n",
       "13          700 22nd Ave NE   Minneapolis             MN        55418   \n",
       "14          700 22nd Ave NE   Minneapolis             MN        55418   \n",
       "15          700 22nd Ave NE   Minneapolis             MN        55418   \n",
       "16          700 22nd Ave NE   Minneapolis             MN        55418   \n",
       "17          700 22nd Ave NE   Minneapolis             MN        55418   \n",
       "18          700 22nd Ave NE   Minneapolis             MN        55418   \n",
       "19          700 22nd Ave NE   Minneapolis             MN        55418   \n",
       "20          700 22nd Ave NE   Minneapolis             MN        55418   \n",
       "21          700 22nd Ave NE   Minneapolis             MN        55418   \n",
       "22           3017 E 31st St   Minneapolis             MN        55406   \n",
       "23           3017 E 31st St   Minneapolis             MN        55406   \n",
       "24        4320 Newton Ave N   Minneapolis             MN        55412   \n",
       "25        4320 Newton Ave N   Minneapolis             MN        55412   \n",
       "26        4320 Newton Ave N   Minneapolis             MN        55412   \n",
       "27        4320 Newton Ave N   Minneapolis             MN        55412   \n",
       "28        4320 Newton Ave N   Minneapolis             MN        55412   \n",
       "29        4320 Newton Ave N   Minneapolis             MN        55412   \n",
       "..                      ...           ...            ...          ...   \n",
       "480      2520 Minnehaha Ave   Minneapolis             MN        55404   \n",
       "481      2520 Minnehaha Ave   Minneapolis             MN        55404   \n",
       "482      2520 Minnehaha Ave   Minneapolis             MN        55404   \n",
       "483      2520 Minnehaha Ave   Minneapolis             MN        55404   \n",
       "484          415 16th St SW     Rochester             MN   55902-2125   \n",
       "485          415 16th St SW     Rochester             MN   55902-2125   \n",
       "486   1355 Pierce Butler Rt    Saint Paul             MN        55104   \n",
       "487   1355 Pierce Butler Rt    Saint Paul             MN        55104   \n",
       "488  2521 Pennington Dr. NW     Rochester             MN        55901   \n",
       "489  2521 Pennington Dr. NW     Rochester             MN        55901   \n",
       "490  1830 Airport Rd, Ste 2       Staples             MN   56479-3252   \n",
       "491  1830 Airport Rd, Ste 2       Staples             MN   56479-3252   \n",
       "492  1830 Airport Rd, Ste 2       Staples             MN   56479-3252   \n",
       "493          630 1st Ave NW         Byron             MN        55920   \n",
       "494          630 1st Ave NW         Byron             MN        55920   \n",
       "495          630 1st Ave NW         Byron             MN        55920   \n",
       "496     700 Northside Dr NE    Alexandria             MN   56308-5080   \n",
       "497     700 Northside Dr NE    Alexandria             MN   56308-5080   \n",
       "498     700 Northside Dr NE    Alexandria             MN   56308-5080   \n",
       "499     700 Northside Dr NE    Alexandria             MN   56308-5080   \n",
       "500     700 Northside Dr NE    Alexandria             MN   56308-5080   \n",
       "501     700 Northside Dr NE    Alexandria             MN   56308-5080   \n",
       "502         9 West 2nd St S       Melrose             MN        56378   \n",
       "503         9 West 2nd St S       Melrose             MN        56378   \n",
       "504         1315 S Broadway       New Ulm             MN   56073-2223   \n",
       "505         1315 S Broadway       New Ulm             MN   56073-2223   \n",
       "506    154 Tower View Drive      Red Wing             MN   55066-2093   \n",
       "507    154 Tower View Drive      Red Wing             MN   55066-2093   \n",
       "508    154 Tower View Drive      Red Wing             MN   55066-2093   \n",
       "509       1833 Osauka Rd NE   Sauk Rapids             MN   56379-4530   \n",
       "\n",
       "    School Number_y School Classification Consistent Attendance  \n",
       "0               347                    32                   NaN  \n",
       "1               352                    32                   NaN  \n",
       "2               352                    32                   NaN  \n",
       "3               352                    32                   NaN  \n",
       "4               352                    32                   NaN  \n",
       "5               352                    32                   NaN  \n",
       "6               352                    32                   NaN  \n",
       "7               352                    32                   NaN  \n",
       "8               352                    32                   NaN  \n",
       "9               352                    32                   NaN  \n",
       "10              352                    32                   NaN  \n",
       "11              352                    32                   NaN  \n",
       "12              352                    32                   NaN  \n",
       "13              352                    32                   NaN  \n",
       "14              352                    32                   NaN  \n",
       "15              352                    32                   NaN  \n",
       "16              352                    32                   NaN  \n",
       "17              352                    32                   NaN  \n",
       "18              352                    32                   NaN  \n",
       "19              352                    32                   NaN  \n",
       "20              352                    32                   NaN  \n",
       "21              352                    32                   NaN  \n",
       "22              353                    41                   NaN  \n",
       "23              353                    41                   NaN  \n",
       "24              354                    32                   NaN  \n",
       "25              354                    32                   NaN  \n",
       "26              354                    32                   NaN  \n",
       "27              354                    32                   NaN  \n",
       "28              354                    32                   NaN  \n",
       "29              354                    32                   NaN  \n",
       "..              ...                   ...                   ...  \n",
       "480             010                    32                   NaN  \n",
       "481             010                    32                   NaN  \n",
       "482             010                    32                   NaN  \n",
       "483             010                    32                   NaN  \n",
       "484             010                    32                   NaN  \n",
       "485             010                    32                   NaN  \n",
       "486             010                    33                 17.12  \n",
       "487             010                    33                 17.12  \n",
       "488             010                    33                   NaN  \n",
       "489             010                    33                   NaN  \n",
       "490             020                    41                   NaN  \n",
       "491             020                    41                   NaN  \n",
       "492             020                    41                   NaN  \n",
       "493             020                    41                   NaN  \n",
       "494             020                    41                   NaN  \n",
       "495             020                    41                   NaN  \n",
       "496             020                    41                   NaN  \n",
       "497             020                    41                   NaN  \n",
       "498             020                    41                   NaN  \n",
       "499             020                    41                   NaN  \n",
       "500             020                    41                   NaN  \n",
       "501             020                    41                   NaN  \n",
       "502             020                    41                   NaN  \n",
       "503             020                    41                   NaN  \n",
       "504             020                    41                   NaN  \n",
       "505             020                    41                   NaN  \n",
       "506             621                    41                   NaN  \n",
       "507             621                    41                   NaN  \n",
       "508             621                    41                   NaN  \n",
       "509             647                    41                   NaN  \n",
       "\n",
       "[510 rows x 14 columns]"
      ]
     },
     "execution_count": 18,
     "metadata": {},
     "output_type": "execute_result"
    }
   ],
   "source": [
    "#Merge District Numbers and School Numbers??????????????\n",
    "\n",
    "merge_attendance = pd.merge(merge_df, attendance, on='School Name')\n",
    "merge_attendance"
   ]
  },
  {
   "cell_type": "code",
   "execution_count": 66,
   "metadata": {},
   "outputs": [
    {
     "data": {
      "image/png": "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\n",
      "text/plain": [
       "<Figure size 432x288 with 1 Axes>"
      ]
     },
     "metadata": {
      "needs_background": "light"
     },
     "output_type": "display_data"
    }
   ],
   "source": [
    "#Create scatterplot for graduation rate and ACT data\n",
    "plt.scatter(actmerge_df[\"Four Year Percent\"], actmerge_df[\"Avg All\"], alpha=0.5)\n",
    "plt.title('Graduation Rate vs. ACT Data')\n",
    "plt.xlabel('Graduation Rate (%)')\n",
    "plt.ylabel('Average ACT Score')\n",
    "plt.grid(True)\n",
    "plt.show()"
   ]
  },
  {
   "cell_type": "code",
   "execution_count": null,
   "metadata": {},
   "outputs": [],
<<<<<<< HEAD
=======
<<<<<<< HEAD
>>>>>>> master
   "source": [
    "crime_file = \"Resources/2013-2014_MN_Crime_OUTPUT_FILE.csv\"\n",
    "crime_df = pd.read_csv(crime_file)"
   ]
<<<<<<< HEAD
=======
=======
   "source": []
>>>>>>> f32c07fdabd952b1ad2c4fd1e6faec74f276e45a
>>>>>>> master
  },
  {
   "cell_type": "code",
   "execution_count": null,
   "metadata": {},
   "outputs": [],
   "source": [
    "\n"
   ]
<<<<<<< HEAD
=======
<<<<<<< HEAD
=======
>>>>>>> Ashley
>>>>>>> f32c07fdabd952b1ad2c4fd1e6faec74f276e45a
>>>>>>> master
  }
 ],
 "metadata": {
  "kernelspec": {
   "display_name": "Python 3",
   "language": "python",
   "name": "python3"
  },
  "language_info": {
   "codemirror_mode": {
    "name": "ipython",
    "version": 3
   },
   "file_extension": ".py",
   "mimetype": "text/x-python",
   "name": "python",
   "nbconvert_exporter": "python",
   "pygments_lexer": "ipython3",
   "version": "3.7.1"
  }
 },
 "nbformat": 4,
 "nbformat_minor": 2
}
