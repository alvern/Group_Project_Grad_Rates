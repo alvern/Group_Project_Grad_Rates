{
 "cells": [
  {
   "cell_type": "markdown",
   "metadata": {},
   "source": [
    "# Census call for MN Median Income.\n",
    "\n",
    "## After fighting with the census API documentation to find the correct call code for median household income, we use the blockcodes from the FCC Broadband data to call median income by state code, county code, and tract code.\n",
    "\n",
    "## Brian used this code to compare median income to graduation rates\n",
    "\n",
    "(Kate Mikkelson)"
   ]
  },
  {
   "cell_type": "code",
   "execution_count": 6,
   "metadata": {},
   "outputs": [
    {
     "data": {
      "text/html": [
       "<div>\n",
       "<style scoped>\n",
       "    .dataframe tbody tr th:only-of-type {\n",
       "        vertical-align: middle;\n",
       "    }\n",
       "\n",
       "    .dataframe tbody tr th {\n",
       "        vertical-align: top;\n",
       "    }\n",
       "\n",
       "    .dataframe thead th {\n",
       "        text-align: right;\n",
       "    }\n",
       "</style>\n",
       "<table border=\"1\" class=\"dataframe\">\n",
       "  <thead>\n",
       "    <tr style=\"text-align: right;\">\n",
       "      <th></th>\n",
       "      <th>BLOCK</th>\n",
       "      <th>Max Down</th>\n",
       "      <th>Mean Down</th>\n",
       "    </tr>\n",
       "  </thead>\n",
       "  <tbody>\n",
       "    <tr>\n",
       "      <th>0</th>\n",
       "      <td>270017701001000</td>\n",
       "      <td>30.0</td>\n",
       "      <td>14.25</td>\n",
       "    </tr>\n",
       "    <tr>\n",
       "      <th>1</th>\n",
       "      <td>270017701001001</td>\n",
       "      <td>30.0</td>\n",
       "      <td>14.25</td>\n",
       "    </tr>\n",
       "    <tr>\n",
       "      <th>2</th>\n",
       "      <td>270017701001002</td>\n",
       "      <td>30.0</td>\n",
       "      <td>14.25</td>\n",
       "    </tr>\n",
       "    <tr>\n",
       "      <th>3</th>\n",
       "      <td>270017701001003</td>\n",
       "      <td>30.0</td>\n",
       "      <td>14.25</td>\n",
       "    </tr>\n",
       "    <tr>\n",
       "      <th>4</th>\n",
       "      <td>270017701001004</td>\n",
       "      <td>30.0</td>\n",
       "      <td>14.25</td>\n",
       "    </tr>\n",
       "  </tbody>\n",
       "</table>\n",
       "</div>"
      ],
      "text/plain": [
       "             BLOCK  Max Down  Mean Down\n",
       "0  270017701001000      30.0      14.25\n",
       "1  270017701001001      30.0      14.25\n",
       "2  270017701001002      30.0      14.25\n",
       "3  270017701001003      30.0      14.25\n",
       "4  270017701001004      30.0      14.25"
      ]
     },
     "execution_count": 6,
     "metadata": {},
     "output_type": "execute_result"
    }
   ],
   "source": [
    "# Dependencies\n",
    "import numpy as np\n",
    "import pandas as pd\n",
    "import matplotlib.pyplot as plt\n",
    "import requests\n",
    "from census import Census\n",
    "from us import states\n",
    "\n",
    "# Census API Key\n",
    "from config import api_key\n",
    "c = Census(api_key, year=2017)\n",
    "\n",
    "# Import broadband_stats in order to get list of blockgroup\n",
    "broadband_csv = \"Resources/mn_broadband_stats.csv\"\n",
    "broadband_df = pd.read_csv(broadband_csv)"
   ]
  },
  {
   "cell_type": "code",
   "execution_count": 11,
   "metadata": {},
   "outputs": [
    {
     "name": "stdout",
     "output_type": "stream",
     "text": [
      "27\n"
     ]
    }
   ],
   "source": [
    "# Get list of blockcodes\n",
    "blockgroups = broadband_df['BLOCK']\n",
    "\n",
    "# Create empty list/variable for state and county codes\n",
    "counties = []\n",
    "state = \"\"\n",
    "\n",
    "# Extract state and county from blocks\n",
    "for code in blockgroups:\n",
    "    state = str(code)[0:2]\n",
    "    counties.append((str(code))[2:5])\n",
    "    \n",
    "#Save county codes in a sorted list\n",
    "county_codes = sorted((set(counties)))"
   ]
  },
  {
   "cell_type": "code",
   "execution_count": 12,
   "metadata": {},
   "outputs": [
    {
     "data": {
      "text/html": [
       "<div>\n",
       "<style scoped>\n",
       "    .dataframe tbody tr th:only-of-type {\n",
       "        vertical-align: middle;\n",
       "    }\n",
       "\n",
       "    .dataframe tbody tr th {\n",
       "        vertical-align: top;\n",
       "    }\n",
       "\n",
       "    .dataframe thead th {\n",
       "        text-align: right;\n",
       "    }\n",
       "</style>\n",
       "<table border=\"1\" class=\"dataframe\">\n",
       "  <thead>\n",
       "    <tr style=\"text-align: right;\">\n",
       "      <th></th>\n",
       "      <th>Median Income</th>\n",
       "      <th>State</th>\n",
       "      <th>County</th>\n",
       "      <th>Tract</th>\n",
       "    </tr>\n",
       "  </thead>\n",
       "  <tbody>\n",
       "    <tr>\n",
       "      <th>0</th>\n",
       "      <td>56406.0</td>\n",
       "      <td>27</td>\n",
       "      <td>001</td>\n",
       "      <td>790502</td>\n",
       "    </tr>\n",
       "    <tr>\n",
       "      <th>1</th>\n",
       "      <td>45846.0</td>\n",
       "      <td>27</td>\n",
       "      <td>001</td>\n",
       "      <td>770200</td>\n",
       "    </tr>\n",
       "    <tr>\n",
       "      <th>2</th>\n",
       "      <td>42461.0</td>\n",
       "      <td>27</td>\n",
       "      <td>001</td>\n",
       "      <td>770300</td>\n",
       "    </tr>\n",
       "    <tr>\n",
       "      <th>3</th>\n",
       "      <td>47366.0</td>\n",
       "      <td>27</td>\n",
       "      <td>001</td>\n",
       "      <td>770100</td>\n",
       "    </tr>\n",
       "    <tr>\n",
       "      <th>4</th>\n",
       "      <td>41750.0</td>\n",
       "      <td>27</td>\n",
       "      <td>001</td>\n",
       "      <td>770400</td>\n",
       "    </tr>\n",
       "  </tbody>\n",
       "</table>\n",
       "</div>"
      ],
      "text/plain": [
       "   Median Income State County   Tract\n",
       "0        56406.0    27    001  790502\n",
       "1        45846.0    27    001  770200\n",
       "2        42461.0    27    001  770300\n",
       "3        47366.0    27    001  770100\n",
       "4        41750.0    27    001  770400"
      ]
     },
     "execution_count": 12,
     "metadata": {},
     "output_type": "execute_result"
    }
   ],
   "source": [
    "# Run loop on census api\n",
    "median_income = []\n",
    "\n",
    "for county in county_codes:\n",
    "    median_income += c.acs5.state_county_tract('B19013_001E', state, county, Census.ALL)\n",
    "\n",
    "\n",
    "    \n",
    "# Convert to DataFrame\n",
    "median_income = pd.DataFrame(median_income)\n",
    "median_income.head()\n",
    "\n",
    "\n",
    "# Column Renaming\n",
    "median_income = median_income.rename(columns={\"B19013_001E\": \"Median Income\", \"county\":\"County\", \"state\":\"State\", \"tract\":\"Tract\"})\n",
    "\n",
    "\n",
    "# Final DataFrame\n",
    "median_income = median_income[[\"Median Income\", \"State\", \"County\", \"Tract\"]]\n",
    "\n",
    "median_income.head()"
   ]
  },
  {
   "cell_type": "code",
   "execution_count": 9,
   "metadata": {},
   "outputs": [],
   "source": [
    "# Export data to csv\n",
    "median_income.to_csv('Resources/MN_median_income.csv')\n"
   ]
  },
  {
   "cell_type": "code",
   "execution_count": null,
   "metadata": {},
   "outputs": [],
   "source": []
  }
 ],
 "metadata": {
  "kernelspec": {
   "display_name": "Python 3",
   "language": "python",
   "name": "python3"
  },
  "language_info": {
   "codemirror_mode": {
    "name": "ipython",
    "version": 3
   },
   "file_extension": ".py",
   "mimetype": "text/x-python",
   "name": "python",
   "nbconvert_exporter": "python",
   "pygments_lexer": "ipython3",
   "version": "3.7.1"
  }
 },
 "nbformat": 4,
 "nbformat_minor": 2
}
