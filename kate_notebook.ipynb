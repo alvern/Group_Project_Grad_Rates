{
 "cells": [
  {
   "cell_type": "code",
   "execution_count": 27,
   "metadata": {},
   "outputs": [
    {
     "data": {
      "text/plain": [
       "'/Users/Kate/Desktop/Bootcamp/Group_Project_Grad_Rates'"
      ]
     },
     "execution_count": 27,
     "metadata": {},
     "output_type": "execute_result"
    }
   ],
   "source": [
    "import pandas as pd\n",
    "import os\n",
    "import csv\n",
    "\n",
    "os.getcwd()"
   ]
  },
  {
   "cell_type": "code",
   "execution_count": 28,
   "metadata": {},
   "outputs": [],
   "source": [
    "# file = \"Resources/MN-Fixed-Dec2017-v2.csv\""
   ]
  },
  {
   "cell_type": "code",
   "execution_count": 30,
   "metadata": {},
   "outputs": [],
   "source": [
    "# mn_broadband = pd.read_csv(file)\n"
   ]
  },
  {
   "cell_type": "code",
   "execution_count": 18,
   "metadata": {},
   "outputs": [
    {
     "data": {
      "text/html": [
       "<div>\n",
       "<style scoped>\n",
       "    .dataframe tbody tr th:only-of-type {\n",
       "        vertical-align: middle;\n",
       "    }\n",
       "\n",
       "    .dataframe tbody tr th {\n",
       "        vertical-align: top;\n",
       "    }\n",
       "\n",
       "    .dataframe thead th {\n",
       "        text-align: right;\n",
       "    }\n",
       "</style>\n",
       "<table border=\"1\" class=\"dataframe\">\n",
       "  <thead>\n",
       "    <tr style=\"text-align: right;\">\n",
       "      <th></th>\n",
       "      <th>BlockCode</th>\n",
       "      <th>Consumer</th>\n",
       "      <th>MaxAdDown</th>\n",
       "      <th>MaxAdUp</th>\n",
       "      <th>Business</th>\n",
       "      <th>MaxCIRDown</th>\n",
       "      <th>MaxCIRUp</th>\n",
       "    </tr>\n",
       "  </thead>\n",
       "  <tbody>\n",
       "    <tr>\n",
       "      <th>0</th>\n",
       "      <td>271119606002066</td>\n",
       "      <td>1</td>\n",
       "      <td>1000.0</td>\n",
       "      <td>1000.0</td>\n",
       "      <td>1</td>\n",
       "      <td>1000.0</td>\n",
       "      <td>1000.0</td>\n",
       "    </tr>\n",
       "    <tr>\n",
       "      <th>1</th>\n",
       "      <td>271119606002068</td>\n",
       "      <td>1</td>\n",
       "      <td>1000.0</td>\n",
       "      <td>1000.0</td>\n",
       "      <td>1</td>\n",
       "      <td>1000.0</td>\n",
       "      <td>1000.0</td>\n",
       "    </tr>\n",
       "    <tr>\n",
       "      <th>2</th>\n",
       "      <td>271119606002069</td>\n",
       "      <td>1</td>\n",
       "      <td>1000.0</td>\n",
       "      <td>1000.0</td>\n",
       "      <td>1</td>\n",
       "      <td>1000.0</td>\n",
       "      <td>1000.0</td>\n",
       "    </tr>\n",
       "    <tr>\n",
       "      <th>3</th>\n",
       "      <td>271119606002070</td>\n",
       "      <td>1</td>\n",
       "      <td>1000.0</td>\n",
       "      <td>1000.0</td>\n",
       "      <td>1</td>\n",
       "      <td>1000.0</td>\n",
       "      <td>1000.0</td>\n",
       "    </tr>\n",
       "    <tr>\n",
       "      <th>4</th>\n",
       "      <td>271119606002071</td>\n",
       "      <td>1</td>\n",
       "      <td>1000.0</td>\n",
       "      <td>1000.0</td>\n",
       "      <td>1</td>\n",
       "      <td>1000.0</td>\n",
       "      <td>1000.0</td>\n",
       "    </tr>\n",
       "  </tbody>\n",
       "</table>\n",
       "</div>"
      ],
      "text/plain": [
       "         BlockCode  Consumer  MaxAdDown  MaxAdUp  Business  MaxCIRDown  \\\n",
       "0  271119606002066         1     1000.0   1000.0         1      1000.0   \n",
       "1  271119606002068         1     1000.0   1000.0         1      1000.0   \n",
       "2  271119606002069         1     1000.0   1000.0         1      1000.0   \n",
       "3  271119606002070         1     1000.0   1000.0         1      1000.0   \n",
       "4  271119606002071         1     1000.0   1000.0         1      1000.0   \n",
       "\n",
       "   MaxCIRUp  \n",
       "0    1000.0  \n",
       "1    1000.0  \n",
       "2    1000.0  \n",
       "3    1000.0  \n",
       "4    1000.0  "
      ]
     },
     "execution_count": 18,
     "metadata": {},
     "output_type": "execute_result"
    }
   ],
   "source": [
    "# Clean up dataframe, remove unnecessary columns\n",
    "\n",
    "# mn_broadband = mn_broadband.drop([\"LogRecNo\", \"Provider_Id\", \"FRN\", \"HoldingCompanyName\", \n",
    "#                                  \"HocoFinal\", \"HocoNum\"], axis=1)\n",
    "\n",
    "mn_broadband.head()\n"
   ]
  },
  {
   "cell_type": "code",
   "execution_count": 26,
   "metadata": {},
   "outputs": [],
   "source": [
    "# Combine by census block, using max speed for each census block\n",
    "\n",
    "# print(mn_broadband['ProviderName'].value_counts())\n",
    "# print(mn_broadband['BlockCode'].value_counts())\n",
    "\n",
    "bycode = mn_broadband.groupby('BlockCode')\n",
    "bycode.head()\n",
    "\n",
    "sorted_df = mn_broadband.sort_values(\"BlockCode\")\n",
    "sorted_df.head()\n",
    "\n",
    "\n",
    "bc_max_down = bycode[\"MaxAdDown\"].max()\n",
    "bc_mean_down = bycode[\"MaxAdDown\"].mean()\n",
    "\n",
    "bc_max_up = bycode[\"MaxAdUp\"].max()\n",
    "bc_mean_up = bycode[\"MaxAdUp\"].mean()\n",
    "\n",
    "broadband_stats = pd.DataFrame({\"Max Down\":bc_max_down, \"Mean Down\":bc_mean_down, \"Max Up\":bc_max_up, \"Mean Up\":bc_mean_up})\n",
    "broadband_stats.head()\n",
    "\n",
    "broadband_stats.to_csv('broadband_stats.csv')\n",
    "\n",
    "# maxdown = 0\n",
    "# maxup = 0\n",
    "# for blockcode, records in bycode:\n",
    "#     bmaxdown = records['MaxAdDown'].max()\n",
    "#     if bmaxdown <= maxdown:\n",
    "#         continue\n",
    "#     maxdown = bmaxdown\n",
    "#     bmaxup = records['MaxAdUp'].max()\n",
    "#     if bmaxup <= maxup:\n",
    "#         continue\n",
    "#     maxup = bmaxup\n",
    "#     print(\"Block {}: {}\".format(blockcode, records['MaxAdDown'].max()))\n",
    "#     print(\"Block {}: {}\".format(blockcode, records['MaxAdUp'].max()))\n",
    "\n",
    "# meandown = 0\n",
    "# meanup = 0\n",
    "\n",
    "# print(maxup)\n",
    "\n",
    "\n"
   ]
  },
  {
   "cell_type": "code",
   "execution_count": 14,
   "metadata": {},
   "outputs": [],
   "source": [
    "# Export new csv\n",
    "broadband_stats.to_csv('broadband_stats.csv')\n"
   ]
  },
  {
   "cell_type": "code",
   "execution_count": null,
   "metadata": {},
   "outputs": [],
   "source": []
  }
 ],
 "metadata": {
  "kernelspec": {
   "display_name": "Python 3",
   "language": "python",
   "name": "python3"
  },
  "language_info": {
   "codemirror_mode": {
    "name": "ipython",
    "version": 3
   },
   "file_extension": ".py",
   "mimetype": "text/x-python",
   "name": "python",
   "nbconvert_exporter": "python",
   "pygments_lexer": "ipython3",
   "version": "3.7.1"
  }
 },
 "nbformat": 4,
 "nbformat_minor": 2
}
