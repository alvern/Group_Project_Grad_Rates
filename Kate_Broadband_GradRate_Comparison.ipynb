{
 "cells": [
  {
   "cell_type": "markdown",
   "metadata": {},
   "source": [
    "# Broadband/Grad Rate Data Analysis\n",
    "\n",
    "## The FCC defines broadband service as 25Mbps down, any lower is considered an unserved area. Is there a correlation between access to broadband and graduation rates? I ran the numbers in a variety of ways to find out.\n",
    "\n",
    "(Kate Mikkelson)"
   ]
  },
  {
   "cell_type": "code",
   "execution_count": 2,
   "metadata": {},
   "outputs": [],
   "source": [
    "# Dependencies and Setup\n",
    "import matplotlib.pyplot as plt\n",
    "import pandas as pd\n",
    "import numpy as np"
   ]
  },
  {
   "cell_type": "code",
   "execution_count": 3,
   "metadata": {},
   "outputs": [],
   "source": [
    "# Import broadband stats and grad rate data\n",
    "broadband = pd.read_csv(\"Resources/mn_broadband_stats.csv\")\n",
    "grad_data = pd.read_csv(\"Resources/district_grouped_mean.csv\")"
   ]
  },
  {
   "cell_type": "code",
   "execution_count": 4,
   "metadata": {},
   "outputs": [
    {
     "ename": "KeyError",
     "evalue": "'BLOCK'",
     "output_type": "error",
     "traceback": [
      "\u001b[0;31m---------------------------------------------------------------------------\u001b[0m",
      "\u001b[0;31mKeyError\u001b[0m                                  Traceback (most recent call last)",
      "\u001b[0;32m<ipython-input-4-b28faf1b7d25>\u001b[0m in \u001b[0;36m<module>\u001b[0;34m\u001b[0m\n\u001b[1;32m      1\u001b[0m \u001b[0;31m# Merge on census block\u001b[0m\u001b[0;34m\u001b[0m\u001b[0;34m\u001b[0m\u001b[0;34m\u001b[0m\u001b[0m\n\u001b[0;32m----> 2\u001b[0;31m \u001b[0mmerged_data\u001b[0m \u001b[0;34m=\u001b[0m \u001b[0mpd\u001b[0m\u001b[0;34m.\u001b[0m\u001b[0mmerge\u001b[0m\u001b[0;34m(\u001b[0m\u001b[0mbroadband\u001b[0m\u001b[0;34m,\u001b[0m \u001b[0mgrad_data\u001b[0m\u001b[0;34m,\u001b[0m \u001b[0mon\u001b[0m\u001b[0;34m=\u001b[0m\u001b[0;34m\"BLOCK\"\u001b[0m\u001b[0;34m)\u001b[0m\u001b[0;34m\u001b[0m\u001b[0;34m\u001b[0m\u001b[0m\n\u001b[0m\u001b[1;32m      3\u001b[0m \u001b[0;34m\u001b[0m\u001b[0m\n\u001b[1;32m      4\u001b[0m \u001b[0;31m# Save to CSV\u001b[0m\u001b[0;34m\u001b[0m\u001b[0;34m\u001b[0m\u001b[0;34m\u001b[0m\u001b[0m\n\u001b[1;32m      5\u001b[0m \u001b[0mmerged_data\u001b[0m\u001b[0;34m.\u001b[0m\u001b[0mto_csv\u001b[0m\u001b[0;34m(\u001b[0m\u001b[0;34m'Resources/broadband_and_gradrates.csv'\u001b[0m\u001b[0;34m)\u001b[0m\u001b[0;34m\u001b[0m\u001b[0;34m\u001b[0m\u001b[0m\n",
      "\u001b[0;32m~/anaconda3/lib/python3.7/site-packages/pandas/core/reshape/merge.py\u001b[0m in \u001b[0;36mmerge\u001b[0;34m(left, right, how, on, left_on, right_on, left_index, right_index, sort, suffixes, copy, indicator, validate)\u001b[0m\n\u001b[1;32m     59\u001b[0m                          \u001b[0mright_index\u001b[0m\u001b[0;34m=\u001b[0m\u001b[0mright_index\u001b[0m\u001b[0;34m,\u001b[0m \u001b[0msort\u001b[0m\u001b[0;34m=\u001b[0m\u001b[0msort\u001b[0m\u001b[0;34m,\u001b[0m \u001b[0msuffixes\u001b[0m\u001b[0;34m=\u001b[0m\u001b[0msuffixes\u001b[0m\u001b[0;34m,\u001b[0m\u001b[0;34m\u001b[0m\u001b[0;34m\u001b[0m\u001b[0m\n\u001b[1;32m     60\u001b[0m                          \u001b[0mcopy\u001b[0m\u001b[0;34m=\u001b[0m\u001b[0mcopy\u001b[0m\u001b[0;34m,\u001b[0m \u001b[0mindicator\u001b[0m\u001b[0;34m=\u001b[0m\u001b[0mindicator\u001b[0m\u001b[0;34m,\u001b[0m\u001b[0;34m\u001b[0m\u001b[0;34m\u001b[0m\u001b[0m\n\u001b[0;32m---> 61\u001b[0;31m                          validate=validate)\n\u001b[0m\u001b[1;32m     62\u001b[0m     \u001b[0;32mreturn\u001b[0m \u001b[0mop\u001b[0m\u001b[0;34m.\u001b[0m\u001b[0mget_result\u001b[0m\u001b[0;34m(\u001b[0m\u001b[0;34m)\u001b[0m\u001b[0;34m\u001b[0m\u001b[0;34m\u001b[0m\u001b[0m\n\u001b[1;32m     63\u001b[0m \u001b[0;34m\u001b[0m\u001b[0m\n",
      "\u001b[0;32m~/anaconda3/lib/python3.7/site-packages/pandas/core/reshape/merge.py\u001b[0m in \u001b[0;36m__init__\u001b[0;34m(self, left, right, how, on, left_on, right_on, axis, left_index, right_index, sort, suffixes, copy, indicator, validate)\u001b[0m\n\u001b[1;32m    549\u001b[0m         (self.left_join_keys,\n\u001b[1;32m    550\u001b[0m          \u001b[0mself\u001b[0m\u001b[0;34m.\u001b[0m\u001b[0mright_join_keys\u001b[0m\u001b[0;34m,\u001b[0m\u001b[0;34m\u001b[0m\u001b[0;34m\u001b[0m\u001b[0m\n\u001b[0;32m--> 551\u001b[0;31m          self.join_names) = self._get_merge_keys()\n\u001b[0m\u001b[1;32m    552\u001b[0m \u001b[0;34m\u001b[0m\u001b[0m\n\u001b[1;32m    553\u001b[0m         \u001b[0;31m# validate the merge keys dtypes. We may need to coerce\u001b[0m\u001b[0;34m\u001b[0m\u001b[0;34m\u001b[0m\u001b[0;34m\u001b[0m\u001b[0m\n",
      "\u001b[0;32m~/anaconda3/lib/python3.7/site-packages/pandas/core/reshape/merge.py\u001b[0m in \u001b[0;36m_get_merge_keys\u001b[0;34m(self)\u001b[0m\n\u001b[1;32m    869\u001b[0m                     \u001b[0;32mif\u001b[0m \u001b[0mlk\u001b[0m \u001b[0;32mis\u001b[0m \u001b[0;32mnot\u001b[0m \u001b[0;32mNone\u001b[0m\u001b[0;34m:\u001b[0m\u001b[0;34m\u001b[0m\u001b[0;34m\u001b[0m\u001b[0m\n\u001b[1;32m    870\u001b[0m                         left_keys.append(left._get_label_or_level_values(\n\u001b[0;32m--> 871\u001b[0;31m                             lk, stacklevel=stacklevel))\n\u001b[0m\u001b[1;32m    872\u001b[0m                         \u001b[0mjoin_names\u001b[0m\u001b[0;34m.\u001b[0m\u001b[0mappend\u001b[0m\u001b[0;34m(\u001b[0m\u001b[0mlk\u001b[0m\u001b[0;34m)\u001b[0m\u001b[0;34m\u001b[0m\u001b[0;34m\u001b[0m\u001b[0m\n\u001b[1;32m    873\u001b[0m                     \u001b[0;32melse\u001b[0m\u001b[0;34m:\u001b[0m\u001b[0;34m\u001b[0m\u001b[0;34m\u001b[0m\u001b[0m\n",
      "\u001b[0;32m~/anaconda3/lib/python3.7/site-packages/pandas/core/generic.py\u001b[0m in \u001b[0;36m_get_label_or_level_values\u001b[0;34m(self, key, axis, stacklevel)\u001b[0m\n\u001b[1;32m   1380\u001b[0m             \u001b[0mvalues\u001b[0m \u001b[0;34m=\u001b[0m \u001b[0mself\u001b[0m\u001b[0;34m.\u001b[0m\u001b[0maxes\u001b[0m\u001b[0;34m[\u001b[0m\u001b[0maxis\u001b[0m\u001b[0;34m]\u001b[0m\u001b[0;34m.\u001b[0m\u001b[0mget_level_values\u001b[0m\u001b[0;34m(\u001b[0m\u001b[0mkey\u001b[0m\u001b[0;34m)\u001b[0m\u001b[0;34m.\u001b[0m\u001b[0m_values\u001b[0m\u001b[0;34m\u001b[0m\u001b[0;34m\u001b[0m\u001b[0m\n\u001b[1;32m   1381\u001b[0m         \u001b[0;32melse\u001b[0m\u001b[0;34m:\u001b[0m\u001b[0;34m\u001b[0m\u001b[0;34m\u001b[0m\u001b[0m\n\u001b[0;32m-> 1382\u001b[0;31m             \u001b[0;32mraise\u001b[0m \u001b[0mKeyError\u001b[0m\u001b[0;34m(\u001b[0m\u001b[0mkey\u001b[0m\u001b[0;34m)\u001b[0m\u001b[0;34m\u001b[0m\u001b[0;34m\u001b[0m\u001b[0m\n\u001b[0m\u001b[1;32m   1383\u001b[0m \u001b[0;34m\u001b[0m\u001b[0m\n\u001b[1;32m   1384\u001b[0m         \u001b[0;31m# Check for duplicates\u001b[0m\u001b[0;34m\u001b[0m\u001b[0;34m\u001b[0m\u001b[0;34m\u001b[0m\u001b[0m\n",
      "\u001b[0;31mKeyError\u001b[0m: 'BLOCK'"
     ]
    }
   ],
   "source": [
    "# Merge on census block\n",
    "merged_data = pd.merge(broadband, grad_data, on=\"BLOCK\")\n",
    "\n",
    "# Save to CSV\n",
    "merged_data.to_csv('Resources/broadband_and_gradrates.csv')\n",
    "merged_data.head()"
   ]
  },
  {
   "cell_type": "code",
   "execution_count": null,
   "metadata": {},
   "outputs": [],
   "source": [
    "# Check Correlations\n",
    "\n",
    "max_broadband = merged_data['Max Down']\n",
    "mean_broadband = merged_data['Mean Down']\n",
    "fcc_high = merged_data['Max Down'] >= 25\n",
    "fcc_low = merged_data['Max Down'] < 25\n",
    "grad_rate = merged_data['Four Year Percent']\n",
    "print(\"------------\")\n",
    "print('Coefficient of Max Speed vs. Grad Rate')\n",
    "print(np.corrcoef(max_broadband, grad_rate))\n",
    "print('Coefficient of Mean Speed vs. Grad Rate')\n",
    "print(np.corrcoef(mean_broadband, grad_rate))\n",
    "print('Coefficient of FCC Highspeed Census Blocks vs. Grad Rate')\n",
    "print(np.corrcoef(fcc_high, grad_rate))\n",
    "print('Coefficient of FCC Lowspeed Census Blocks vs. Grad Rate')\n",
    "print(np.corrcoef(fcc_low, grad_rate))\n",
    "print(\"------------\")\n",
    "\n",
    "\n",
    "# Check grad rates of schools in FCC High and Low speed Census Blocks\n",
    "fcc_low_blocks = merged_data.loc[merged_data['Max Down'] < 25, :]\n",
    "fcc_high_blocks = merged_data.loc[merged_data['Max Down'] >= 25, :]\n",
    "\n",
    "low_mean_grad_rate = fcc_low_blocks['Four Year Percent'].mean()\n",
    "high_mean_grad_rate = fcc_high_blocks['Four Year Percent'].mean()\n",
    "overall_mean = merged_data['Four Year Percent'].mean()\n",
    "print(\"Mean grad rate in low speed blocks: \" + str(low_mean_grad_rate))\n",
    "print(\"Mean grad rate in high speed blocks: \" + str(high_mean_grad_rate))\n",
    "print(\"Mean grad rate in all blocks: \" + str(overall_mean))\n",
    "print(\"------------\")\n",
    "\n",
    "\n",
    "#Get the coefficient of determination from your data (Ashley helped with this code to make stats uniform)\n",
    "\n",
    "from sklearn.linear_model import LinearRegression\n",
    "broadband_co = np.array(merged_data[\"Max Down\"]).reshape((-1, 1))\n",
    "gradvariable = np.array(merged_data[\"Four Year Percent\"]) \n",
    "yourmodel = LinearRegression().fit(broadband_co, gradvariable)\n",
    "your_r_sq = yourmodel.score(broadband_co, gradvariable)\n",
    "print('Coefficient of Determination (Max Down Speed & Grad Rate:', your_r_sq)"
   ]
  },
  {
   "cell_type": "code",
   "execution_count": 5,
   "metadata": {},
   "outputs": [
    {
     "ename": "NameError",
     "evalue": "name 'merged_data' is not defined",
     "output_type": "error",
     "traceback": [
      "\u001b[0;31m---------------------------------------------------------------------------\u001b[0m",
      "\u001b[0;31mNameError\u001b[0m                                 Traceback (most recent call last)",
      "\u001b[0;32m<ipython-input-5-d9a09cf3f2e5>\u001b[0m in \u001b[0;36m<module>\u001b[0;34m\u001b[0m\n\u001b[1;32m      2\u001b[0m \u001b[0;34m\u001b[0m\u001b[0m\n\u001b[1;32m      3\u001b[0m \u001b[0;31m# Grab just blocks where the max down is below the FCC threshold\u001b[0m\u001b[0;34m\u001b[0m\u001b[0;34m\u001b[0m\u001b[0;34m\u001b[0m\u001b[0m\n\u001b[0;32m----> 4\u001b[0;31m \u001b[0mfcc_low_blocks\u001b[0m \u001b[0;34m=\u001b[0m \u001b[0mmerged_data\u001b[0m\u001b[0;34m.\u001b[0m\u001b[0mloc\u001b[0m\u001b[0;34m[\u001b[0m\u001b[0mmerged_data\u001b[0m\u001b[0;34m[\u001b[0m\u001b[0;34m'Max Down'\u001b[0m\u001b[0;34m]\u001b[0m \u001b[0;34m<\u001b[0m \u001b[0;36m25\u001b[0m\u001b[0;34m,\u001b[0m \u001b[0;34m:\u001b[0m\u001b[0;34m]\u001b[0m\u001b[0;34m\u001b[0m\u001b[0;34m\u001b[0m\u001b[0m\n\u001b[0m\u001b[1;32m      5\u001b[0m \u001b[0mfcc_low_blocks\u001b[0m\u001b[0;34m.\u001b[0m\u001b[0mhead\u001b[0m\u001b[0;34m(\u001b[0m\u001b[0;34m)\u001b[0m\u001b[0;34m\u001b[0m\u001b[0;34m\u001b[0m\u001b[0m\n\u001b[1;32m      6\u001b[0m \u001b[0;34m\u001b[0m\u001b[0m\n",
      "\u001b[0;31mNameError\u001b[0m: name 'merged_data' is not defined"
     ]
    }
   ],
   "source": [
    "# Graduation Rates in areas with broadband speeds below the FCC Threshold for Highspeed\n",
    "\n",
    "# Grab just blocks where the max down is below the FCC threshold\n",
    "fcc_low_blocks = merged_data.loc[merged_data['Max Down'] < 25, :]\n",
    "fcc_low_blocks.head()\n",
    "\n",
    "# Grab necessary data as variables for ease of use\n",
    "fcc_low_speeds = fcc_low_blocks['Max Down']\n",
    "fcc_low_grad = fcc_low_blocks['Four Year Percent']\n",
    "\n",
    "# Check correlation coefficient\n",
    "print('Low')\n",
    "print(np.corrcoef(fcc_low_speeds, fcc_low_grad))\n",
    "\n",
    "# Set axes\n",
    "x_axis = fcc_low_speeds\n",
    "y_axis = fcc_low_grad\n",
    "\n",
    "# Set up scatter plot\n",
    "plt.scatter(x_axis, y_axis, marker=\"o\", facecolors=\"cornflowerblue\", edgecolors=\"black\")\n",
    "         \n",
    "# Set limits\n",
    "plt.xlim((min(fcc_low_speeds)-1), (max(fcc_low_speeds)+1))\n",
    "plt.ylim((min(grad_rate)-5), (max(grad_rate)+5))\n",
    "         \n",
    "# Set titles, labels, formatting\n",
    "plt.title(\"Graduation Rates in areas with broadband speeds below the FCC Threshold for Highspeed\")\n",
    "plt.grid(alpha=.5)\n",
    "plt.xlabel('Max Download Speed')\n",
    "plt.ylabel('Four Year Percent')\n",
    "\n",
    "# Show plot and save as .png\n",
    "plt.savefig(\"Images/fcc_low_gradrates.png\")\n",
    "plt.show()\n"
   ]
  },
  {
   "cell_type": "code",
   "execution_count": 6,
   "metadata": {},
   "outputs": [
    {
     "ename": "NameError",
     "evalue": "name 'merged_data' is not defined",
     "output_type": "error",
     "traceback": [
      "\u001b[0;31m---------------------------------------------------------------------------\u001b[0m",
      "\u001b[0;31mNameError\u001b[0m                                 Traceback (most recent call last)",
      "\u001b[0;32m<ipython-input-6-0fa9d6e14893>\u001b[0m in \u001b[0;36m<module>\u001b[0;34m\u001b[0m\n\u001b[1;32m      2\u001b[0m \u001b[0;34m\u001b[0m\u001b[0m\n\u001b[1;32m      3\u001b[0m \u001b[0;31m# Grab just blocks where the max down is below the FCC threshold\u001b[0m\u001b[0;34m\u001b[0m\u001b[0;34m\u001b[0m\u001b[0;34m\u001b[0m\u001b[0m\n\u001b[0;32m----> 4\u001b[0;31m \u001b[0mfcc_high_blocks\u001b[0m \u001b[0;34m=\u001b[0m \u001b[0mmerged_data\u001b[0m\u001b[0;34m.\u001b[0m\u001b[0mloc\u001b[0m\u001b[0;34m[\u001b[0m\u001b[0mmerged_data\u001b[0m\u001b[0;34m[\u001b[0m\u001b[0;34m'Max Down'\u001b[0m\u001b[0;34m]\u001b[0m \u001b[0;34m>=\u001b[0m \u001b[0;36m25\u001b[0m\u001b[0;34m,\u001b[0m \u001b[0;34m:\u001b[0m\u001b[0;34m]\u001b[0m\u001b[0;34m\u001b[0m\u001b[0;34m\u001b[0m\u001b[0m\n\u001b[0m\u001b[1;32m      5\u001b[0m \u001b[0mfcc_high_blocks\u001b[0m\u001b[0;34m.\u001b[0m\u001b[0mhead\u001b[0m\u001b[0;34m(\u001b[0m\u001b[0;34m)\u001b[0m\u001b[0;34m\u001b[0m\u001b[0;34m\u001b[0m\u001b[0m\n\u001b[1;32m      6\u001b[0m \u001b[0;34m\u001b[0m\u001b[0m\n",
      "\u001b[0;31mNameError\u001b[0m: name 'merged_data' is not defined"
     ]
    }
   ],
   "source": [
    "# Graduation Rates in areas with broadband speeds below the FCC Threshold for Highspeed\n",
    "\n",
    "# Grab just blocks where the max down is below the FCC threshold\n",
    "fcc_high_blocks = merged_data.loc[merged_data['Max Down'] >= 25, :]\n",
    "fcc_high_blocks.head()\n",
    "\n",
    "# Grab necessary data as variables for ease of use\n",
    "fcc_high_speeds = fcc_high_blocks['Max Down']\n",
    "fcc_high_grad = fcc_high_blocks['Four Year Percent']\n",
    "\n",
    "# Check correlation coefficient\n",
    "print('Low')\n",
    "print(np.corrcoef(fcc_high_speeds, fcc_high_grad))\n",
    "\n",
    "# Set axes\n",
    "x_axis = fcc_high_speeds\n",
    "y_axis = fcc_high_grad\n",
    "\n",
    "# Set up scatter plot\n",
    "plt.scatter(x_axis, y_axis, marker=\"o\", facecolors=\"cornflowerblue\", edgecolors=\"black\")\n",
    "         \n",
    "# Set limits\n",
    "plt.xlim((min(fcc_high_speeds)-1), (max(fcc_high_speeds)+1))\n",
    "plt.ylim((min(grad_rate)-5), (max(grad_rate)+5))\n",
    "         \n",
    "# Set titles, labels, formatting\n",
    "plt.title(\"Graduation Rates in areas with broadband speeds above the FCC Threshold for Highspeed\")\n",
    "plt.grid(alpha=.5)\n",
    "plt.xlabel('Max Download Speed')\n",
    "plt.ylabel('Four Year Percent')\n",
    "\n",
    "# Show plot and save as .png\n",
    "plt.savefig(\"Images/fcc_high_gradrates.png\")\n",
    "plt.show()\n"
   ]
  },
  {
   "cell_type": "code",
   "execution_count": 7,
   "metadata": {},
   "outputs": [
    {
     "ename": "NameError",
     "evalue": "name 'fcc_high_speeds' is not defined",
     "output_type": "error",
     "traceback": [
      "\u001b[0;31m---------------------------------------------------------------------------\u001b[0m",
      "\u001b[0;31mNameError\u001b[0m                                 Traceback (most recent call last)",
      "\u001b[0;32m<ipython-input-7-d800b800445a>\u001b[0m in \u001b[0;36m<module>\u001b[0;34m\u001b[0m\n\u001b[0;32m----> 1\u001b[0;31m \u001b[0mplt\u001b[0m\u001b[0;34m.\u001b[0m\u001b[0mscatter\u001b[0m\u001b[0;34m(\u001b[0m\u001b[0mfcc_high_speeds\u001b[0m\u001b[0;34m,\u001b[0m \u001b[0mfcc_high_grad\u001b[0m\u001b[0;34m,\u001b[0m \u001b[0mcolor\u001b[0m\u001b[0;34m=\u001b[0m\u001b[0;34m'green'\u001b[0m\u001b[0;34m,\u001b[0m \u001b[0medgecolors\u001b[0m\u001b[0;34m=\u001b[0m\u001b[0;34m\"black\"\u001b[0m\u001b[0;34m,\u001b[0m \u001b[0mlabel\u001b[0m\u001b[0;34m=\u001b[0m\u001b[0;34m\">= 25MBps\"\u001b[0m\u001b[0;34m)\u001b[0m\u001b[0;34m\u001b[0m\u001b[0;34m\u001b[0m\u001b[0m\n\u001b[0m\u001b[1;32m      2\u001b[0m \u001b[0mplt\u001b[0m\u001b[0;34m.\u001b[0m\u001b[0mscatter\u001b[0m\u001b[0;34m(\u001b[0m\u001b[0mfcc_low_speeds\u001b[0m\u001b[0;34m,\u001b[0m \u001b[0mfcc_low_grad\u001b[0m\u001b[0;34m,\u001b[0m \u001b[0mcolor\u001b[0m\u001b[0;34m=\u001b[0m\u001b[0;34m'red'\u001b[0m\u001b[0;34m,\u001b[0m \u001b[0medgecolors\u001b[0m\u001b[0;34m=\u001b[0m\u001b[0;34m\"black\"\u001b[0m\u001b[0;34m,\u001b[0m \u001b[0mlabel\u001b[0m\u001b[0;34m=\u001b[0m\u001b[0;34m\"<25MBps\"\u001b[0m\u001b[0;34m)\u001b[0m\u001b[0;34m\u001b[0m\u001b[0;34m\u001b[0m\u001b[0m\n\u001b[1;32m      3\u001b[0m \u001b[0;34m\u001b[0m\u001b[0m\n\u001b[1;32m      4\u001b[0m \u001b[0mplt\u001b[0m\u001b[0;34m.\u001b[0m\u001b[0mtitle\u001b[0m\u001b[0;34m(\u001b[0m\u001b[0;34m\"Graduation Rate Based on Max Download Speed\\nAbove and Below FCC Broadband Threshold\"\u001b[0m\u001b[0;34m)\u001b[0m\u001b[0;34m\u001b[0m\u001b[0;34m\u001b[0m\u001b[0m\n\u001b[1;32m      5\u001b[0m \u001b[0mplt\u001b[0m\u001b[0;34m.\u001b[0m\u001b[0mxlabel\u001b[0m\u001b[0;34m(\u001b[0m\u001b[0;34m\"Max Download Speed of Census Block (MBps)\"\u001b[0m\u001b[0;34m)\u001b[0m\u001b[0;34m\u001b[0m\u001b[0;34m\u001b[0m\u001b[0m\n",
      "\u001b[0;31mNameError\u001b[0m: name 'fcc_high_speeds' is not defined"
     ]
    }
   ],
   "source": [
    "plt.scatter(fcc_high_speeds, fcc_high_grad, color='green', edgecolors=\"black\", label=\">= 25MBps\")\n",
    "plt.scatter(fcc_low_speeds, fcc_low_grad, color='red', edgecolors=\"black\", label=\"<25MBps\")\n",
    "\n",
    "plt.title(\"Graduation Rate Based on Max Download Speed\\nAbove and Below FCC Broadband Threshold\")\n",
    "plt.xlabel(\"Max Download Speed of Census Block (MBps)\")\n",
    "plt.ylabel(\"Four Year Graduation Percentage\")\n",
    "plt.legend(loc=\"lower center\")\n",
    "plt.grid(alpha=.5)\n",
    "\n",
    "#Federal Accountability Threshold for Graduation\n",
    "plt.plot([0,1000], [67,67], color='r', linestyle='--', linewidth=1) \n",
    "#plt.annotate('Federal Accountability Threshold', xy=(420, 160), xycoords='figure points')\n",
    "plt.savefig(\"Images/gradrates_by_highlow.png\")\n",
    "plt.show()\n"
   ]
  },
  {
   "cell_type": "code",
   "execution_count": 8,
   "metadata": {},
   "outputs": [
    {
     "ename": "NameError",
     "evalue": "name 'merged_data' is not defined",
     "output_type": "error",
     "traceback": [
      "\u001b[0;31m---------------------------------------------------------------------------\u001b[0m",
      "\u001b[0;31mNameError\u001b[0m                                 Traceback (most recent call last)",
      "\u001b[0;32m<ipython-input-8-9731a3485b81>\u001b[0m in \u001b[0;36m<module>\u001b[0;34m\u001b[0m\n\u001b[1;32m      2\u001b[0m \u001b[0;34m\u001b[0m\u001b[0m\n\u001b[1;32m      3\u001b[0m \u001b[0;31m# Grab necessary data as variables for ease of use\u001b[0m\u001b[0;34m\u001b[0m\u001b[0;34m\u001b[0m\u001b[0;34m\u001b[0m\u001b[0m\n\u001b[0;32m----> 4\u001b[0;31m \u001b[0mmax_broadband\u001b[0m \u001b[0;34m=\u001b[0m \u001b[0mmerged_data\u001b[0m\u001b[0;34m[\u001b[0m\u001b[0;34m'Max Down'\u001b[0m\u001b[0;34m]\u001b[0m\u001b[0;34m\u001b[0m\u001b[0;34m\u001b[0m\u001b[0m\n\u001b[0m\u001b[1;32m      5\u001b[0m \u001b[0mgrad_rate\u001b[0m \u001b[0;34m=\u001b[0m \u001b[0mmerged_data\u001b[0m\u001b[0;34m[\u001b[0m\u001b[0;34m'Four Year Percent'\u001b[0m\u001b[0;34m]\u001b[0m\u001b[0;34m\u001b[0m\u001b[0;34m\u001b[0m\u001b[0m\n\u001b[1;32m      6\u001b[0m \u001b[0;34m\u001b[0m\u001b[0m\n",
      "\u001b[0;31mNameError\u001b[0m: name 'merged_data' is not defined"
     ]
    }
   ],
   "source": [
    "# Scatter plot comparing max internet speeds to graduation rates\n",
    "\n",
    "# Grab necessary data as variables for ease of use\n",
    "max_broadband = merged_data['Max Down']\n",
    "grad_rate = merged_data['Four Year Percent']\n",
    "\n",
    "# Set axes\n",
    "x_axis = max_broadband\n",
    "y_axis = grad_rate\n",
    "\n",
    "# Set up scatter plot\n",
    "plt.scatter(x_axis, y_axis, marker=\"o\", facecolors=\"cornflowerblue\", edgecolors=\"black\")\n",
    "         \n",
    "# Set limits\n",
    "plt.xlim((min(max_broadband)-5), (max(max_broadband)+5))\n",
    "plt.ylim((min(grad_rate)-5), (max(grad_rate)+5))\n",
    "         \n",
    "# Set titles, labels, formatting\n",
    "plt.title(\"Access to high speed internet vs. Graduation Rates\")\n",
    "plt.grid(alpha=.5)\n",
    "plt.xlabel('Max Download Speed')\n",
    "plt.ylabel('Four Year Percent')\n",
    "\n",
    "# Show plot and save as .png\n",
    "plt.savefig(\"Images/max_broadband_gradrates.png\")\n",
    "plt.show()\n"
   ]
  },
  {
   "cell_type": "code",
   "execution_count": 77,
   "metadata": {},
   "outputs": [
    {
     "data": {
      "text/plain": [
       "High    254185\n",
       "Low       2256\n",
       "Name: FCC Designation, dtype: int64"
      ]
     },
     "execution_count": 77,
     "metadata": {},
     "output_type": "execute_result"
    }
   ],
   "source": [
    "# Find max speeds above and below the FCC designation of high speed (25MBps)\n",
    "merged_data['FCC Designation'] = \"\"\n",
    "\n",
    "mask = merged_data['Max Down'] >= 25\n",
    "merged_data['FCC Designation'] = np.where(mask, 'High', 'Low')\n",
    "\n",
    "merged_data.head()\n",
    "merged_data['FCC Designation'].value_counts()"
   ]
  },
  {
   "cell_type": "code",
   "execution_count": 78,
   "metadata": {},
   "outputs": [
    {
     "data": {
      "image/png": "[encoded data removed]",
      "text/plain": [
       "<Figure size 432x288 with 1 Axes>"
      ]
     },
     "metadata": {
      "needs_background": "light"
     },
     "output_type": "display_data"
    },
    {
     "data": {
      "text/plain": [
       "<Figure size 720x576 with 0 Axes>"
      ]
     },
     "metadata": {},
     "output_type": "display_data"
    }
   ],
   "source": [
    "# Attempting a simpler line chart\n",
    "grad_rate = merged_data['Four Year Percent']\n",
    "speed = sorted(merged_data['Max Down'])\n",
    "\n",
    "plt.plot(speed, grad_rate, linewidth=1)\n",
    "plt.figure(figsize=(10,8))\n",
    "\n",
    "plt.savefig(\"Images/maxdown_grad_line.png\")\n",
    "plt.show()\n"
   ]
  },
  {
   "cell_type": "code",
   "execution_count": null,
   "metadata": {},
   "outputs": [],
   "source": []
  }
 ],
 "metadata": {
  "kernelspec": {
   "display_name": "Python 3",
   "language": "python",
   "name": "python3"
  },
  "language_info": {
   "codemirror_mode": {
    "name": "ipython",
    "version": 3
   },
   "file_extension": ".py",
   "mimetype": "text/x-python",
   "name": "python",
   "nbconvert_exporter": "python",
   "pygments_lexer": "ipython3",
   "version": "3.7.1"
  }
 },
 "nbformat": 4,
 "nbformat_minor": 2
}
