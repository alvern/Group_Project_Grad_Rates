{
 "cells": [
  {
   "cell_type": "code",
   "execution_count": null,
   "metadata": {},
   "outputs": [],
   "source": [
    "# Dependencies\n",
    "import pandas as pd\n",
    "import os\n",
    "import csv"
   ]
  },
  {
   "cell_type": "code",
   "execution_count": null,
   "metadata": {},
   "outputs": [],
   "source": [
    "# # Kate's Clean-up of Broadband Data - Took massize database, removed unneeded columns\n",
    "# # (only need census block and MaxAdDown - kept MaxAdUp just to be safe). \n",
    "\n",
    "# # Imported MN Broadband Data but file was too big to use efficiently\n",
    "# file = \"Resources/MN-Fixed-Dec2017-v2.csv\"\n",
    "# mn_broadband = pd.read_csv(file)\n",
    "\n",
    "\n",
    "# # For the purposes of the project, we only needed census blocks and MaxAd speeds, all other columns dropped\n",
    "# mn_broadband = mn_broadband.drop([\"LogRecNo\", \"Provider_Id\", \"FRN\", \"ProviderName\", \"DBAName\", \n",
    "#                                   \"HoldingCompanyName\", \"HocoNum\", \"HocoFinal\", \"StateAbbr\", \n",
    "#                                   \"TechCode\", \"Consumer\", \"Business\", \"MaxCIRDown\", \"MaxCIRUp\"], axis=1)\n",
    "\n",
    "# Combine & sort by census block\n",
    "bycode = mn_broadband.groupby('BlockCode')\n",
    "bycode.head()\n",
    "\n",
    "sorted_df = mn_broadband.sort_values(\"BlockCode\")\n",
    "sorted_df.head()\n",
    "\n",
    "# Find Max and Mean speeds by census block\n",
    "bc_max_down = bycode[\"MaxAdDown\"].max()\n",
    "bc_mean_down = bycode[\"MaxAdDown\"].mean()\n",
    "\n",
    "bc_max_up = bycode[\"MaxAdUp\"].max()\n",
    "bc_mean_up = bycode[\"MaxAdUp\"].mean()\n",
    "\n",
    "# Create new dataframe with max and mean speeds by census block\n",
    "broadband_stats = pd.DataFrame({\"Max Down\":bc_max_down, \"Mean Down\":bc_mean_down, \"Max Up\":bc_max_up, \"Mean Up\":bc_mean_up})\n",
    "broadband_stats.head()\n",
    "\n",
    "# Export new dataframe as csv for easier processing with school data\n",
    "broadband_stats.to_csv('broadband_stats.csv')"
   ]
  }
 ],
 "metadata": {
  "kernelspec": {
   "display_name": "Python 3",
   "language": "python",
   "name": "python3"
  },
  "language_info": {
   "codemirror_mode": {
    "name": "ipython",
    "version": 3
   },
   "file_extension": ".py",
   "mimetype": "text/x-python",
   "name": "python",
   "nbconvert_exporter": "python",
   "pygments_lexer": "ipython3",
   "version": "3.7.1"
  }
 },
 "nbformat": 4,
 "nbformat_minor": 2
}
