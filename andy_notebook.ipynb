{
 "cells": [
  {
   "cell_type": "markdown",
   "metadata": {},
   "source": [
    "https://geocoding.geo.census.gov/geocoder/geographies/coordinates?x=-92.775278&y=45.034722&benchmark=9&vintage=910&format=json"
   ]
  },
  {
   "cell_type": "code",
   "execution_count": 1,
   "metadata": {},
   "outputs": [],
   "source": [
    "# Dependencies\n",
    "from census import Census\n",
    "from config import (census_key, gkey)\n",
    "import gmaps\n",
    "import numpy as np\n",
    "import pandas as pd\n",
    "import requests\n",
    "import time\n",
    "from us import states\n",
    "from pprint import pprint\n",
    "\n",
    "# Census API Key\n",
    "c = Census(census_key, year=2013)\n",
    "lat = 45.034722\n",
    "lng = 92.775278\n",
    "#\n",
    "url = f\"https://geocoding.geo.census.gov/geocoder/geographies/coordinates?x=-{lng}&y={lat}&benchmark=9&vintage=910&format=json\"\n",
    "#\n",
    "file = 'Resources/TRI_MN.csv'"
   ]
  },
  {
   "cell_type": "code",
   "execution_count": 2,
   "metadata": {},
   "outputs": [
    {
     "name": "stdout",
     "output_type": "stream",
     "text": [
      "https://geocoding.geo.census.gov/geocoder/geographies/coordinates?x=-92.775278&y=45.034722&benchmark=9&vintage=910&format=json\n"
     ]
    }
   ],
   "source": [
    "print(url)"
   ]
  },
  {
   "cell_type": "code",
   "execution_count": 3,
   "metadata": {},
   "outputs": [
    {
     "name": "stdout",
     "output_type": "stream",
     "text": [
      "{'result': {'geographies': {'Census Blocks': [{'AREALAND': 0,\n",
      "                                               'AREAWATER': 1071481,\n",
      "                                               'BASENAME': '2000',\n",
      "                                               'BLKGRP': '2',\n",
      "                                               'BLOCK': '2000',\n",
      "                                               'CENTLAT': '+45.0360200',\n",
      "                                               'CENTLON': '-092.7786856',\n",
      "                                               'COUNTY': '163',\n",
      "                                               'FUNCSTAT': 'S',\n",
      "                                               'GEOID': '271630707032000',\n",
      "                                               'HU100': 0,\n",
      "                                               'INTPTLAT': '+45.0360200',\n",
      "                                               'INTPTLON': '-092.7786856',\n",
      "                                               'LSADC': 'BK',\n",
      "                                               'LWBLKTYP': 'W',\n",
      "                                               'MTFCC': 'G5040',\n",
      "                                               'NAME': 'Block 2000',\n",
      "                                               'OBJECTID': 5169558,\n",
      "                                               'OID': 210404134250589,\n",
      "                                               'POP100': 0,\n",
      "                                               'STATE': '27',\n",
      "                                               'SUFFIX': '',\n",
      "                                               'TRACT': '070703',\n",
      "                                               'UR': ''}],\n",
      "                            'Census Tracts': [{'status': 'Layer query '\n",
      "                                                         'encountered an '\n",
      "                                                         'error: '\n",
      "                                                         'org.springframework.dao.DataRetrievalFailureException: '\n",
      "                                                         'ArcGIS Error: '\n",
      "                                                         'missing required '\n",
      "                                                         'element for '\n",
      "                                                         'GeoLookup'}],\n",
      "                            'Counties': [{'AREALAND': 995285532,\n",
      "                                          'AREAWATER': 99618899,\n",
      "                                          'BASENAME': 'Washington',\n",
      "                                          'CENTLAT': '+45.0383313',\n",
      "                                          'CENTLON': '-092.8839558',\n",
      "                                          'COUNTY': '163',\n",
      "                                          'COUNTYCC': 'H1',\n",
      "                                          'COUNTYNS': '00659526',\n",
      "                                          'FUNCSTAT': 'A',\n",
      "                                          'GEOID': '27163',\n",
      "                                          'HU100': 92374,\n",
      "                                          'INTPTLAT': '+45.0379290',\n",
      "                                          'INTPTLON': '-092.8901170',\n",
      "                                          'LSADC': '06',\n",
      "                                          'MTFCC': 'G4020',\n",
      "                                          'NAME': 'Washington County',\n",
      "                                          'OBJECTID': 3109,\n",
      "                                          'OID': 27590283618477,\n",
      "                                          'POP100': 238136,\n",
      "                                          'STATE': '27',\n",
      "                                          'UR': ''}],\n",
      "                            'States': [{'AREALAND': 206232309199,\n",
      "                                        'AREAWATER': 18930454637,\n",
      "                                        'BASENAME': 'Minnesota',\n",
      "                                        'CENTLAT': '+46.3164846',\n",
      "                                        'CENTLON': '-094.1982239',\n",
      "                                        'DIVISION': '4',\n",
      "                                        'FUNCSTAT': 'A',\n",
      "                                        'GEOID': '27',\n",
      "                                        'HU100': 2347201,\n",
      "                                        'INTPTLAT': '+46.3161343',\n",
      "                                        'INTPTLON': '-094.1994801',\n",
      "                                        'LSADC': '00',\n",
      "                                        'MTFCC': 'G4000',\n",
      "                                        'NAME': 'Minnesota',\n",
      "                                        'OBJECTID': 45,\n",
      "                                        'OID': 27490186175787,\n",
      "                                        'POP100': 5303925,\n",
      "                                        'REGION': '2',\n",
      "                                        'STATE': '27',\n",
      "                                        'STATENS': '00662849',\n",
      "                                        'STUSAB': 'MN',\n",
      "                                        'UR': ''}]},\n",
      "            'input': {'benchmark': {'benchmarkDescription': 'Public Address '\n",
      "                                                            'Ranges - Census '\n",
      "                                                            '2010 Benchmark',\n",
      "                                    'benchmarkName': 'Public_AR_Census2010',\n",
      "                                    'id': '9',\n",
      "                                    'isDefault': False},\n",
      "                      'location': {'x': -92.775278, 'y': 45.034722},\n",
      "                      'vintage': {'id': '910',\n",
      "                                  'isDefault': True,\n",
      "                                  'vintageDescription': 'Census2010 Vintage - '\n",
      "                                                        'Census2010 Benchmark',\n",
      "                                  'vintageName': 'Census2010_Census2010'}}}}\n"
     ]
    }
   ],
   "source": [
    "response = requests.get(url).json()\n",
    "pprint(response)"
   ]
  },
  {
   "cell_type": "code",
   "execution_count": 4,
   "metadata": {},
   "outputs": [
    {
     "name": "stdout",
     "output_type": "stream",
     "text": [
      "'271630707032000'\n"
     ]
    }
   ],
   "source": [
    "pprint(response['result']['geographies']['Census Blocks'][0]['GEOID'])"
   ]
  },
  {
   "cell_type": "code",
   "execution_count": 5,
   "metadata": {},
   "outputs": [],
   "source": [
    "tri_df = pd.read_csv(file)\n",
    "\n",
    "tri_lat = []\n",
    "tri_lng = []\n",
    "tri_lat = tri_df['/tri_facility/FAC_LATITUDE']\n",
    "tri_lng = tri_df['/tri_facility/FAC_LONGITUDE']"
   ]
  },
  {
   "cell_type": "code",
   "execution_count": 6,
   "metadata": {},
   "outputs": [
    {
     "data": {
      "text/plain": [
       "Index(['Unnamed: 0', '/@Count', '/@Count/#agg', '/@Rows',\n",
       "       '/tri_facility/ASGN_AGENCY', '/tri_facility/ASGN_FEDERAL_IND',\n",
       "       '/tri_facility/ASGN_PARTIAL_IND', '/tri_facility/ASGN_PARTIAL_IND/#agg',\n",
       "       '/tri_facility/ASGN_PUBLIC_CONTACT',\n",
       "       '/tri_facility/ASGN_PUBLIC_CONTACT_EMAIL',\n",
       "       '/tri_facility/ASGN_PUBLIC_PHONE',\n",
       "       '/tri_facility/ASGN_PUBLIC_PHONE_EXT',\n",
       "       '/tri_facility/ASGN_PUBLIC_PHONE_EXT/#agg', '/tri_facility/BIA_CODE',\n",
       "       '/tri_facility/CITY_NAME', '/tri_facility/COUNTY_NAME',\n",
       "       '/tri_facility/FAC_CLOSED_IND', '/tri_facility/FAC_CLOSED_IND/#agg',\n",
       "       '/tri_facility/FAC_LATITUDE', '/tri_facility/FAC_LATITUDE/#agg',\n",
       "       '/tri_facility/FAC_LONGITUDE', '/tri_facility/FAC_LONGITUDE/#agg',\n",
       "       '/tri_facility/FACILITY_NAME', '/tri_facility/FRS_ID',\n",
       "       '/tri_facility/MAIL_CITY', '/tri_facility/MAIL_COUNTRY',\n",
       "       '/tri_facility/MAIL_NAME', '/tri_facility/MAIL_PROVINCE',\n",
       "       '/tri_facility/MAIL_STATE_ABBR', '/tri_facility/MAIL_STREET_ADDRESS',\n",
       "       '/tri_facility/MAIL_ZIP_CODE', '/tri_facility/PARENT_CO_DB_NUM',\n",
       "       '/tri_facility/PARENT_CO_NAME', '/tri_facility/PREF_ACCURACY',\n",
       "       '/tri_facility/PREF_ACCURACY/#agg', '/tri_facility/PREF_COLLECT_METH',\n",
       "       '/tri_facility/PREF_DESC_CATEGORY',\n",
       "       '/tri_facility/PREF_HORIZONTAL_DATUM', '/tri_facility/PREF_LATITUDE',\n",
       "       '/tri_facility/PREF_LATITUDE/#agg', '/tri_facility/PREF_LONGITUDE',\n",
       "       '/tri_facility/PREF_LONGITUDE/#agg', '/tri_facility/PREF_QA_CODE',\n",
       "       '/tri_facility/PREF_QA_CODE/#agg', '/tri_facility/PREF_SOURCE_SCALE',\n",
       "       '/tri_facility/REGION', '/tri_facility/REGION/#agg',\n",
       "       '/tri_facility/STANDARDIZED_PARENT_COMPANY', '/tri_facility/STATE_ABBR',\n",
       "       '/tri_facility/STATE_COUNTY_FIPS_CODE',\n",
       "       '/tri_facility/STATE_COUNTY_FIPS_CODE/#agg',\n",
       "       '/tri_facility/STREET_ADDRESS', '/tri_facility/TRI_FACILITY_ID',\n",
       "       '/tri_facility/ZIP_CODE', '/tri_facility/ZIP_CODE/#agg'],\n",
       "      dtype='object')"
      ]
     },
     "execution_count": 6,
     "metadata": {},
     "output_type": "execute_result"
    }
   ],
   "source": [
    "tri_df.columns"
   ]
  },
  {
   "cell_type": "code",
   "execution_count": 7,
   "metadata": {},
   "outputs": [],
   "source": [
    "tri_df_new = tri_df.groupby(['/tri_facility/FAC_LATITUDE', '/tri_facility/FAC_LONGITUDE', '/tri_facility/FACILITY_NAME' ])\n",
    "tri_ID = tri_df_new['/tri_facility/TRI_FACILITY_ID'].count()\n",
    "tri_clean = pd.DataFrame({ \"TRI Facility ID\" : tri_ID})\n",
    "\n",
    "tri_clean.to_csv('Resources/triclean.csv')"
   ]
  },
  {
   "cell_type": "code",
   "execution_count": 8,
   "metadata": {},
   "outputs": [
    {
     "data": {
      "text/plain": [
       "0          NaN\n",
       "1     450205.0\n",
       "2     450149.0\n",
       "3     453407.0\n",
       "4     453345.0\n",
       "5          NaN\n",
       "6     453451.0\n",
       "7     453416.0\n",
       "8     443110.0\n",
       "9     443106.0\n",
       "10    443114.0\n",
       "11    443108.0\n",
       "12         NaN\n",
       "13         NaN\n",
       "14    444736.0\n",
       "15    444719.0\n",
       "16         NaN\n",
       "17    441740.0\n",
       "18    441736.0\n",
       "19         NaN\n",
       "Name: /tri_facility/FAC_LATITUDE, dtype: float64"
      ]
     },
     "execution_count": 8,
     "metadata": {},
     "output_type": "execute_result"
    }
   ],
   "source": [
    "tri_lat.head(20)"
   ]
  },
  {
   "cell_type": "code",
   "execution_count": 9,
   "metadata": {},
   "outputs": [
    {
     "data": {
      "text/plain": [
       "0          NaN\n",
       "1     924631.0\n",
       "2     924643.0\n",
       "3     931309.0\n",
       "4     931312.0\n",
       "5          NaN\n",
       "6     931255.0\n",
       "7     931258.0\n",
       "8     925411.0\n",
       "9     925413.0\n",
       "10    925418.0\n",
       "11    925403.0\n",
       "12         NaN\n",
       "13         NaN\n",
       "14    925400.0\n",
       "15    925415.0\n",
       "16         NaN\n",
       "17    931550.0\n",
       "18    931736.0\n",
       "19         NaN\n",
       "Name: /tri_facility/FAC_LONGITUDE, dtype: float64"
      ]
     },
     "execution_count": 9,
     "metadata": {},
     "output_type": "execute_result"
    }
   ],
   "source": [
    "tri_lng.head(20)"
   ]
  },
  {
   "cell_type": "code",
   "execution_count": 10,
   "metadata": {},
   "outputs": [
    {
     "data": {
      "text/plain": [
       "/tri_facility/FAC_LATITUDE  /tri_facility/FAC_LONGITUDE  /tri_facility/FACILITY_NAME               \n",
       "0.0                         0.0                          AGGREGATE INDUSTRIES MAPLE GROVE READY MIX    1\n",
       "                                                         AIRGAS SPECIALTY PRODUCTS INC S ST PAUL MN    1\n",
       "                                                         AVEDA CORP                                    1\n",
       "                                                         AYRSHIRE ELECTRONICS MN                       1\n",
       "                                                         AZZ GALVANIZING SERVICES-WINSTED              1\n",
       "Name: /tri_facility/TRI_FACILITY_ID, dtype: int64"
      ]
     },
     "execution_count": 10,
     "metadata": {},
     "output_type": "execute_result"
    }
   ],
   "source": [
    "tri_ID.head()"
   ]
  },
  {
   "cell_type": "code",
   "execution_count": 12,
   "metadata": {},
   "outputs": [],
   "source": [
    "tri_ID = tri_ID.rename(columns={'/tri_facility/FAC_LATITUDE': 'Latitude', '/tri_facility/FAC_LONGITUDE': 'Longitude', '/tri_facility/FACILITY_NAME': 'Facility Name' })"
   ]
  },
  {
   "cell_type": "code",
   "execution_count": 16,
   "metadata": {},
   "outputs": [],
   "source": [
    "tri_ID_df = pd.DataFrame(tri_ID)"
   ]
  },
  {
   "cell_type": "code",
   "execution_count": 18,
   "metadata": {},
   "outputs": [
    {
     "data": {
      "text/html": [
       "<div>\n",
       "<style scoped>\n",
       "    .dataframe tbody tr th:only-of-type {\n",
       "        vertical-align: middle;\n",
       "    }\n",
       "\n",
       "    .dataframe tbody tr th {\n",
       "        vertical-align: top;\n",
       "    }\n",
       "\n",
       "    .dataframe thead th {\n",
       "        text-align: right;\n",
       "    }\n",
       "</style>\n",
       "<table border=\"1\" class=\"dataframe\">\n",
       "  <thead>\n",
       "    <tr style=\"text-align: right;\">\n",
       "      <th></th>\n",
       "      <th></th>\n",
       "      <th></th>\n",
       "      <th>0</th>\n",
       "    </tr>\n",
       "    <tr>\n",
       "      <th>/tri_facility/FAC_LATITUDE</th>\n",
       "      <th>/tri_facility/FAC_LONGITUDE</th>\n",
       "      <th>/tri_facility/FACILITY_NAME</th>\n",
       "      <th></th>\n",
       "    </tr>\n",
       "  </thead>\n",
       "  <tbody>\n",
       "    <tr>\n",
       "      <th rowspan=\"5\" valign=\"top\">0.0</th>\n",
       "      <th rowspan=\"5\" valign=\"top\">0.0</th>\n",
       "      <th>AGGREGATE INDUSTRIES MAPLE GROVE READY MIX</th>\n",
       "      <td>1</td>\n",
       "    </tr>\n",
       "    <tr>\n",
       "      <th>AIRGAS SPECIALTY PRODUCTS INC S ST PAUL MN</th>\n",
       "      <td>1</td>\n",
       "    </tr>\n",
       "    <tr>\n",
       "      <th>AVEDA CORP</th>\n",
       "      <td>1</td>\n",
       "    </tr>\n",
       "    <tr>\n",
       "      <th>AYRSHIRE ELECTRONICS MN</th>\n",
       "      <td>1</td>\n",
       "    </tr>\n",
       "    <tr>\n",
       "      <th>AZZ GALVANIZING SERVICES-WINSTED</th>\n",
       "      <td>1</td>\n",
       "    </tr>\n",
       "  </tbody>\n",
       "</table>\n",
       "</div>"
      ],
      "text/plain": [
       "                                                                                                   0\n",
       "/tri_facility/FAC_LATITUDE /tri_facility/FAC_LONGITUDE /tri_facility/FACILITY_NAME                  \n",
       "0.0                        0.0                         AGGREGATE INDUSTRIES MAPLE GROVE READY MIX  1\n",
       "                                                       AIRGAS SPECIALTY PRODUCTS INC S ST PAUL MN  1\n",
       "                                                       AVEDA CORP                                  1\n",
       "                                                       AYRSHIRE ELECTRONICS MN                     1\n",
       "                                                       AZZ GALVANIZING SERVICES-WINSTED            1"
      ]
     },
     "execution_count": 18,
     "metadata": {},
     "output_type": "execute_result"
    }
   ],
   "source": [
    "tri_ID_df.head()"
   ]
  },
  {
   "cell_type": "code",
   "execution_count": 22,
   "metadata": {},
   "outputs": [],
   "source": [
    "tri_ID_df = tri_ID_df.rename(index={'/tri_facility/FAC_LATITUDE': 'Latitude', '/tri_facility/FAC_LONGITUDE': 'Longitude', '/tri_facility/FACILITY_NAME': 'Facility Name' })"
   ]
  },
  {
   "cell_type": "code",
   "execution_count": 23,
   "metadata": {},
   "outputs": [
    {
     "data": {
      "text/html": [
       "<div>\n",
       "<style scoped>\n",
       "    .dataframe tbody tr th:only-of-type {\n",
       "        vertical-align: middle;\n",
       "    }\n",
       "\n",
       "    .dataframe tbody tr th {\n",
       "        vertical-align: top;\n",
       "    }\n",
       "\n",
       "    .dataframe thead th {\n",
       "        text-align: right;\n",
       "    }\n",
       "</style>\n",
       "<table border=\"1\" class=\"dataframe\">\n",
       "  <thead>\n",
       "    <tr style=\"text-align: right;\">\n",
       "      <th></th>\n",
       "      <th></th>\n",
       "      <th></th>\n",
       "      <th>0</th>\n",
       "    </tr>\n",
       "    <tr>\n",
       "      <th>/tri_facility/FAC_LATITUDE</th>\n",
       "      <th>/tri_facility/FAC_LONGITUDE</th>\n",
       "      <th>/tri_facility/FACILITY_NAME</th>\n",
       "      <th></th>\n",
       "    </tr>\n",
       "  </thead>\n",
       "  <tbody>\n",
       "    <tr>\n",
       "      <th rowspan=\"5\" valign=\"top\">0.0</th>\n",
       "      <th rowspan=\"5\" valign=\"top\">0.0</th>\n",
       "      <th>AGGREGATE INDUSTRIES MAPLE GROVE READY MIX</th>\n",
       "      <td>1</td>\n",
       "    </tr>\n",
       "    <tr>\n",
       "      <th>AIRGAS SPECIALTY PRODUCTS INC S ST PAUL MN</th>\n",
       "      <td>1</td>\n",
       "    </tr>\n",
       "    <tr>\n",
       "      <th>AVEDA CORP</th>\n",
       "      <td>1</td>\n",
       "    </tr>\n",
       "    <tr>\n",
       "      <th>AYRSHIRE ELECTRONICS MN</th>\n",
       "      <td>1</td>\n",
       "    </tr>\n",
       "    <tr>\n",
       "      <th>AZZ GALVANIZING SERVICES-WINSTED</th>\n",
       "      <td>1</td>\n",
       "    </tr>\n",
       "  </tbody>\n",
       "</table>\n",
       "</div>"
      ],
      "text/plain": [
       "                                                                                                   0\n",
       "/tri_facility/FAC_LATITUDE /tri_facility/FAC_LONGITUDE /tri_facility/FACILITY_NAME                  \n",
       "0.0                        0.0                         AGGREGATE INDUSTRIES MAPLE GROVE READY MIX  1\n",
       "                                                       AIRGAS SPECIALTY PRODUCTS INC S ST PAUL MN  1\n",
       "                                                       AVEDA CORP                                  1\n",
       "                                                       AYRSHIRE ELECTRONICS MN                     1\n",
       "                                                       AZZ GALVANIZING SERVICES-WINSTED            1"
      ]
     },
     "execution_count": 23,
     "metadata": {},
     "output_type": "execute_result"
    }
   ],
   "source": [
    "tri_ID_df.head()"
   ]
  },
  {
   "cell_type": "code",
   "execution_count": null,
   "metadata": {},
   "outputs": [],
   "source": []
  }
 ],
 "metadata": {
  "kernelspec": {
   "display_name": "Python 3",
   "language": "python",
   "name": "python3"
  },
  "language_info": {
   "codemirror_mode": {
    "name": "ipython",
    "version": 3
   },
   "file_extension": ".py",
   "mimetype": "text/x-python",
   "name": "python",
   "nbconvert_exporter": "python",
   "pygments_lexer": "ipython3",
   "version": "3.7.3"
  }
 },
 "nbformat": 4,
 "nbformat_minor": 2
}
