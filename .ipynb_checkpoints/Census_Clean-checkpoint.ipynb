{
 "cells": [
  {
   "cell_type": "code",
   "execution_count": 1,
   "metadata": {},
   "outputs": [],
   "source": [
    "%matplotlib notebook"
   ]
  },
  {
   "cell_type": "code",
   "execution_count": 2,
   "metadata": {},
   "outputs": [],
   "source": [
    "import pandas as pd\n",
    "import geopandas as gpd\n",
    "import matplotlib.pyplot as plt"
   ]
  },
  {
   "cell_type": "code",
   "execution_count": 3,
   "metadata": {},
   "outputs": [],
   "source": [
    "census = \"Resources/society_redistricting_2010.gpkg\"\n",
    "school_areas = \"Resources/bdry_school_attendance_areas.gpkg\"\n",
    "\n",
    "census_block_df = gpd.read_file(census)\n",
    "school_area_df = gpd.read_file(school_areas)"
   ]
  },
  {
   "cell_type": "code",
   "execution_count": 4,
   "metadata": {},
   "outputs": [],
   "source": [
    "#Assign spatial reference datum for census block and school spatial dataframes\n",
    "#Note: these spatial dataframes are not in Github due to their size. They have been saved in Google drive due to file size\n",
    "census_block_df = census_block_df.to_crs({'init': 'epsg:26915'})\n",
    "school_area_df = school_area_df.to_crs({'init': 'epsg:26915'})\n",
    "#Intersect the school and census spatial data frames\n",
    "census_school_intersect = gpd.sjoin(census_block_df, school_area_df, how=\"inner\", op='intersects')\n"
   ]
  },
  {
   "cell_type": "code",
   "execution_count": 6,
   "metadata": {},
   "outputs": [],
   "source": [
    "#list the columns in the the intersected file\n",
    "list(census_school_intersect.columns) \n",
    "#Create a subset of the intersected spatial dataframe \n",
    "census_subset=census_school_intersect[['STATE', 'BLOCKGROUP', 'BLOCK', 'TRACT', 'MCD', 'SUBMCD', 'PLACE',  'UNI_NAM', 'HIGH_NAME', 'MIDD_NAME', 'ELEM_NAME', 'POPULATION']]"
   ]
  },
  {
   "cell_type": "code",
   "execution_count": 7,
   "metadata": {},
   "outputs": [],
   "source": [
    "#Create \n",
    "census_subset.to_csv('Resources/census_subset.csv')"
   ]
  },
  {
   "cell_type": "code",
   "execution_count": null,
   "metadata": {},
   "outputs": [],
   "source": []
  }
 ],
 "metadata": {
  "kernelspec": {
   "display_name": "Python 3",
   "language": "python",
   "name": "python3"
  },
  "language_info": {
   "codemirror_mode": {
    "name": "ipython",
    "version": 3
   },
   "file_extension": ".py",
   "mimetype": "text/x-python",
   "name": "python",
   "nbconvert_exporter": "python",
   "pygments_lexer": "ipython3",
   "version": "3.7.3"
  }
 },
 "nbformat": 4,
 "nbformat_minor": 2
}
