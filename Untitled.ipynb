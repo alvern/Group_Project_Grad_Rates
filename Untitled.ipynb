{
 "cells": [
  {
   "cell_type": "code",
   "execution_count": 1,
   "metadata": {},
   "outputs": [],
   "source": [
    "# Dependencies and Setup\n",
    "import matplotlib.pyplot as plt\n",
    "import pandas as pd\n",
    "import numpy as np"
   ]
  },
  {
   "cell_type": "code",
   "execution_count": 2,
   "metadata": {},
   "outputs": [],
   "source": [
    "# Import broadband stats and grad rate data\n",
    "broadband = pd.read_csv(\"Resources/mn_broadband_stats.csv\")\n",
    "grad_data = pd.read_csv(\"Resources/district_grouped_mean.csv\")"
   ]
  },
  {
   "cell_type": "code",
   "execution_count": 3,
   "metadata": {},
   "outputs": [
    {
     "data": {
      "text/html": [
       "<div>\n",
       "<style scoped>\n",
       "    .dataframe tbody tr th:only-of-type {\n",
       "        vertical-align: middle;\n",
       "    }\n",
       "\n",
       "    .dataframe tbody tr th {\n",
       "        vertical-align: top;\n",
       "    }\n",
       "\n",
       "    .dataframe thead th {\n",
       "        text-align: right;\n",
       "    }\n",
       "</style>\n",
       "<table border=\"1\" class=\"dataframe\">\n",
       "  <thead>\n",
       "    <tr style=\"text-align: right;\">\n",
       "      <th></th>\n",
       "      <th>BLOCK</th>\n",
       "      <th>Max Down</th>\n",
       "      <th>Mean Down</th>\n",
       "      <th>Max Up</th>\n",
       "      <th>Mean Up</th>\n",
       "      <th>Four Year Percent</th>\n",
       "      <th>Four Year Total</th>\n",
       "    </tr>\n",
       "  </thead>\n",
       "  <tbody>\n",
       "    <tr>\n",
       "      <th>0</th>\n",
       "      <td>270017701001000</td>\n",
       "      <td>30.0</td>\n",
       "      <td>14.25</td>\n",
       "      <td>3.0</td>\n",
       "      <td>1.825</td>\n",
       "      <td>89</td>\n",
       "      <td>89</td>\n",
       "    </tr>\n",
       "    <tr>\n",
       "      <th>1</th>\n",
       "      <td>270017701001001</td>\n",
       "      <td>30.0</td>\n",
       "      <td>14.25</td>\n",
       "      <td>3.0</td>\n",
       "      <td>1.825</td>\n",
       "      <td>89</td>\n",
       "      <td>89</td>\n",
       "    </tr>\n",
       "    <tr>\n",
       "      <th>2</th>\n",
       "      <td>270017701001002</td>\n",
       "      <td>30.0</td>\n",
       "      <td>14.25</td>\n",
       "      <td>3.0</td>\n",
       "      <td>1.825</td>\n",
       "      <td>89</td>\n",
       "      <td>89</td>\n",
       "    </tr>\n",
       "    <tr>\n",
       "      <th>3</th>\n",
       "      <td>270017701001003</td>\n",
       "      <td>30.0</td>\n",
       "      <td>14.25</td>\n",
       "      <td>3.0</td>\n",
       "      <td>1.825</td>\n",
       "      <td>90</td>\n",
       "      <td>21</td>\n",
       "    </tr>\n",
       "    <tr>\n",
       "      <th>4</th>\n",
       "      <td>270017701001004</td>\n",
       "      <td>30.0</td>\n",
       "      <td>14.25</td>\n",
       "      <td>3.0</td>\n",
       "      <td>1.825</td>\n",
       "      <td>89</td>\n",
       "      <td>89</td>\n",
       "    </tr>\n",
       "  </tbody>\n",
       "</table>\n",
       "</div>"
      ],
      "text/plain": [
       "             BLOCK  Max Down  Mean Down  Max Up  Mean Up  Four Year Percent  \\\n",
       "0  270017701001000      30.0      14.25     3.0    1.825                 89   \n",
       "1  270017701001001      30.0      14.25     3.0    1.825                 89   \n",
       "2  270017701001002      30.0      14.25     3.0    1.825                 89   \n",
       "3  270017701001003      30.0      14.25     3.0    1.825                 90   \n",
       "4  270017701001004      30.0      14.25     3.0    1.825                 89   \n",
       "\n",
       "   Four Year Total  \n",
       "0               89  \n",
       "1               89  \n",
       "2               89  \n",
       "3               21  \n",
       "4               89  "
      ]
     },
     "execution_count": 3,
     "metadata": {},
     "output_type": "execute_result"
    }
   ],
   "source": [
    "# Merge on census block\n",
    "merged_data = pd.merge(broadband, grad_data, on=\"BLOCK\")\n",
    "\n",
    "# Save to CSV\n",
    "merged_data.to_csv('Resources/broadband_and_gradrates.csv')\n",
    "merged_data.head()"
   ]
  },
  {
   "cell_type": "code",
   "execution_count": 9,
   "metadata": {},
   "outputs": [
    {
     "name": "stdout",
     "output_type": "stream",
     "text": [
      "Mean grad rate in low speed blocks: 85.86037234042553\n",
      "Mean grad rate in high speed blocks: 82.48307335208608\n",
      "Mean grad rate in all blocks: 82.51278461712441\n"
     ]
    }
   ],
   "source": [
    "fcc_low_blocks = merged_data.loc[merged_data['Max Down'] < 25, :]\n",
    "fcc_high_blocks = merged_data.loc[merged_data['Max Down'] >= 25, :]\n",
    "\n",
    "low_mean_grad_rate = fcc_low_blocks['Four Year Percent'].mean()\n",
    "high_mean_grad_rate = fcc_high_blocks['Four Year Percent'].mean()\n",
    "overall_mean = merged_data['Four Year Percent'].mean()\n",
    "\n",
    "print(\"Mean grad rate in low speed blocks: \" + str(low_mean_grad_rate))\n",
    "print(\"Mean grad rate in high speed blocks: \" + str(high_mean_grad_rate))\n",
    "print(\"Mean grad rate in all blocks: \" + str(overall_mean))\n"
   ]
  },
  {
   "cell_type": "code",
   "execution_count": null,
   "metadata": {},
   "outputs": [],
   "source": []
  },
  {
   "cell_type": "code",
   "execution_count": null,
   "metadata": {},
   "outputs": [],
   "source": []
  },
  {
   "cell_type": "code",
   "execution_count": null,
   "metadata": {},
   "outputs": [],
   "source": []
  }
 ],
 "metadata": {
  "kernelspec": {
   "display_name": "Python 3",
   "language": "python",
   "name": "python3"
  },
  "language_info": {
   "codemirror_mode": {
    "name": "ipython",
    "version": 3
   },
   "file_extension": ".py",
   "mimetype": "text/x-python",
   "name": "python",
   "nbconvert_exporter": "python",
   "pygments_lexer": "ipython3",
   "version": "3.7.1"
  }
 },
 "nbformat": 4,
 "nbformat_minor": 2
}
