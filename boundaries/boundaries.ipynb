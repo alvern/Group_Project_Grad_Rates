{
 "cells": [
  {
   "cell_type": "code",
   "execution_count": 1,
   "metadata": {},
   "outputs": [],
   "source": [
    "import pandas as pd\n",
    "import geopandas as gpd\n"
   ]
  },
  {
   "cell_type": "code",
   "execution_count": 3,
   "metadata": {},
   "outputs": [],
   "source": [
    "file = 'bdry_school_attendance_areas.gdb'\n",
    "shp_df = gpd.read_file(file)"
   ]
  },
  {
   "cell_type": "code",
   "execution_count": 4,
   "metadata": {},
   "outputs": [
    {
     "data": {
      "text/html": [
       "<div>\n",
       "<style scoped>\n",
       "    .dataframe tbody tr th:only-of-type {\n",
       "        vertical-align: middle;\n",
       "    }\n",
       "\n",
       "    .dataframe tbody tr th {\n",
       "        vertical-align: top;\n",
       "    }\n",
       "\n",
       "    .dataframe thead th {\n",
       "        text-align: right;\n",
       "    }\n",
       "</style>\n",
       "<table border=\"1\" class=\"dataframe\">\n",
       "  <thead>\n",
       "    <tr style=\"text-align: right;\">\n",
       "      <th></th>\n",
       "      <th>Shape_Length</th>\n",
       "      <th>Shape_Area</th>\n",
       "      <th>UNI_TYP</th>\n",
       "      <th>UNI_MAJ</th>\n",
       "      <th>UNI_NAM</th>\n",
       "      <th>ELEM_NAME</th>\n",
       "      <th>MIDD_NAME</th>\n",
       "      <th>HIGH_NAME</th>\n",
       "      <th>geometry</th>\n",
       "    </tr>\n",
       "  </thead>\n",
       "  <tbody>\n",
       "    <tr>\n",
       "      <th>0</th>\n",
       "      <td>26178.487805</td>\n",
       "      <td>1.954316e+07</td>\n",
       "      <td>01</td>\n",
       "      <td>0000</td>\n",
       "      <td>Minneapolis-Saint Paul Intl Airport</td>\n",
       "      <td></td>\n",
       "      <td></td>\n",
       "      <td></td>\n",
       "      <td>(POLYGON ((485953.9400000004 4970757.689999999...</td>\n",
       "    </tr>\n",
       "    <tr>\n",
       "      <th>1</th>\n",
       "      <td>274684.806259</td>\n",
       "      <td>2.129586e+09</td>\n",
       "      <td>01</td>\n",
       "      <td>0001</td>\n",
       "      <td>Aitkin</td>\n",
       "      <td>RIPPLESIDE</td>\n",
       "      <td></td>\n",
       "      <td>AITKIN</td>\n",
       "      <td>(POLYGON ((470301 5190700, 470698.9540999997 5...</td>\n",
       "    </tr>\n",
       "    <tr>\n",
       "      <th>2</th>\n",
       "      <td>8763.507360</td>\n",
       "      <td>3.653680e+06</td>\n",
       "      <td>03</td>\n",
       "      <td>0001</td>\n",
       "      <td>Minneapolis</td>\n",
       "      <td>ANDERSEN</td>\n",
       "      <td>ANDERSEN &amp; SANFORD</td>\n",
       "      <td>SOUTH</td>\n",
       "      <td>(POLYGON ((480088.0308999997 4978042.0956, 480...</td>\n",
       "    </tr>\n",
       "    <tr>\n",
       "      <th>3</th>\n",
       "      <td>13747.352019</td>\n",
       "      <td>7.073742e+06</td>\n",
       "      <td>03</td>\n",
       "      <td>0001</td>\n",
       "      <td>Minneapolis</td>\n",
       "      <td>ANNE SULLIVAN</td>\n",
       "      <td>ANNE SULLIVAN &amp; SANFORD</td>\n",
       "      <td>SOUTH</td>\n",
       "      <td>(POLYGON ((480883.4464999996 4980570.381899999...</td>\n",
       "    </tr>\n",
       "    <tr>\n",
       "      <th>4</th>\n",
       "      <td>10637.296909</td>\n",
       "      <td>5.191875e+06</td>\n",
       "      <td>03</td>\n",
       "      <td>0001</td>\n",
       "      <td>Minneapolis</td>\n",
       "      <td>BETHUNE</td>\n",
       "      <td>FRANKLIN</td>\n",
       "      <td>NORTH</td>\n",
       "      <td>(POLYGON ((478292.0543999998 4982879.209000001...</td>\n",
       "    </tr>\n",
       "  </tbody>\n",
       "</table>\n",
       "</div>"
      ],
      "text/plain": [
       "    Shape_Length    Shape_Area UNI_TYP UNI_MAJ  \\\n",
       "0   26178.487805  1.954316e+07      01    0000   \n",
       "1  274684.806259  2.129586e+09      01    0001   \n",
       "2    8763.507360  3.653680e+06      03    0001   \n",
       "3   13747.352019  7.073742e+06      03    0001   \n",
       "4   10637.296909  5.191875e+06      03    0001   \n",
       "\n",
       "                               UNI_NAM      ELEM_NAME  \\\n",
       "0  Minneapolis-Saint Paul Intl Airport                  \n",
       "1                               Aitkin     RIPPLESIDE   \n",
       "2                          Minneapolis       ANDERSEN   \n",
       "3                          Minneapolis  ANNE SULLIVAN   \n",
       "4                          Minneapolis        BETHUNE   \n",
       "\n",
       "                 MIDD_NAME HIGH_NAME  \\\n",
       "0                                      \n",
       "1                             AITKIN   \n",
       "2       ANDERSEN & SANFORD     SOUTH   \n",
       "3  ANNE SULLIVAN & SANFORD     SOUTH   \n",
       "4                 FRANKLIN     NORTH   \n",
       "\n",
       "                                            geometry  \n",
       "0  (POLYGON ((485953.9400000004 4970757.689999999...  \n",
       "1  (POLYGON ((470301 5190700, 470698.9540999997 5...  \n",
       "2  (POLYGON ((480088.0308999997 4978042.0956, 480...  \n",
       "3  (POLYGON ((480883.4464999996 4980570.381899999...  \n",
       "4  (POLYGON ((478292.0543999998 4982879.209000001...  "
      ]
     },
     "execution_count": 4,
     "metadata": {},
     "output_type": "execute_result"
    }
   ],
   "source": [
    "shp_df.head()"
   ]
  },
  {
   "cell_type": "code",
   "execution_count": 7,
   "metadata": {},
   "outputs": [],
   "source": [
    "shp_df.to_csv('shp_df.csv')"
   ]
  },
  {
   "cell_type": "code",
   "execution_count": null,
   "metadata": {},
   "outputs": [],
   "source": []
  }
 ],
 "metadata": {
  "kernelspec": {
   "display_name": "Python 3",
   "language": "python",
   "name": "python3"
  },
  "language_info": {
   "codemirror_mode": {
    "name": "ipython",
    "version": 3
   },
   "file_extension": ".py",
   "mimetype": "text/x-python",
   "name": "python",
   "nbconvert_exporter": "python",
   "pygments_lexer": "ipython3",
   "version": "3.7.3"
  }
 },
 "nbformat": 4,
 "nbformat_minor": 2
}
